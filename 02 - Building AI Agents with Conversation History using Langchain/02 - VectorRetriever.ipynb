{
 "cells": [
  {
   "cell_type": "markdown",
   "id": "ffce1caa",
   "metadata": {},
   "source": [
    "## Vector Stores and Retrievers"
   ]
  },
  {
   "cell_type": "code",
   "execution_count": 9,
   "id": "d28de28f",
   "metadata": {},
   "outputs": [],
   "source": [
    "from dotenv import load_dotenv\n",
    "from langchain_chroma import Chroma\n",
    "from langchain_core.documents import Document\n",
    "from langchain_huggingface import HuggingFaceEmbeddings\n",
    "from langchain.chat_models import init_chat_model"
   ]
  },
  {
   "cell_type": "code",
   "execution_count": 10,
   "id": "81903033",
   "metadata": {},
   "outputs": [
    {
     "data": {
      "text/plain": [
       "True"
      ]
     },
     "execution_count": 10,
     "metadata": {},
     "output_type": "execute_result"
    }
   ],
   "source": [
    "load_dotenv()"
   ]
  },
  {
   "cell_type": "code",
   "execution_count": 6,
   "id": "b54821e8",
   "metadata": {},
   "outputs": [],
   "source": [
    "# Documents\n",
    "documents = [\n",
    "    Document(\n",
    "        page_content=\"Dogs are greate companions, known for their loyality and friendliness\",\n",
    "        metadata={\"source\": \"mammal-pets-doc\"}\n",
    "    ),\n",
    "    Document(\n",
    "        page_content=\"Cats are independent pets that often enjoy their own space\",\n",
    "        metadata={\"source\": \"mammal-pets-doc\"}\n",
    "    ),\n",
    "    Document(\n",
    "        page_content=\"Goldfish are popular pets for beginners, requiring relatively simple care.\",\n",
    "        metadata={\"source\": \"fish-pets-doc\"}\n",
    "    ),\n",
    "    Document(\n",
    "        page_content=\"Rabbits are social animals that need plenty of space to hop around\",\n",
    "        metadata={\"source\": \"mammal-pets-doc\"}\n",
    "    )\n",
    "]"
   ]
  },
  {
   "cell_type": "code",
   "execution_count": 12,
   "id": "1ffb6098",
   "metadata": {},
   "outputs": [
    {
     "name": "stderr",
     "output_type": "stream",
     "text": [
      "d:\\LangGraph-Zero-to-Hero\\venv\\Lib\\site-packages\\tqdm\\auto.py:21: TqdmWarning: IProgress not found. Please update jupyter and ipywidgets. See https://ipywidgets.readthedocs.io/en/stable/user_install.html\n",
      "  from .autonotebook import tqdm as notebook_tqdm\n"
     ]
    }
   ],
   "source": [
    "model = init_chat_model(\"gemma2-9b-it\", model_provider=\"groq\")\n",
    "embeddings = HuggingFaceEmbeddings(model_name=\"all-MiniLM-L6-v2\")"
   ]
  },
  {
   "cell_type": "code",
   "execution_count": 13,
   "id": "1ae9d9d5",
   "metadata": {},
   "outputs": [],
   "source": [
    "# Vector Store\n",
    "vector_store = Chroma.from_documents(documents, embeddings)"
   ]
  },
  {
   "cell_type": "code",
   "execution_count": 14,
   "id": "ee5e9993",
   "metadata": {},
   "outputs": [
    {
     "data": {
      "text/plain": [
       "[Document(id='d0ce75ad-f688-4470-89f9-7ef35879bc6c', metadata={'source': 'mammal-pets-doc'}, page_content='Cats are independent pets that often enjoy their own space'),\n",
       " Document(id='71c029a9-d88c-4e89-acf6-c8d6ab64ed49', metadata={'source': 'mammal-pets-doc'}, page_content='Rabbits are social animals that need plenty of space to hop around'),\n",
       " Document(id='8fe61403-f1a8-4ea1-b2c9-d4875b920e53', metadata={'source': 'mammal-pets-doc'}, page_content='Dogs are greate companions, known for their loyality and friendliness'),\n",
       " Document(id='f88ed6f3-6423-417e-b801-97243bdfad7b', metadata={'source': 'fish-pets-doc'}, page_content='Goldfish are popular pets for beginners, requiring relatively simple care.')]"
      ]
     },
     "execution_count": 14,
     "metadata": {},
     "output_type": "execute_result"
    }
   ],
   "source": [
    "vector_store.similarity_search(\"cat\")"
   ]
  },
  {
   "cell_type": "code",
   "execution_count": 15,
   "id": "5cbf4da3",
   "metadata": {},
   "outputs": [
    {
     "data": {
      "text/plain": [
       "[Document(id='d0ce75ad-f688-4470-89f9-7ef35879bc6c', metadata={'source': 'mammal-pets-doc'}, page_content='Cats are independent pets that often enjoy their own space'),\n",
       " Document(id='71c029a9-d88c-4e89-acf6-c8d6ab64ed49', metadata={'source': 'mammal-pets-doc'}, page_content='Rabbits are social animals that need plenty of space to hop around'),\n",
       " Document(id='8fe61403-f1a8-4ea1-b2c9-d4875b920e53', metadata={'source': 'mammal-pets-doc'}, page_content='Dogs are greate companions, known for their loyality and friendliness'),\n",
       " Document(id='f88ed6f3-6423-417e-b801-97243bdfad7b', metadata={'source': 'fish-pets-doc'}, page_content='Goldfish are popular pets for beginners, requiring relatively simple care.')]"
      ]
     },
     "execution_count": 15,
     "metadata": {},
     "output_type": "execute_result"
    }
   ],
   "source": [
    "await vector_store.asimilarity_search(\"cat\")"
   ]
  },
  {
   "cell_type": "code",
   "execution_count": 16,
   "id": "a3f846b0",
   "metadata": {},
   "outputs": [
    {
     "data": {
      "text/plain": [
       "[(Document(id='8fe61403-f1a8-4ea1-b2c9-d4875b920e53', metadata={'source': 'mammal-pets-doc'}, page_content='Dogs are greate companions, known for their loyality and friendliness'),\n",
       "  1.1274324655532837),\n",
       " (Document(id='d0ce75ad-f688-4470-89f9-7ef35879bc6c', metadata={'source': 'mammal-pets-doc'}, page_content='Cats are independent pets that often enjoy their own space'),\n",
       "  1.4828627109527588),\n",
       " (Document(id='71c029a9-d88c-4e89-acf6-c8d6ab64ed49', metadata={'source': 'mammal-pets-doc'}, page_content='Rabbits are social animals that need plenty of space to hop around'),\n",
       "  1.646347999572754),\n",
       " (Document(id='f88ed6f3-6423-417e-b801-97243bdfad7b', metadata={'source': 'fish-pets-doc'}, page_content='Goldfish are popular pets for beginners, requiring relatively simple care.'),\n",
       "  1.6571112871170044)]"
      ]
     },
     "execution_count": 16,
     "metadata": {},
     "output_type": "execute_result"
    }
   ],
   "source": [
    "vector_store.similarity_search_with_score(\"Dog\")"
   ]
  },
  {
   "cell_type": "markdown",
   "id": "e6b6f26f",
   "metadata": {},
   "source": [
    "### Retrievers"
   ]
  },
  {
   "cell_type": "code",
   "execution_count": 21,
   "id": "01b9430a",
   "metadata": {},
   "outputs": [],
   "source": [
    "from langchain_core.runnables import RunnableLambda"
   ]
  },
  {
   "cell_type": "code",
   "execution_count": 24,
   "id": "fa5b05ca",
   "metadata": {},
   "outputs": [
    {
     "data": {
      "text/plain": [
       "[[Document(id='d0ce75ad-f688-4470-89f9-7ef35879bc6c', metadata={'source': 'mammal-pets-doc'}, page_content='Cats are independent pets that often enjoy their own space')],\n",
       " [Document(id='8fe61403-f1a8-4ea1-b2c9-d4875b920e53', metadata={'source': 'mammal-pets-doc'}, page_content='Dogs are greate companions, known for their loyality and friendliness')]]"
      ]
     },
     "execution_count": 24,
     "metadata": {},
     "output_type": "execute_result"
    }
   ],
   "source": [
    "# Method 1: Not that good\n",
    "retriever = RunnableLambda(vector_store.similarity_search).bind(k=1)\n",
    "retriever.batch([\"cat\", \"dog\"])"
   ]
  },
  {
   "cell_type": "code",
   "execution_count": 26,
   "id": "10fcc3d9",
   "metadata": {},
   "outputs": [],
   "source": [
    "# Method 2: Best method\n",
    "retriever = vector_store.as_retriever(\n",
    "    search_type=\"similarity\",\n",
    "    search_kwargs={\n",
    "        \"k\": 1\n",
    "    }\n",
    ")"
   ]
  },
  {
   "cell_type": "code",
   "execution_count": 28,
   "id": "e3bde004",
   "metadata": {},
   "outputs": [
    {
     "data": {
      "text/plain": [
       "[[Document(id='d0ce75ad-f688-4470-89f9-7ef35879bc6c', metadata={'source': 'mammal-pets-doc'}, page_content='Cats are independent pets that often enjoy their own space')],\n",
       " [Document(id='8fe61403-f1a8-4ea1-b2c9-d4875b920e53', metadata={'source': 'mammal-pets-doc'}, page_content='Dogs are greate companions, known for their loyality and friendliness')]]"
      ]
     },
     "execution_count": 28,
     "metadata": {},
     "output_type": "execute_result"
    }
   ],
   "source": [
    "retriever.batch([\"cat\", \"dog\"])"
   ]
  },
  {
   "cell_type": "markdown",
   "id": "7f7ce7f1",
   "metadata": {},
   "source": [
    "## Retriever with Chain"
   ]
  },
  {
   "cell_type": "code",
   "execution_count": 31,
   "id": "d57a3a2f",
   "metadata": {},
   "outputs": [],
   "source": [
    "from langchain_core.prompts import ChatPromptTemplate\n",
    "from langchain_core.runnables import RunnablePassthrough\n",
    "from langchain_core.output_parsers import StrOutputParser"
   ]
  },
  {
   "cell_type": "code",
   "execution_count": 30,
   "id": "cac28bd4",
   "metadata": {},
   "outputs": [],
   "source": [
    "template = (\n",
    "\"\"\"\n",
    "Answer the question using the provided context only.\n",
    "\n",
    "Question: {question}\n",
    "Context: {context}\n",
    "\"\"\"\n",
    ")\n",
    "prompt = ChatPromptTemplate.from_messages([(\"human\", template)])"
   ]
  },
  {
   "cell_type": "code",
   "execution_count": 32,
   "id": "ab8798e1",
   "metadata": {},
   "outputs": [],
   "source": [
    "# Chain\n",
    "chain = (\n",
    "    {\"context\": retriever, \"question\": RunnablePassthrough()}\n",
    "    | prompt\n",
    "    | model\n",
    "    | StrOutputParser()\n",
    ")"
   ]
  },
  {
   "cell_type": "code",
   "execution_count": 36,
   "id": "7f6d3643",
   "metadata": {},
   "outputs": [
    {
     "data": {
      "text/plain": [
       "'Dogs are great companions, known for their loyalty and friendliness.  \\n'"
      ]
     },
     "execution_count": 36,
     "metadata": {},
     "output_type": "execute_result"
    }
   ],
   "source": [
    "chain.invoke(\"Tell me about dogs\")"
   ]
  },
  {
   "cell_type": "code",
   "execution_count": null,
   "id": "b1b0a880",
   "metadata": {},
   "outputs": [],
   "source": []
  },
  {
   "cell_type": "code",
   "execution_count": null,
   "id": "4282794f",
   "metadata": {},
   "outputs": [],
   "source": []
  }
 ],
 "metadata": {
  "kernelspec": {
   "display_name": "Python 3",
   "language": "python",
   "name": "python3"
  },
  "language_info": {
   "codemirror_mode": {
    "name": "ipython",
    "version": 3
   },
   "file_extension": ".py",
   "mimetype": "text/x-python",
   "name": "python",
   "nbconvert_exporter": "python",
   "pygments_lexer": "ipython3",
   "version": "3.12.11"
  }
 },
 "nbformat": 4,
 "nbformat_minor": 5
}
