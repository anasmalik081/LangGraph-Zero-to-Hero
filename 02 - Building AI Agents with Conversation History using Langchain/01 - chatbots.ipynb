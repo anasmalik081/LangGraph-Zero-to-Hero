{
 "cells": [
  {
   "cell_type": "code",
   "execution_count": 1,
   "id": "7cc0a851",
   "metadata": {},
   "outputs": [
    {
     "data": {
      "text/plain": [
       "True"
      ]
     },
     "execution_count": 1,
     "metadata": {},
     "output_type": "execute_result"
    }
   ],
   "source": [
    "from dotenv import load_dotenv\n",
    "load_dotenv()"
   ]
  },
  {
   "cell_type": "code",
   "execution_count": 2,
   "id": "10aa839a",
   "metadata": {},
   "outputs": [],
   "source": [
    "# Loading the model\n",
    "from langchain.chat_models import init_chat_model\n",
    "model = init_chat_model(\"gemma2-9b-it\", model_provider=\"groq\")"
   ]
  },
  {
   "cell_type": "code",
   "execution_count": 3,
   "id": "f595d242",
   "metadata": {},
   "outputs": [
    {
     "data": {
      "text/plain": [
       "AIMessage(content=\"Hi Anas, it's nice to meet you! That's a fascinating field. \\n\\nWhat kind of AI engineering are you focused on?  Do you have any particular projects you're working on that you'd like to talk about?  I'm always interested in learning more about what people are doing in the world of AI. 😊  \\n\\n\", additional_kwargs={}, response_metadata={'token_usage': {'completion_tokens': 77, 'prompt_tokens': 21, 'total_tokens': 98, 'completion_time': 0.14, 'prompt_time': 0.002118051, 'queue_time': 0.268114608, 'total_time': 0.142118051}, 'model_name': 'gemma2-9b-it', 'system_fingerprint': 'fp_10c08bf97d', 'finish_reason': 'stop', 'logprobs': None}, id='run--06117cf3-ed95-4a6e-9390-5ef1ff321f7c-0', usage_metadata={'input_tokens': 21, 'output_tokens': 77, 'total_tokens': 98})"
      ]
     },
     "execution_count": 3,
     "metadata": {},
     "output_type": "execute_result"
    }
   ],
   "source": [
    "from langchain_core.messages import HumanMessage\n",
    "model.invoke([\n",
    "    HumanMessage(content=\"Hi My name is Anas and I am a AI Engineer.\")\n",
    "])"
   ]
  },
  {
   "cell_type": "code",
   "execution_count": 4,
   "id": "e4123ad0",
   "metadata": {},
   "outputs": [
    {
     "data": {
      "text/plain": [
       "AIMessage(content=\"You are Anas Malik, and you are an AI Engineer! \\n\\nIs there anything else you'd like to know or discuss? 😊  \\n\", additional_kwargs={}, response_metadata={'token_usage': {'completion_tokens': 32, 'prompt_tokens': 76, 'total_tokens': 108, 'completion_time': 0.058181818, 'prompt_time': 0.00380981, 'queue_time': 0.26055656, 'total_time': 0.061991628}, 'model_name': 'gemma2-9b-it', 'system_fingerprint': 'fp_10c08bf97d', 'finish_reason': 'stop', 'logprobs': None}, id='run--dc91de78-4d9e-4069-8398-76ddab44f78c-0', usage_metadata={'input_tokens': 76, 'output_tokens': 32, 'total_tokens': 108})"
      ]
     },
     "execution_count": 4,
     "metadata": {},
     "output_type": "execute_result"
    }
   ],
   "source": [
    "from langchain_core.messages import AIMessage\n",
    "model.invoke([\n",
    "    HumanMessage(content=\"Hi, My name is Anas Malik and I am an AI Engineer.\"),\n",
    "    AIMessage(content=\"Hi Anas, it's nice to meet you! That's a fascinating field. \\n\\nWhat kind of AI engineering are you focused on?\"),\n",
    "    HumanMessage(content=\"Hey, what's my name and what do I do ?\")\n",
    "])"
   ]
  },
  {
   "cell_type": "markdown",
   "id": "2f2dd1c7",
   "metadata": {},
   "source": [
    "## Message History"
   ]
  },
  {
   "cell_type": "code",
   "execution_count": 5,
   "id": "05d57d41",
   "metadata": {},
   "outputs": [],
   "source": [
    "from langchain_core.chat_history import BaseChatMessageHistory\n",
    "from langchain_core.runnables import RunnableWithMessageHistory\n",
    "from langchain_community.chat_message_histories import ChatMessageHistory"
   ]
  },
  {
   "cell_type": "code",
   "execution_count": 6,
   "id": "36101113",
   "metadata": {},
   "outputs": [],
   "source": [
    "store = {}\n",
    "\n",
    "def get_session_history(session_id: str) -> BaseChatMessageHistory:\n",
    "    if session_id not in store:\n",
    "        store[session_id] = ChatMessageHistory()\n",
    "    return store[session_id]"
   ]
  },
  {
   "cell_type": "code",
   "execution_count": 8,
   "id": "d4952fba",
   "metadata": {},
   "outputs": [],
   "source": [
    "with_message_history = RunnableWithMessageHistory(\n",
    "    model,\n",
    "    get_session_history\n",
    ")"
   ]
  },
  {
   "cell_type": "code",
   "execution_count": 7,
   "id": "9f34cbff",
   "metadata": {},
   "outputs": [],
   "source": [
    "config = {\"configurable\": {\"session_id\": \"chat1\"}}"
   ]
  },
  {
   "cell_type": "code",
   "execution_count": 9,
   "id": "2b7b9b95",
   "metadata": {},
   "outputs": [
    {
     "data": {
      "text/plain": [
       "AIMessage(content=\"Hi Anas Malik, it's nice to meet you!\\n\\nBeing an AI Engineer is fascinating. What kind of projects are you working on these days?  \\n\\nI'm always eager to learn more about the work people are doing in the field of AI.\\n\", additional_kwargs={}, response_metadata={'token_usage': {'completion_tokens': 56, 'prompt_tokens': 23, 'total_tokens': 79, 'completion_time': 0.101818182, 'prompt_time': 0.0026179, 'queue_time': 0.26785173, 'total_time': 0.104436082}, 'model_name': 'gemma2-9b-it', 'system_fingerprint': 'fp_10c08bf97d', 'finish_reason': 'stop', 'logprobs': None}, id='run--6522adc1-ab73-45ac-8128-1933878340d9-0', usage_metadata={'input_tokens': 23, 'output_tokens': 56, 'total_tokens': 79})"
      ]
     },
     "execution_count": 9,
     "metadata": {},
     "output_type": "execute_result"
    }
   ],
   "source": [
    "with_message_history.invoke(\n",
    "    [\n",
    "        HumanMessage(content=\"Hi, My name is Anas Malik and I am an AI Engineer.\")\n",
    "    ],\n",
    "    config=config\n",
    ")"
   ]
  },
  {
   "cell_type": "code",
   "execution_count": 10,
   "id": "e174fa93",
   "metadata": {},
   "outputs": [
    {
     "data": {
      "text/plain": [
       "\"You said your name is Anas Malik and that you are an AI Engineer. 😊  \\n\\nIs there anything else you'd like to tell me about yourself or your work?  I'm happy to chat!\\n\""
      ]
     },
     "execution_count": 10,
     "metadata": {},
     "output_type": "execute_result"
    }
   ],
   "source": [
    "response = with_message_history.invoke(\n",
    "    [\n",
    "        HumanMessage(content=\"What is my name and what do I do ?\")\n",
    "    ],\n",
    "    config=config\n",
    ")\n",
    "response.content"
   ]
  },
  {
   "cell_type": "code",
   "execution_count": 11,
   "id": "c0b6ada1",
   "metadata": {},
   "outputs": [],
   "source": [
    "# Change the config\n",
    "config = {\"configurable\": {\"session_id\": \"chat2\"}}"
   ]
  },
  {
   "cell_type": "code",
   "execution_count": 12,
   "id": "999a3a4e",
   "metadata": {},
   "outputs": [
    {
     "data": {
      "text/plain": [
       "'As a large language model, I have no memory of past conversations and do not know your name or what you do.\\n\\nPlease tell me, what is your name? 😊\\n'"
      ]
     },
     "execution_count": 12,
     "metadata": {},
     "output_type": "execute_result"
    }
   ],
   "source": [
    "response = with_message_history.invoke(\n",
    "    [\n",
    "        HumanMessage(content=\"What is my name and what do I do ?\")\n",
    "    ],\n",
    "    config=config\n",
    ")\n",
    "response.content"
   ]
  },
  {
   "cell_type": "code",
   "execution_count": 13,
   "id": "e02f1688",
   "metadata": {},
   "outputs": [
    {
     "data": {
      "text/plain": [
       "'Nice to meet you too, John! \\n\\nWhat can I do for you today? 😊  \\n'"
      ]
     },
     "execution_count": 13,
     "metadata": {},
     "output_type": "execute_result"
    }
   ],
   "source": [
    "response = with_message_history.invoke(\n",
    "    [\n",
    "        HumanMessage(content=\"Oh! My name is john. Nice to meet you.\")\n",
    "    ],\n",
    "    config=config\n",
    ")\n",
    "response.content"
   ]
  },
  {
   "cell_type": "code",
   "execution_count": 14,
   "id": "3a5265f2",
   "metadata": {},
   "outputs": [
    {
     "data": {
      "text/plain": [
       "'Your name is John, right? 😊  I remember!  \\n\\n\\nIs there anything else I can help you with?\\n'"
      ]
     },
     "execution_count": 14,
     "metadata": {},
     "output_type": "execute_result"
    }
   ],
   "source": [
    "response = with_message_history.invoke(\n",
    "    [\n",
    "        HumanMessage(content=\"Now can you tell me my name ?\")\n",
    "    ],\n",
    "    config=config\n",
    ")\n",
    "response.content"
   ]
  },
  {
   "cell_type": "markdown",
   "id": "96693356",
   "metadata": {},
   "source": [
    "## Prompt Templates"
   ]
  },
  {
   "cell_type": "code",
   "execution_count": 16,
   "id": "5ca635ab",
   "metadata": {},
   "outputs": [],
   "source": [
    "from langchain_core.prompts import ChatPromptTemplate, MessagesPlaceholder"
   ]
  },
  {
   "cell_type": "code",
   "execution_count": 19,
   "id": "04e9c84c",
   "metadata": {},
   "outputs": [],
   "source": [
    "prompt = ChatPromptTemplate.from_messages(\n",
    "    [\n",
    "        (\"system\", \"You are a helpful assistant. Answer all of the questions to the best of your ability.\"),\n",
    "        MessagesPlaceholder(variable_name=\"chat_history\")\n",
    "    ]\n",
    ")"
   ]
  },
  {
   "cell_type": "code",
   "execution_count": 20,
   "id": "be765df6",
   "metadata": {},
   "outputs": [],
   "source": [
    "chain = prompt | model"
   ]
  },
  {
   "cell_type": "code",
   "execution_count": 21,
   "id": "32463c83",
   "metadata": {},
   "outputs": [
    {
     "data": {
      "text/plain": [
       "AIMessage(content='Yes, Anas, I remember your name. 😊 \\n\\nHow can I help you today?\\n', additional_kwargs={}, response_metadata={'token_usage': {'completion_tokens': 22, 'prompt_tokens': 60, 'total_tokens': 82, 'completion_time': 0.04, 'prompt_time': 0.003364599, 'queue_time': 0.26687634, 'total_time': 0.043364599}, 'model_name': 'gemma2-9b-it', 'system_fingerprint': 'fp_10c08bf97d', 'finish_reason': 'stop', 'logprobs': None}, id='run--71b3e633-fe5b-4873-9b05-f00b0d962525-0', usage_metadata={'input_tokens': 60, 'output_tokens': 22, 'total_tokens': 82})"
      ]
     },
     "execution_count": 21,
     "metadata": {},
     "output_type": "execute_result"
    }
   ],
   "source": [
    "chain.invoke({\n",
    "    \"chat_history\": [\n",
    "        HumanMessage(content=\"Hi, My name is Anas\"),\n",
    "        AIMessage(content=\"Hi, Anas. Its nice to meet you.\"),\n",
    "        HumanMessage(content=\"Do you remeber my name ?\")\n",
    "    ]\n",
    "})"
   ]
  },
  {
   "cell_type": "code",
   "execution_count": 22,
   "id": "17fe10c7",
   "metadata": {},
   "outputs": [],
   "source": [
    "with_message_history = RunnableWithMessageHistory(\n",
    "    chain,\n",
    "    get_session_history\n",
    ")"
   ]
  },
  {
   "cell_type": "code",
   "execution_count": 23,
   "id": "3ae5ddee",
   "metadata": {},
   "outputs": [],
   "source": [
    "config = {\"configurable\": {\"session_id\": \"chat3\"}}"
   ]
  },
  {
   "cell_type": "code",
   "execution_count": 25,
   "id": "c0b36352",
   "metadata": {},
   "outputs": [
    {
     "data": {
      "text/plain": [
       "AIMessage(content=\"That's great! Cricket is a wonderful sport. 🏏\\n\\nI'm happy to answer any questions you have about cricket. \\n\\nDo you have a specific question about the game, or would you like to chat about your favorite team, player, or match?  😊  \\n\\n\", additional_kwargs={}, response_metadata={'token_usage': {'completion_tokens': 62, 'prompt_tokens': 33, 'total_tokens': 95, 'completion_time': 0.112727273, 'prompt_time': 0.003100242, 'queue_time': 0.258470917, 'total_time': 0.115827515}, 'model_name': 'gemma2-9b-it', 'system_fingerprint': 'fp_10c08bf97d', 'finish_reason': 'stop', 'logprobs': None}, id='run--445a9b19-fb34-4bf3-ad5a-7bc54e5e0db0-0', usage_metadata={'input_tokens': 33, 'output_tokens': 62, 'total_tokens': 95})"
      ]
     },
     "execution_count": 25,
     "metadata": {},
     "output_type": "execute_result"
    }
   ],
   "source": [
    "with_message_history.invoke(\n",
    "    [HumanMessage(content=\"I love to play cricket.\")],\n",
    "    config=config\n",
    ")"
   ]
  },
  {
   "cell_type": "code",
   "execution_count": 26,
   "id": "e8df4d58",
   "metadata": {},
   "outputs": [
    {
     "data": {
      "text/plain": [
       "'Yes, you told me you love to play cricket! 🏏 \\n\\nIs there anything specific you want to talk about related to cricket?  Perhaps your favorite team, a recent match you watched, or a particular player you admire?  😊  \\n\\n\\n\\n\\n'"
      ]
     },
     "execution_count": 26,
     "metadata": {},
     "output_type": "execute_result"
    }
   ],
   "source": [
    "response = with_message_history.invoke(\n",
    "    [HumanMessage(content=\"Do you remeber what I love to play ?\")],\n",
    "    config=config\n",
    ")\n",
    "response.content"
   ]
  },
  {
   "cell_type": "code",
   "execution_count": 27,
   "id": "248ba11d",
   "metadata": {},
   "outputs": [],
   "source": [
    "prompt = ChatPromptTemplate.from_messages(\n",
    "    [\n",
    "        (\"system\", \"You are a helpful assistant. Answer all of the questions to the best of your ability in {language}\"),\n",
    "        MessagesPlaceholder(variable_name=\"chat_history\")\n",
    "    ]\n",
    ")\n",
    "chain = prompt | model"
   ]
  },
  {
   "cell_type": "code",
   "execution_count": 29,
   "id": "a81c087d",
   "metadata": {},
   "outputs": [
    {
     "data": {
      "text/plain": [
       "'नमस्ते अनस! \\n\\nमुझे बहुत खुशी है आपसे मिलने में! \\n\\nआप क्या पूछना चाहते हैं? मैं अपनी पूरी क्षमता के साथ उत्तर देने की कोशिश करूंगा। \\n'"
      ]
     },
     "execution_count": 29,
     "metadata": {},
     "output_type": "execute_result"
    }
   ],
   "source": [
    "response = chain.invoke({\n",
    "    \"chat_history\": [HumanMessage(content=\"Hi, My name is Anas\")],\n",
    "    \"language\": \"Hindi\"\n",
    "})\n",
    "response.content"
   ]
  },
  {
   "cell_type": "markdown",
   "id": "3108f756",
   "metadata": {},
   "source": [
    "Now Lets wrap thsi more complicated chain in a Message History Class. This time  as there are multiple keys in the input, we need to specify the correct key to save the chat history"
   ]
  },
  {
   "cell_type": "code",
   "execution_count": 30,
   "id": "f6adcc63",
   "metadata": {},
   "outputs": [],
   "source": [
    "# prompt\n",
    "prompt = ChatPromptTemplate.from_messages(\n",
    "    [\n",
    "        (\"system\", \"You are a helpful assistant. Answer all of the questions to the best of your ability in {language}\"),\n",
    "        MessagesPlaceholder(variable_name=\"chat_history\")\n",
    "    ]\n",
    ")\n",
    "# chain\n",
    "chain = prompt | model"
   ]
  },
  {
   "cell_type": "code",
   "execution_count": 31,
   "id": "b3306392",
   "metadata": {},
   "outputs": [],
   "source": [
    "# Store\n",
    "store = {}\n",
    "\n",
    "def get_session_history(session_id: str) -> BaseChatMessageHistory:\n",
    "    if session_id not in store:\n",
    "        store[session_id] = ChatMessageHistory()\n",
    "    return store[session_id]"
   ]
  },
  {
   "cell_type": "code",
   "execution_count": 32,
   "id": "2a28b11e",
   "metadata": {},
   "outputs": [],
   "source": [
    "# Define the runnable\n",
    "with_message_history = RunnableWithMessageHistory(\n",
    "    chain,\n",
    "    get_session_history,\n",
    "    input_messages_key=\"chat_history\"\n",
    ")"
   ]
  },
  {
   "cell_type": "code",
   "execution_count": 33,
   "id": "a54987d3",
   "metadata": {},
   "outputs": [],
   "source": [
    "config = {\"configurable\": {\"session_id\": \"chat4\"}}"
   ]
  },
  {
   "cell_type": "code",
   "execution_count": 34,
   "id": "8c54f712",
   "metadata": {},
   "outputs": [
    {
     "data": {
      "text/plain": [
       "'नमस्ते अनास मलिक!  मैं आपकी मदद करने के लिए यहाँ हूँ। \\n\\nआपका कोई सवाल है जो मैं आपके लिए उत्तर दे सकता हूँ? 😊 \\n'"
      ]
     },
     "execution_count": 34,
     "metadata": {},
     "output_type": "execute_result"
    }
   ],
   "source": [
    "response = with_message_history.invoke({\n",
    "    \"chat_history\": [HumanMessage(content=\"Hi, My name is Anas Malik.\")],\n",
    "    \"language\": \"Hindi\"\n",
    "}, config=config)\n",
    "response.content"
   ]
  },
  {
   "cell_type": "code",
   "execution_count": 35,
   "id": "5ea6f501",
   "metadata": {},
   "outputs": [
    {
     "data": {
      "text/plain": [
       "'आपका नाम अनास मलिक है।  😊  \\n'"
      ]
     },
     "execution_count": 35,
     "metadata": {},
     "output_type": "execute_result"
    }
   ],
   "source": [
    "response = with_message_history.invoke({\n",
    "    \"chat_history\": [HumanMessage(content=\"What is my name ?\")],\n",
    "    \"language\": \"Hindi\"\n",
    "}, config=config)\n",
    "response.content"
   ]
  },
  {
   "cell_type": "markdown",
   "id": "bb70bca4",
   "metadata": {},
   "source": [
    "## Managing the Conversation History"
   ]
  },
  {
   "cell_type": "markdown",
   "id": "6c0bdfdd",
   "metadata": {},
   "source": [
    "One important concept to understand when building chatbots is how to manage conversation history. If left unmanaged, the list of messages will grow unbounded and potentially overflow the context window of the LLM. Therefore, it is important to add a step that limits the size of the messages you are passing in."
   ]
  },
  {
   "cell_type": "markdown",
   "id": "d1bd2a53",
   "metadata": {},
   "source": [
    "'trim_messages': Helper to reduce how many messages we are sending to the model. The trimmer allows us to specify how many tokens we want to keep, along with other parameters like if we want to always keep the system message and whether to allow partial messages"
   ]
  },
  {
   "cell_type": "code",
   "execution_count": 36,
   "id": "7b929501",
   "metadata": {},
   "outputs": [],
   "source": [
    "from langchain_core.messages import SystemMessage, trim_messages"
   ]
  },
  {
   "cell_type": "code",
   "execution_count": 47,
   "id": "c3d4f2d3",
   "metadata": {},
   "outputs": [],
   "source": [
    "trimmer = trim_messages(\n",
    "    max_tokens=50,\n",
    "    strategy=\"last\",\n",
    "    token_counter=model,\n",
    "    include_system=True,\n",
    "    allow_partial=False,\n",
    "    start_on=\"human\"\n",
    ")"
   ]
  },
  {
   "cell_type": "code",
   "execution_count": 48,
   "id": "c30402bc",
   "metadata": {},
   "outputs": [],
   "source": [
    "messages = [\n",
    "    SystemMessage(content=\"You are a good assistant\"),\n",
    "    HumanMessage(content=\"Hi, I am bob\"),\n",
    "    AIMessage(content=\"Hi\"),\n",
    "    HumanMessage(content=\"I like vanilla ice cream\"),\n",
    "    AIMessage(content=\"Nice\"),\n",
    "    HumanMessage(content=\"Whats 2 + 2\"),\n",
    "    AIMessage(content=\"4\"),\n",
    "    HumanMessage(content=\"Thanks\"),\n",
    "    AIMessage(content=\"No Problem.\"),\n",
    "    HumanMessage(content=\"Have fun ?\"),\n",
    "    AIMessage(content=\"yes!\")\n",
    "]"
   ]
  },
  {
   "cell_type": "code",
   "execution_count": 49,
   "id": "6832ebd3",
   "metadata": {},
   "outputs": [
    {
     "data": {
      "text/plain": [
       "[SystemMessage(content='You are a good assistant', additional_kwargs={}, response_metadata={}),\n",
       " HumanMessage(content='I like vanilla ice cream', additional_kwargs={}, response_metadata={}),\n",
       " AIMessage(content='Nice', additional_kwargs={}, response_metadata={}),\n",
       " HumanMessage(content='Whats 2 + 2', additional_kwargs={}, response_metadata={}),\n",
       " AIMessage(content='4', additional_kwargs={}, response_metadata={}),\n",
       " HumanMessage(content='Thanks', additional_kwargs={}, response_metadata={}),\n",
       " AIMessage(content='No Problem.', additional_kwargs={}, response_metadata={}),\n",
       " HumanMessage(content='Have fun ?', additional_kwargs={}, response_metadata={}),\n",
       " AIMessage(content='yes!', additional_kwargs={}, response_metadata={})]"
      ]
     },
     "execution_count": 49,
     "metadata": {},
     "output_type": "execute_result"
    }
   ],
   "source": [
    "trimmer.invoke(messages)"
   ]
  },
  {
   "cell_type": "code",
   "execution_count": 52,
   "id": "41c6aae5",
   "metadata": {},
   "outputs": [],
   "source": [
    "from operator import itemgetter\n",
    "from langchain_core.runnables import RunnablePassthrough\n",
    "from langchain_core.output_parsers import StrOutputParser"
   ]
  },
  {
   "cell_type": "code",
   "execution_count": 58,
   "id": "609a0cba",
   "metadata": {},
   "outputs": [],
   "source": [
    "# prompt\n",
    "prompt = ChatPromptTemplate.from_messages(\n",
    "    [\n",
    "        (\"system\", \"You are a helpful assistant. Answer all of the questions to the best of your ability in {language}\"),\n",
    "        MessagesPlaceholder(variable_name=\"messages\")\n",
    "    ]\n",
    ")"
   ]
  },
  {
   "cell_type": "code",
   "execution_count": 59,
   "id": "1f1fd902",
   "metadata": {},
   "outputs": [],
   "source": [
    "chain = (\n",
    "    RunnablePassthrough.assign(messages=itemgetter(\"messages\") | trimmer)\n",
    "    | prompt\n",
    "    | model\n",
    "    | StrOutputParser()\n",
    ")"
   ]
  },
  {
   "cell_type": "code",
   "execution_count": 60,
   "id": "f59c75d7",
   "metadata": {},
   "outputs": [
    {
     "data": {
      "text/plain": [
       "\"Comme je suis un assistant virtuel, je n'ai pas accès à vos informations personnelles, comme vos préférences en matière de glace. \\n\\nPourrais-tu me dire quelle est ta glace préférée ?  🍦 😋 \\n\\n\\n\\n\""
      ]
     },
     "execution_count": 60,
     "metadata": {},
     "output_type": "execute_result"
    }
   ],
   "source": [
    "chain.invoke({\n",
    "    \"messages\": messages + [HumanMessage(content=\"What ice cream do I like ?\")],\n",
    "    \"language\": \"French\"\n",
    "})"
   ]
  },
  {
   "cell_type": "code",
   "execution_count": 61,
   "id": "824d69a8",
   "metadata": {},
   "outputs": [
    {
     "data": {
      "text/plain": [
       "'तुम्हेंने 2 + 2 का जवाब पूछा था।  \\n'"
      ]
     },
     "execution_count": 61,
     "metadata": {},
     "output_type": "execute_result"
    }
   ],
   "source": [
    "chain.invoke({\n",
    "    \"messages\": messages + [HumanMessage(content=\"What math problem I asked ?\")],\n",
    "    \"language\": \"Hindi\"\n",
    "})"
   ]
  },
  {
   "cell_type": "markdown",
   "id": "c2347770",
   "metadata": {},
   "source": [
    "Now wrap this in the Message History"
   ]
  },
  {
   "cell_type": "code",
   "execution_count": 62,
   "id": "467224da",
   "metadata": {},
   "outputs": [],
   "source": [
    "with_message_history = RunnableWithMessageHistory(\n",
    "    chain,\n",
    "    get_session_history,\n",
    "    input_messages_key=\"messages\"\n",
    ")"
   ]
  },
  {
   "cell_type": "code",
   "execution_count": 65,
   "id": "80e2bd61",
   "metadata": {},
   "outputs": [],
   "source": [
    "config = {\"configurable\": {\"session_id\": \"chat5\"}}"
   ]
  },
  {
   "cell_type": "code",
   "execution_count": 67,
   "id": "b911f76a",
   "metadata": {},
   "outputs": [
    {
     "data": {
      "text/plain": [
       "'नमस्ते अनास मलिक! 🏏 \\n\\nमुझे खुशी है कि आप मेरी मदद चाहते हैं।  क्रिकेट खेलना बहुत मजेदार होता है! आप किस टीम का समर्थन करते हैं? \\n'"
      ]
     },
     "execution_count": 67,
     "metadata": {},
     "output_type": "execute_result"
    }
   ],
   "source": [
    "with_message_history.invoke({\n",
    "    \"messages\": HumanMessage(content=\"Hello, My name is Anas Malik and I like to play cricket\"),\n",
    "    \"language\": \"Hindi\"\n",
    "}, config=config)"
   ]
  },
  {
   "cell_type": "code",
   "execution_count": 68,
   "id": "38d5452b",
   "metadata": {},
   "outputs": [
    {
     "data": {
      "text/plain": [
       "'नमस्ते! मैं आपकी सहायता करने के लिए यहाँ हूँ। आप मुझे जो भी प्रश्न पूछेंगे, मैं अपनी पूरी क्षमता के अनुसार उत्तर देने की कोशिश करूँगा।  \\n\\nक्या आप कोई प्रश्न पूछना चाहेंगे? \\n\\n'"
      ]
     },
     "execution_count": 68,
     "metadata": {},
     "output_type": "execute_result"
    }
   ],
   "source": [
    "with_message_history.invoke({\n",
    "    \"messages\": HumanMessage(content=\"I lives in India and I am an AI Engineer\"),\n",
    "    \"language\": \"Hindi\"\n",
    "}, config=config)"
   ]
  },
  {
   "cell_type": "code",
   "execution_count": 69,
   "id": "41698137",
   "metadata": {},
   "outputs": [
    {
     "data": {
      "text/plain": [
       "'मुझे आपके बारे में कुछ भी नहीं पता। मैं एक बड़ा भाषा मॉडल हूँ, लेकिन मेरी याददाश्त सीमित है। प्रत्येक बातचीत हमारी शुरुआत से ताज़ा होती है। \\n\\nआप मुझे अपने बारे में बताना चाहें तो मुझे खुशी होगी! \\n\\n'"
      ]
     },
     "execution_count": 69,
     "metadata": {},
     "output_type": "execute_result"
    }
   ],
   "source": [
    "with_message_history.invoke({\n",
    "    \"messages\": HumanMessage(content=\"What all things you know about me.\"),\n",
    "    \"language\": \"Hindi\"\n",
    "}, config=config)"
   ]
  },
  {
   "cell_type": "code",
   "execution_count": 71,
   "id": "8ef52c32",
   "metadata": {},
   "outputs": [
    {
     "data": {
      "text/plain": [
       "InMemoryChatMessageHistory(messages=[HumanMessage(content='Hello, My name is Anas Malik and I like to play cricket', additional_kwargs={}, response_metadata={}), AIMessage(content='नमस्ते अनास मलिक! 🏏 \\n\\nमुझे खुशी है कि आप मेरी मदद चाहते हैं।  क्रिकेट खेलना बहुत मजेदार होता है! आप किस टीम का समर्थन करते हैं? \\n', additional_kwargs={}, response_metadata={}), HumanMessage(content='I lives in India and I am an AI Engineer', additional_kwargs={}, response_metadata={}), AIMessage(content='नमस्ते! मैं आपकी सहायता करने के लिए यहाँ हूँ। आप मुझे जो भी प्रश्न पूछेंगे, मैं अपनी पूरी क्षमता के अनुसार उत्तर देने की कोशिश करूँगा।  \\n\\nक्या आप कोई प्रश्न पूछना चाहेंगे? \\n\\n', additional_kwargs={}, response_metadata={}), HumanMessage(content='What all things you know about me.', additional_kwargs={}, response_metadata={}), AIMessage(content='मुझे आपके बारे में कुछ भी नहीं पता। मैं एक बड़ा भाषा मॉडल हूँ, लेकिन मेरी याददाश्त सीमित है। प्रत्येक बातचीत हमारी शुरुआत से ताज़ा होती है। \\n\\nआप मुझे अपने बारे में बताना चाहें तो मुझे खुशी होगी! \\n\\n', additional_kwargs={}, response_metadata={})])"
      ]
     },
     "execution_count": 71,
     "metadata": {},
     "output_type": "execute_result"
    }
   ],
   "source": [
    "store[\"chat5\"]"
   ]
  },
  {
   "cell_type": "code",
   "execution_count": null,
   "id": "eaf35823",
   "metadata": {},
   "outputs": [],
   "source": []
  }
 ],
 "metadata": {
  "kernelspec": {
   "display_name": "Python 3",
   "language": "python",
   "name": "python3"
  },
  "language_info": {
   "codemirror_mode": {
    "name": "ipython",
    "version": 3
   },
   "file_extension": ".py",
   "mimetype": "text/x-python",
   "name": "python",
   "nbconvert_exporter": "python",
   "pygments_lexer": "ipython3",
   "version": "3.12.11"
  }
 },
 "nbformat": 4,
 "nbformat_minor": 5
}
