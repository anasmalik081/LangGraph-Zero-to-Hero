{
  "cells": [
    {
      "cell_type": "markdown",
      "source": [
        "# **Filtering and Trimming Messages**"
      ],
      "metadata": {
        "id": "EeF90roEgHRG"
      }
    },
    {
      "cell_type": "markdown",
      "source": [
        "**Review**\n",
        "\n",
        "Now, we have a deeper understanding of a few things:\n",
        "\n",
        "How to customize the graph state schema\n",
        "How to define custom state reducers\n",
        "How to use multiple graph state schemas\n",
        "\n",
        "**Goals**\n",
        "\n",
        "Now, we can start using these concepts with models in LangGraph!\n",
        "\n",
        "In the next few sessions, we'll build towards a chatbot that has long-term memory.\n",
        "\n",
        "Because our chatbot will use messages, let's first talk a bit more about advanced ways to work with messages in graph state."
      ],
      "metadata": {
        "id": "ZH583_RmgONl"
      }
    },
    {
      "cell_type": "code",
      "source": [
        "%%capture --no-stderr\n",
        "%pip install --quiet -U langchain_core langgraph langchain_google_genai"
      ],
      "metadata": {
        "id": "WZ3W_MWdgL5l"
      },
      "execution_count": 1,
      "outputs": []
    },
    {
      "cell_type": "code",
      "source": [
        "import os\n",
        "from google.colab import userdata\n",
        "GOOGLE_API_KEY=userdata.get('GOOGLE_API_KEY')\n",
        "os.environ['GOOGLE_API_KEY']=GOOGLE_API_KEY"
      ],
      "metadata": {
        "id": "5Xd0AUWEgbSw"
      },
      "execution_count": 2,
      "outputs": []
    },
    {
      "cell_type": "markdown",
      "source": [
        "## **Messages as State**"
      ],
      "metadata": {
        "id": "oh0Rv0brgorI"
      }
    },
    {
      "cell_type": "markdown",
      "source": [
        "First, let's define some messages."
      ],
      "metadata": {
        "id": "JMvf9cIigsHs"
      }
    },
    {
      "cell_type": "code",
      "source": [
        "# Define some messages\n",
        "from langchain_core.messages import AIMessage, HumanMessage\n",
        "\n",
        "messages = [AIMessage(f\"So you said you were researching ocean mammals?\", name=\"Assitant\")]\n",
        "messages.append(HumanMessage(f\"Yes, I know about whales. But what others should I learn about?\", name=\"Anas\"))\n",
        "\n",
        "for msg in messages:\n",
        "  msg.pretty_print()"
      ],
      "metadata": {
        "id": "QkadnB-Ngkpa",
        "outputId": "2ec42042-ea95-4cbd-8ce0-4b68a10a1267",
        "colab": {
          "base_uri": "https://localhost:8080/"
        }
      },
      "execution_count": 3,
      "outputs": [
        {
          "output_type": "stream",
          "name": "stdout",
          "text": [
            "==================================\u001b[1m Ai Message \u001b[0m==================================\n",
            "Name: Assitant\n",
            "\n",
            "So you said you were researching ocean mammals?\n",
            "================================\u001b[1m Human Message \u001b[0m=================================\n",
            "Name: Anas\n",
            "\n",
            "Yes, I know about whales. But what others should I learn about?\n"
          ]
        }
      ]
    },
    {
      "cell_type": "markdown",
      "source": [
        "Now, we can pass them to a chat Model"
      ],
      "metadata": {
        "id": "YySK_fU_hCjE"
      }
    },
    {
      "cell_type": "code",
      "source": [
        "from langchain_google_genai import ChatGoogleGenerativeAI\n",
        "model = ChatGoogleGenerativeAI(model='gemini-2.0-flash')\n",
        "model.invoke(messages)"
      ],
      "metadata": {
        "id": "Uf1NO2MBg_lW",
        "outputId": "b612e488-cba6-4654-e6bb-0d5c43095550",
        "colab": {
          "base_uri": "https://localhost:8080/"
        }
      },
      "execution_count": 4,
      "outputs": [
        {
          "output_type": "execute_result",
          "data": {
            "text/plain": [
              "AIMessage(content='Okay, great! Knowing about whales is a good start. Ocean mammals are a diverse group! Here\\'s a breakdown of other types of ocean mammals you should learn about, along with some key features and examples:\\n\\n**1. Pinnipeds (Seals, Sea Lions, and Walruses):**\\n\\n*   **Key Features:**\\n    *   \"Fin-footed\" (pinniped means \"fin-footed\")\\n    *   Amphibious - spend time both on land and in the water.\\n    *   Blubber for insulation.\\n    *   Carnivorous, feeding on fish, squid, crustaceans, and other marine life.\\n*   **Examples:**\\n    *   **Seals:** Often lack external ear flaps, have shorter flippers, and move on land by wiggling their bodies.  (e.g., Harbor Seal, Grey Seal, Elephant Seal)\\n    *   **Sea Lions:** Have external ear flaps, longer flippers, and can \"walk\" on their flippers on land. (e.g., California Sea Lion, Steller Sea Lion)\\n    *   **Walruses:** Easily identifiable by their prominent tusks, whiskers, and large size. (e.g., Atlantic Walrus, Pacific Walrus)\\n\\n**2. Sirenians (Dugongs and Manatees):**\\n\\n*   **Key Features:**\\n    *   Herbivorous - they eat aquatic plants.\\n    *   Also known as \"sea cows\" because of their gentle nature and grazing habits.\\n    *   Large, slow-moving, and have paddle-like flippers.\\n    *   Manatees have rounded tails, while dugongs have fluke-like tails (similar to dolphins).\\n*   **Examples:**\\n    *   **Manatees:** (e.g., West Indian Manatee, Amazonian Manatee, West African Manatee)\\n    *   **Dugongs:** (e.g., Dugong)\\n\\n**3. Sea Otters:**\\n\\n*   **Key Features:**\\n    *   Smallest marine mammal in North America.\\n    *   Thick fur for insulation (rather than blubber).\\n    *   Use tools (like rocks) to crack open shellfish.\\n    *   Spend almost their entire lives in the water.\\n*   **Examples:**\\n    *   **Sea Otter:** (e.g., Enhydra lutris)\\n\\n**Things to Consider When Learning About Them:**\\n\\n*   **Habitat:** Where do they live? (Ocean, coast, specific regions)\\n*   **Diet:** What do they eat?\\n*   **Social Behavior:** Do they live in groups, or are they solitary?\\n*   **Conservation Status:** Are they endangered, threatened, or stable? What are the threats to their survival?\\n*   **Adaptations:** What special features do they have that help them survive in their environment? (e.g., blubber, echolocation, specialized teeth)\\n\\nWhere would you like to start? Which of these groups sounds most interesting to you?  Or, are you interested in learning about a specific region or ecosystem?', additional_kwargs={}, response_metadata={'prompt_feedback': {'block_reason': 0, 'safety_ratings': []}, 'finish_reason': 'STOP', 'safety_ratings': []}, id='run-53c359e3-270c-4830-9e64-3ab5c06f5e00-0', usage_metadata={'input_tokens': 24, 'output_tokens': 658, 'total_tokens': 682, 'input_token_details': {'cache_read': 0}})"
            ]
          },
          "metadata": {},
          "execution_count": 4
        }
      ]
    },
    {
      "cell_type": "markdown",
      "source": [
        "We can run our chat model in a simple graph with MessagesState."
      ],
      "metadata": {
        "id": "68LgQo2uhSWj"
      }
    },
    {
      "cell_type": "code",
      "source": [
        "from langgraph.graph import StateGraph, START, END\n",
        "from langgraph.graph import MessagesState"
      ],
      "metadata": {
        "id": "20C4Unc4hOPk"
      },
      "execution_count": 5,
      "outputs": []
    },
    {
      "cell_type": "code",
      "source": [
        "# Defining model node\n",
        "def model_node(state: MessagesState) -> MessagesState:\n",
        "  return {\"messages\": [model.invoke(state[\"messages\"])]}"
      ],
      "metadata": {
        "id": "F3HhGBCYhfJf"
      },
      "execution_count": 6,
      "outputs": []
    },
    {
      "cell_type": "code",
      "source": [
        "# Building our graph\n",
        "builder = StateGraph(MessagesState)\n",
        "\n",
        "# Add Nodes\n",
        "builder.add_node(\"model_node\", model_node)\n",
        "\n",
        "# Add Edges\n",
        "builder.add_edge(START, \"model_node\")\n",
        "builder.add_edge(\"model_node\", END)\n",
        "\n",
        "# Compile\n",
        "graph = builder.compile()"
      ],
      "metadata": {
        "id": "VJtNYrfZhrCG"
      },
      "execution_count": 7,
      "outputs": []
    },
    {
      "cell_type": "code",
      "source": [
        "# Visualize\n",
        "from IPython.display import Image, display\n",
        "display(Image(graph.get_graph().draw_mermaid_png()))"
      ],
      "metadata": {
        "id": "Xcd3XCmjh-9h",
        "outputId": "883af836-a477-4db8-bedb-7c5dc7f4b3c1",
        "colab": {
          "base_uri": "https://localhost:8080/",
          "height": 251
        }
      },
      "execution_count": 8,
      "outputs": [
        {
          "output_type": "display_data",
          "data": {
            "image/png": "[encoded data removed]",
            "text/plain": [
              "<IPython.core.display.Image object>"
            ]
          },
          "metadata": {}
        }
      ]
    },
    {
      "cell_type": "code",
      "source": [
        "# Invoke\n",
        "output = graph.invoke({\"messages\": messages})\n",
        "for msg in output[\"messages\"]:\n",
        "  msg.pretty_print()"
      ],
      "metadata": {
        "id": "bHo9zp_GiHwo",
        "outputId": "f9464bb3-9b65-4e4b-afd0-17702214cb92",
        "colab": {
          "base_uri": "https://localhost:8080/"
        }
      },
      "execution_count": 9,
      "outputs": [
        {
          "output_type": "stream",
          "name": "stdout",
          "text": [
            "==================================\u001b[1m Ai Message \u001b[0m==================================\n",
            "Name: Assitant\n",
            "\n",
            "So you said you were researching ocean mammals?\n",
            "================================\u001b[1m Human Message \u001b[0m=================================\n",
            "Name: Anas\n",
            "\n",
            "Yes, I know about whales. But what others should I learn about?\n",
            "==================================\u001b[1m Ai Message \u001b[0m==================================\n",
            "\n",
            "Okay, great! Since you already know about whales, let's explore some other fascinating ocean mammals. Here are some categories and specific examples you might find interesting:\n",
            "\n",
            "**1. Pinnipeds (Seals, Sea Lions, and Walruses):** These are characterized by having flippers for swimming.\n",
            "\n",
            "*   **Seals:**\n",
            "    *   **Harbor Seal:** Common and adaptable, found in many coastal regions.\n",
            "    *   **Elephant Seal:** Massive! Known for their large noses and aggressive mating rituals.\n",
            "    *   **Leopard Seal:** A top predator in Antarctica, known for hunting penguins and other seals.\n",
            "*   **Sea Lions:**\n",
            "    *   **California Sea Lion:** Playful and intelligent, often seen in zoos and aquariums.\n",
            "    *   **Steller Sea Lion:** One of the largest sea lion species, found in the North Pacific.\n",
            "*   **Walruses:**\n",
            "    *   **Walrus:** Iconic for their tusks, used for hauling themselves onto ice and foraging.\n",
            "\n",
            "**2. Sirenians (Manatees and Dugongs):** These are gentle, herbivorous mammals sometimes called \"sea cows.\"\n",
            "\n",
            "*   **Manatees:**\n",
            "    *   **West Indian Manatee (Florida Manatee):** Found in the southeastern US, threatened by boat strikes and habitat loss.\n",
            "    *   **Amazonian Manatee:** Found in the Amazon River basin, less studied than other manatees.\n",
            "*   **Dugongs:**\n",
            "    *   **Dugong:** Found in the Indo-Pacific region, relies on seagrass for food.\n",
            "\n",
            "**3. Sea Otters:**\n",
            "\n",
            "*   **Sea Otter:** Found in the North Pacific, they are the smallest marine mammal in North America and play a crucial role in kelp forest ecosystems.  They use tools (rocks) to crack open shellfish!\n",
            "\n",
            "**4. Polar Bears:**\n",
            "\n",
            "*   **Polar Bear:** Highly adapted to Arctic environments, relies on sea ice for hunting seals. Classified as marine mammals because they spend a significant portion of their lives on sea ice.\n",
            "\n",
            "**To help me narrow down what you'd find most interesting, consider these questions:**\n",
            "\n",
            "*   **Are you interested in specific regions?** (e.g., Arctic, Antarctic, tropical, etc.)\n",
            "*   **Are you interested in specific behaviors?** (e.g., hunting strategies, social structures, communication)\n",
            "*   **Are you interested in conservation status?** (e.g., endangered species, species affected by climate change)\n",
            "*   **Are you interested in size and appearance?** (e.g., largest, smallest, most unique features)\n",
            "\n",
            "Once you give me a little more direction, I can point you towards some even more specific and fascinating ocean mammals to learn about! For example, if you say you are interested in endangered species, I can tell you about the Vaquita, a critically endangered porpoise.\n"
          ]
        }
      ]
    },
    {
      "cell_type": "code",
      "source": [
        "async for m in graph.astream_events({'messages': messages}, version=\"v2\"): # The version argument is now correctly passed as a keyword argument.\n",
        "      print(m)\n",
        "      print(\"\\n--------------\\n\")"
      ],
      "metadata": {
        "id": "7I7qX6HiiSUA",
        "outputId": "fc4cfdb3-197b-4875-a54a-c346e70237e6",
        "colab": {
          "base_uri": "https://localhost:8080/"
        }
      },
      "execution_count": 10,
      "outputs": [
        {
          "output_type": "stream",
          "name": "stdout",
          "text": [
            "{'event': 'on_chain_start', 'data': {'input': {'messages': [AIMessage(content='So you said you were researching ocean mammals?', additional_kwargs={}, response_metadata={}, name='Assitant', id='01cd51d6-5df2-42db-9eba-c12e8fac8a25'), HumanMessage(content='Yes, I know about whales. But what others should I learn about?', additional_kwargs={}, response_metadata={}, name='Anas', id='d5a9e901-3128-4b54-96b5-5933a0f55211')]}}, 'name': 'LangGraph', 'tags': [], 'run_id': '88c351a9-09c4-40b1-85b8-585211f15cc0', 'metadata': {}, 'parent_ids': []}\n",
            "\n",
            "--------------\n",
            "\n",
            "{'event': 'on_chain_start', 'data': {'input': {'messages': [AIMessage(content='So you said you were researching ocean mammals?', additional_kwargs={}, response_metadata={}, name='Assitant', id='01cd51d6-5df2-42db-9eba-c12e8fac8a25'), HumanMessage(content='Yes, I know about whales. But what others should I learn about?', additional_kwargs={}, response_metadata={}, name='Anas', id='d5a9e901-3128-4b54-96b5-5933a0f55211')]}}, 'name': '__start__', 'tags': ['graph:step:0', 'langsmith:hidden'], 'run_id': 'f25599fd-5a28-4389-a8a6-498a3c4e3981', 'metadata': {'langgraph_step': 0, 'langgraph_node': '__start__', 'langgraph_triggers': ['__start__'], 'langgraph_path': ('__pregel_pull', '__start__'), 'langgraph_checkpoint_ns': '__start__:93141a47-f7c2-1db2-03d8-ea3f7d6adfc8'}, 'parent_ids': ['88c351a9-09c4-40b1-85b8-585211f15cc0']}\n",
            "\n",
            "--------------\n",
            "\n",
            "{'event': 'on_chain_start', 'data': {'input': {'messages': [AIMessage(content='So you said you were researching ocean mammals?', additional_kwargs={}, response_metadata={}, name='Assitant', id='01cd51d6-5df2-42db-9eba-c12e8fac8a25'), HumanMessage(content='Yes, I know about whales. But what others should I learn about?', additional_kwargs={}, response_metadata={}, name='Anas', id='d5a9e901-3128-4b54-96b5-5933a0f55211')]}}, 'name': '_write', 'tags': ['seq:step:1', 'langsmith:hidden', 'langsmith:hidden'], 'run_id': 'c3e00f8c-15aa-4b61-a13b-b5c0f4312153', 'metadata': {'langgraph_step': 0, 'langgraph_node': '__start__', 'langgraph_triggers': ['__start__'], 'langgraph_path': ('__pregel_pull', '__start__'), 'langgraph_checkpoint_ns': '__start__:93141a47-f7c2-1db2-03d8-ea3f7d6adfc8'}, 'parent_ids': ['88c351a9-09c4-40b1-85b8-585211f15cc0', 'f25599fd-5a28-4389-a8a6-498a3c4e3981']}\n",
            "\n",
            "--------------\n",
            "\n",
            "{'event': 'on_chain_end', 'data': {'output': {'messages': [AIMessage(content='So you said you were researching ocean mammals?', additional_kwargs={}, response_metadata={}, name='Assitant', id='01cd51d6-5df2-42db-9eba-c12e8fac8a25'), HumanMessage(content='Yes, I know about whales. But what others should I learn about?', additional_kwargs={}, response_metadata={}, name='Anas', id='d5a9e901-3128-4b54-96b5-5933a0f55211')]}, 'input': {'messages': [AIMessage(content='So you said you were researching ocean mammals?', additional_kwargs={}, response_metadata={}, name='Assitant', id='01cd51d6-5df2-42db-9eba-c12e8fac8a25'), HumanMessage(content='Yes, I know about whales. But what others should I learn about?', additional_kwargs={}, response_metadata={}, name='Anas', id='d5a9e901-3128-4b54-96b5-5933a0f55211')]}}, 'run_id': 'c3e00f8c-15aa-4b61-a13b-b5c0f4312153', 'name': '_write', 'tags': ['seq:step:1', 'langsmith:hidden', 'langsmith:hidden'], 'metadata': {'langgraph_step': 0, 'langgraph_node': '__start__', 'langgraph_triggers': ['__start__'], 'langgraph_path': ('__pregel_pull', '__start__'), 'langgraph_checkpoint_ns': '__start__:93141a47-f7c2-1db2-03d8-ea3f7d6adfc8'}, 'parent_ids': ['88c351a9-09c4-40b1-85b8-585211f15cc0', 'f25599fd-5a28-4389-a8a6-498a3c4e3981']}\n",
            "\n",
            "--------------\n",
            "\n",
            "{'event': 'on_chain_start', 'data': {'input': {'messages': [AIMessage(content='So you said you were researching ocean mammals?', additional_kwargs={}, response_metadata={}, name='Assitant', id='01cd51d6-5df2-42db-9eba-c12e8fac8a25'), HumanMessage(content='Yes, I know about whales. But what others should I learn about?', additional_kwargs={}, response_metadata={}, name='Anas', id='d5a9e901-3128-4b54-96b5-5933a0f55211')]}}, 'name': '_write', 'tags': ['seq:step:3', 'langsmith:hidden', 'langsmith:hidden'], 'run_id': '920bd693-3417-4902-bc07-3b5c629bc043', 'metadata': {'langgraph_step': 0, 'langgraph_node': '__start__', 'langgraph_triggers': ['__start__'], 'langgraph_path': ('__pregel_pull', '__start__'), 'langgraph_checkpoint_ns': '__start__:93141a47-f7c2-1db2-03d8-ea3f7d6adfc8'}, 'parent_ids': ['88c351a9-09c4-40b1-85b8-585211f15cc0', 'f25599fd-5a28-4389-a8a6-498a3c4e3981']}\n",
            "\n",
            "--------------\n",
            "\n",
            "{'event': 'on_chain_end', 'data': {'output': {'messages': [AIMessage(content='So you said you were researching ocean mammals?', additional_kwargs={}, response_metadata={}, name='Assitant', id='01cd51d6-5df2-42db-9eba-c12e8fac8a25'), HumanMessage(content='Yes, I know about whales. But what others should I learn about?', additional_kwargs={}, response_metadata={}, name='Anas', id='d5a9e901-3128-4b54-96b5-5933a0f55211')]}, 'input': {'messages': [AIMessage(content='So you said you were researching ocean mammals?', additional_kwargs={}, response_metadata={}, name='Assitant', id='01cd51d6-5df2-42db-9eba-c12e8fac8a25'), HumanMessage(content='Yes, I know about whales. But what others should I learn about?', additional_kwargs={}, response_metadata={}, name='Anas', id='d5a9e901-3128-4b54-96b5-5933a0f55211')]}}, 'run_id': '920bd693-3417-4902-bc07-3b5c629bc043', 'name': '_write', 'tags': ['seq:step:3', 'langsmith:hidden', 'langsmith:hidden'], 'metadata': {'langgraph_step': 0, 'langgraph_node': '__start__', 'langgraph_triggers': ['__start__'], 'langgraph_path': ('__pregel_pull', '__start__'), 'langgraph_checkpoint_ns': '__start__:93141a47-f7c2-1db2-03d8-ea3f7d6adfc8'}, 'parent_ids': ['88c351a9-09c4-40b1-85b8-585211f15cc0', 'f25599fd-5a28-4389-a8a6-498a3c4e3981']}\n",
            "\n",
            "--------------\n",
            "\n",
            "{'event': 'on_chain_stream', 'run_id': 'f25599fd-5a28-4389-a8a6-498a3c4e3981', 'name': '__start__', 'tags': ['graph:step:0', 'langsmith:hidden'], 'metadata': {'langgraph_step': 0, 'langgraph_node': '__start__', 'langgraph_triggers': ['__start__'], 'langgraph_path': ('__pregel_pull', '__start__'), 'langgraph_checkpoint_ns': '__start__:93141a47-f7c2-1db2-03d8-ea3f7d6adfc8'}, 'data': {'chunk': {'messages': [AIMessage(content='So you said you were researching ocean mammals?', additional_kwargs={}, response_metadata={}, name='Assitant', id='01cd51d6-5df2-42db-9eba-c12e8fac8a25'), HumanMessage(content='Yes, I know about whales. But what others should I learn about?', additional_kwargs={}, response_metadata={}, name='Anas', id='d5a9e901-3128-4b54-96b5-5933a0f55211')]}}, 'parent_ids': ['88c351a9-09c4-40b1-85b8-585211f15cc0']}\n",
            "\n",
            "--------------\n",
            "\n",
            "{'event': 'on_chain_end', 'data': {'output': {'messages': [AIMessage(content='So you said you were researching ocean mammals?', additional_kwargs={}, response_metadata={}, name='Assitant', id='01cd51d6-5df2-42db-9eba-c12e8fac8a25'), HumanMessage(content='Yes, I know about whales. But what others should I learn about?', additional_kwargs={}, response_metadata={}, name='Anas', id='d5a9e901-3128-4b54-96b5-5933a0f55211')]}, 'input': {'messages': [AIMessage(content='So you said you were researching ocean mammals?', additional_kwargs={}, response_metadata={}, name='Assitant', id='01cd51d6-5df2-42db-9eba-c12e8fac8a25'), HumanMessage(content='Yes, I know about whales. But what others should I learn about?', additional_kwargs={}, response_metadata={}, name='Anas', id='d5a9e901-3128-4b54-96b5-5933a0f55211')]}}, 'run_id': 'f25599fd-5a28-4389-a8a6-498a3c4e3981', 'name': '__start__', 'tags': ['graph:step:0', 'langsmith:hidden'], 'metadata': {'langgraph_step': 0, 'langgraph_node': '__start__', 'langgraph_triggers': ['__start__'], 'langgraph_path': ('__pregel_pull', '__start__'), 'langgraph_checkpoint_ns': '__start__:93141a47-f7c2-1db2-03d8-ea3f7d6adfc8'}, 'parent_ids': ['88c351a9-09c4-40b1-85b8-585211f15cc0']}\n",
            "\n",
            "--------------\n",
            "\n",
            "{'event': 'on_chain_start', 'data': {'input': {'messages': [AIMessage(content='So you said you were researching ocean mammals?', additional_kwargs={}, response_metadata={}, name='Assitant', id='01cd51d6-5df2-42db-9eba-c12e8fac8a25'), HumanMessage(content='Yes, I know about whales. But what others should I learn about?', additional_kwargs={}, response_metadata={}, name='Anas', id='d5a9e901-3128-4b54-96b5-5933a0f55211')]}}, 'name': 'model_node', 'tags': ['graph:step:1'], 'run_id': '428bdfae-a785-44a6-92e7-a200c853d304', 'metadata': {'langgraph_step': 1, 'langgraph_node': 'model_node', 'langgraph_triggers': ['start:model_node'], 'langgraph_path': ('__pregel_pull', 'model_node'), 'langgraph_checkpoint_ns': 'model_node:1a4a4ef2-03ce-2464-dfee-6347799a4301'}, 'parent_ids': ['88c351a9-09c4-40b1-85b8-585211f15cc0']}\n",
            "\n",
            "--------------\n",
            "\n",
            "{'event': 'on_chat_model_start', 'data': {'input': {'messages': [[AIMessage(content='So you said you were researching ocean mammals?', additional_kwargs={}, response_metadata={}, name='Assitant', id='01cd51d6-5df2-42db-9eba-c12e8fac8a25'), HumanMessage(content='Yes, I know about whales. But what others should I learn about?', additional_kwargs={}, response_metadata={}, name='Anas', id='d5a9e901-3128-4b54-96b5-5933a0f55211')]]}}, 'name': 'ChatGoogleGenerativeAI', 'tags': ['seq:step:1'], 'run_id': '8e81aeda-7c54-4258-ba6e-7cd564d0b97a', 'metadata': {'langgraph_step': 1, 'langgraph_node': 'model_node', 'langgraph_triggers': ['start:model_node'], 'langgraph_path': ('__pregel_pull', 'model_node'), 'langgraph_checkpoint_ns': 'model_node:1a4a4ef2-03ce-2464-dfee-6347799a4301', 'checkpoint_ns': 'model_node:1a4a4ef2-03ce-2464-dfee-6347799a4301', 'ls_provider': 'google_genai', 'ls_model_name': 'models/gemini-2.0-flash', 'ls_model_type': 'chat', 'ls_temperature': 0.7}, 'parent_ids': ['88c351a9-09c4-40b1-85b8-585211f15cc0', '428bdfae-a785-44a6-92e7-a200c853d304']}\n",
            "\n",
            "--------------\n",
            "\n",
            "{'event': 'on_chat_model_stream', 'data': {'chunk': AIMessageChunk(content='Okay', additional_kwargs={}, response_metadata={'safety_ratings': []}, id='run-8e81aeda-7c54-4258-ba6e-7cd564d0b97a', usage_metadata={'input_tokens': 26, 'output_tokens': 0, 'total_tokens': 26, 'input_token_details': {'cache_read': 0}})}, 'run_id': '8e81aeda-7c54-4258-ba6e-7cd564d0b97a', 'name': 'ChatGoogleGenerativeAI', 'tags': ['seq:step:1'], 'metadata': {'langgraph_step': 1, 'langgraph_node': 'model_node', 'langgraph_triggers': ['start:model_node'], 'langgraph_path': ('__pregel_pull', 'model_node'), 'langgraph_checkpoint_ns': 'model_node:1a4a4ef2-03ce-2464-dfee-6347799a4301', 'checkpoint_ns': 'model_node:1a4a4ef2-03ce-2464-dfee-6347799a4301', 'ls_provider': 'google_genai', 'ls_model_name': 'models/gemini-2.0-flash', 'ls_model_type': 'chat', 'ls_temperature': 0.7}, 'parent_ids': ['88c351a9-09c4-40b1-85b8-585211f15cc0', '428bdfae-a785-44a6-92e7-a200c853d304']}\n",
            "\n",
            "--------------\n",
            "\n",
            "{'event': 'on_chat_model_stream', 'data': {'chunk': AIMessageChunk(content=', great', additional_kwargs={}, response_metadata={'safety_ratings': []}, id='run-8e81aeda-7c54-4258-ba6e-7cd564d0b97a', usage_metadata={'input_tokens': 0, 'output_tokens': 0, 'total_tokens': 0, 'input_token_details': {'cache_read': 0}})}, 'run_id': '8e81aeda-7c54-4258-ba6e-7cd564d0b97a', 'name': 'ChatGoogleGenerativeAI', 'tags': ['seq:step:1'], 'metadata': {'langgraph_step': 1, 'langgraph_node': 'model_node', 'langgraph_triggers': ['start:model_node'], 'langgraph_path': ('__pregel_pull', 'model_node'), 'langgraph_checkpoint_ns': 'model_node:1a4a4ef2-03ce-2464-dfee-6347799a4301', 'checkpoint_ns': 'model_node:1a4a4ef2-03ce-2464-dfee-6347799a4301', 'ls_provider': 'google_genai', 'ls_model_name': 'models/gemini-2.0-flash', 'ls_model_type': 'chat', 'ls_temperature': 0.7}, 'parent_ids': ['88c351a9-09c4-40b1-85b8-585211f15cc0', '428bdfae-a785-44a6-92e7-a200c853d304']}\n",
            "\n",
            "--------------\n",
            "\n",
            "{'event': 'on_chat_model_stream', 'data': {'chunk': AIMessageChunk(content='! Whales are a good start. To broaden your knowledge of ocean mammals beyond', additional_kwargs={}, response_metadata={'safety_ratings': []}, id='run-8e81aeda-7c54-4258-ba6e-7cd564d0b97a', usage_metadata={'input_tokens': 0, 'output_tokens': 0, 'total_tokens': 0, 'input_token_details': {'cache_read': 0}})}, 'run_id': '8e81aeda-7c54-4258-ba6e-7cd564d0b97a', 'name': 'ChatGoogleGenerativeAI', 'tags': ['seq:step:1'], 'metadata': {'langgraph_step': 1, 'langgraph_node': 'model_node', 'langgraph_triggers': ['start:model_node'], 'langgraph_path': ('__pregel_pull', 'model_node'), 'langgraph_checkpoint_ns': 'model_node:1a4a4ef2-03ce-2464-dfee-6347799a4301', 'checkpoint_ns': 'model_node:1a4a4ef2-03ce-2464-dfee-6347799a4301', 'ls_provider': 'google_genai', 'ls_model_name': 'models/gemini-2.0-flash', 'ls_model_type': 'chat', 'ls_temperature': 0.7}, 'parent_ids': ['88c351a9-09c4-40b1-85b8-585211f15cc0', '428bdfae-a785-44a6-92e7-a200c853d304']}\n",
            "\n",
            "--------------\n",
            "\n",
            "{'event': 'on_chat_model_stream', 'data': {'chunk': AIMessageChunk(content=\" whales, here's a breakdown of other key groups and some interesting examples:\\n\\n**1\", additional_kwargs={}, response_metadata={'safety_ratings': []}, id='run-8e81aeda-7c54-4258-ba6e-7cd564d0b97a', usage_metadata={'input_tokens': 0, 'output_tokens': 0, 'total_tokens': 0, 'input_token_details': {'cache_read': 0}})}, 'run_id': '8e81aeda-7c54-4258-ba6e-7cd564d0b97a', 'name': 'ChatGoogleGenerativeAI', 'tags': ['seq:step:1'], 'metadata': {'langgraph_step': 1, 'langgraph_node': 'model_node', 'langgraph_triggers': ['start:model_node'], 'langgraph_path': ('__pregel_pull', 'model_node'), 'langgraph_checkpoint_ns': 'model_node:1a4a4ef2-03ce-2464-dfee-6347799a4301', 'checkpoint_ns': 'model_node:1a4a4ef2-03ce-2464-dfee-6347799a4301', 'ls_provider': 'google_genai', 'ls_model_name': 'models/gemini-2.0-flash', 'ls_model_type': 'chat', 'ls_temperature': 0.7}, 'parent_ids': ['88c351a9-09c4-40b1-85b8-585211f15cc0', '428bdfae-a785-44a6-92e7-a200c853d304']}\n",
            "\n",
            "--------------\n",
            "\n",
            "{'event': 'on_chat_model_stream', 'data': {'chunk': AIMessageChunk(content='. Dolphins and Porpoises (Cetaceans - Odontocetes - Toothed Whales):**\\n\\n*   **Key Features:** These are closely related to whales (', additional_kwargs={}, response_metadata={'safety_ratings': []}, id='run-8e81aeda-7c54-4258-ba6e-7cd564d0b97a', usage_metadata={'input_tokens': 0, 'output_tokens': 0, 'total_tokens': 0, 'input_token_details': {'cache_read': 0}})}, 'run_id': '8e81aeda-7c54-4258-ba6e-7cd564d0b97a', 'name': 'ChatGoogleGenerativeAI', 'tags': ['seq:step:1'], 'metadata': {'langgraph_step': 1, 'langgraph_node': 'model_node', 'langgraph_triggers': ['start:model_node'], 'langgraph_path': ('__pregel_pull', 'model_node'), 'langgraph_checkpoint_ns': 'model_node:1a4a4ef2-03ce-2464-dfee-6347799a4301', 'checkpoint_ns': 'model_node:1a4a4ef2-03ce-2464-dfee-6347799a4301', 'ls_provider': 'google_genai', 'ls_model_name': 'models/gemini-2.0-flash', 'ls_model_type': 'chat', 'ls_temperature': 0.7}, 'parent_ids': ['88c351a9-09c4-40b1-85b8-585211f15cc0', '428bdfae-a785-44a6-92e7-a200c853d304']}\n",
            "\n",
            "--------------\n",
            "\n",
            "{'event': 'on_chat_model_stream', 'data': {'chunk': AIMessageChunk(content='both are cetaceans), but generally smaller and more agile. They have teeth and use echolocation to find prey.\\n*   **Examples:**\\n    *', additional_kwargs={}, response_metadata={'safety_ratings': []}, id='run-8e81aeda-7c54-4258-ba6e-7cd564d0b97a', usage_metadata={'input_tokens': 0, 'output_tokens': 0, 'total_tokens': 0, 'input_token_details': {'cache_read': 0}})}, 'run_id': '8e81aeda-7c54-4258-ba6e-7cd564d0b97a', 'name': 'ChatGoogleGenerativeAI', 'tags': ['seq:step:1'], 'metadata': {'langgraph_step': 1, 'langgraph_node': 'model_node', 'langgraph_triggers': ['start:model_node'], 'langgraph_path': ('__pregel_pull', 'model_node'), 'langgraph_checkpoint_ns': 'model_node:1a4a4ef2-03ce-2464-dfee-6347799a4301', 'checkpoint_ns': 'model_node:1a4a4ef2-03ce-2464-dfee-6347799a4301', 'ls_provider': 'google_genai', 'ls_model_name': 'models/gemini-2.0-flash', 'ls_model_type': 'chat', 'ls_temperature': 0.7}, 'parent_ids': ['88c351a9-09c4-40b1-85b8-585211f15cc0', '428bdfae-a785-44a6-92e7-a200c853d304']}\n",
            "\n",
            "--------------\n",
            "\n",
            "{'event': 'on_chat_model_stream', 'data': {'chunk': AIMessageChunk(content='   **Bottlenose Dolphin:** The classic dolphin, known for its intelligence and playful behavior.\\n    *   **Spinner Dolphin:** Famous for their acrobatic leaps out of the water.\\n    *   **Harbor Porpoise:** A', additional_kwargs={}, response_metadata={'safety_ratings': []}, id='run-8e81aeda-7c54-4258-ba6e-7cd564d0b97a', usage_metadata={'input_tokens': 0, 'output_tokens': 0, 'total_tokens': 0, 'input_token_details': {'cache_read': 0}})}, 'run_id': '8e81aeda-7c54-4258-ba6e-7cd564d0b97a', 'name': 'ChatGoogleGenerativeAI', 'tags': ['seq:step:1'], 'metadata': {'langgraph_step': 1, 'langgraph_node': 'model_node', 'langgraph_triggers': ['start:model_node'], 'langgraph_path': ('__pregel_pull', 'model_node'), 'langgraph_checkpoint_ns': 'model_node:1a4a4ef2-03ce-2464-dfee-6347799a4301', 'checkpoint_ns': 'model_node:1a4a4ef2-03ce-2464-dfee-6347799a4301', 'ls_provider': 'google_genai', 'ls_model_name': 'models/gemini-2.0-flash', 'ls_model_type': 'chat', 'ls_temperature': 0.7}, 'parent_ids': ['88c351a9-09c4-40b1-85b8-585211f15cc0', '428bdfae-a785-44a6-92e7-a200c853d304']}\n",
            "\n",
            "--------------\n",
            "\n",
            "{'event': 'on_chat_model_stream', 'data': {'chunk': AIMessageChunk(content=' small, shy porpoise found in coastal waters.\\n    *   **Orca (Killer Whale):** Technically a dolphin, the largest member of the dolphin family, and a highly intelligent predator.\\n\\n**2. Seals, Sea', additional_kwargs={}, response_metadata={'safety_ratings': []}, id='run-8e81aeda-7c54-4258-ba6e-7cd564d0b97a', usage_metadata={'input_tokens': 0, 'output_tokens': 0, 'total_tokens': 0, 'input_token_details': {'cache_read': 0}})}, 'run_id': '8e81aeda-7c54-4258-ba6e-7cd564d0b97a', 'name': 'ChatGoogleGenerativeAI', 'tags': ['seq:step:1'], 'metadata': {'langgraph_step': 1, 'langgraph_node': 'model_node', 'langgraph_triggers': ['start:model_node'], 'langgraph_path': ('__pregel_pull', 'model_node'), 'langgraph_checkpoint_ns': 'model_node:1a4a4ef2-03ce-2464-dfee-6347799a4301', 'checkpoint_ns': 'model_node:1a4a4ef2-03ce-2464-dfee-6347799a4301', 'ls_provider': 'google_genai', 'ls_model_name': 'models/gemini-2.0-flash', 'ls_model_type': 'chat', 'ls_temperature': 0.7}, 'parent_ids': ['88c351a9-09c4-40b1-85b8-585211f15cc0', '428bdfae-a785-44a6-92e7-a200c853d304']}\n",
            "\n",
            "--------------\n",
            "\n",
            "{'event': 'on_chat_model_stream', 'data': {'chunk': AIMessageChunk(content=' Lions, and Walruses (Pinnipeds):**\\n\\n*   **Key Features:** \"Pinniped\" means \"fin-footed.\" These mammals are adapted for both aquatic and terrestrial life. They have flippers for swimming and come ashore to breed and rest.\\n*   **Distinguishing Seals from', additional_kwargs={}, response_metadata={'safety_ratings': []}, id='run-8e81aeda-7c54-4258-ba6e-7cd564d0b97a', usage_metadata={'input_tokens': 0, 'output_tokens': 0, 'total_tokens': 0, 'input_token_details': {'cache_read': 0}})}, 'run_id': '8e81aeda-7c54-4258-ba6e-7cd564d0b97a', 'name': 'ChatGoogleGenerativeAI', 'tags': ['seq:step:1'], 'metadata': {'langgraph_step': 1, 'langgraph_node': 'model_node', 'langgraph_triggers': ['start:model_node'], 'langgraph_path': ('__pregel_pull', 'model_node'), 'langgraph_checkpoint_ns': 'model_node:1a4a4ef2-03ce-2464-dfee-6347799a4301', 'checkpoint_ns': 'model_node:1a4a4ef2-03ce-2464-dfee-6347799a4301', 'ls_provider': 'google_genai', 'ls_model_name': 'models/gemini-2.0-flash', 'ls_model_type': 'chat', 'ls_temperature': 0.7}, 'parent_ids': ['88c351a9-09c4-40b1-85b8-585211f15cc0', '428bdfae-a785-44a6-92e7-a200c853d304']}\n",
            "\n",
            "--------------\n",
            "\n",
            "{'event': 'on_chat_model_stream', 'data': {'chunk': AIMessageChunk(content=' Sea Lions:** Seals lack external ear flaps and use their hind flippers for propulsion in the water. Sea lions have external ear flaps and use their front flippers for propulsion.\\n*   **Examples:**\\n    *   **Harbor Seal:** A common seal with a spotted coat.\\n    *   **Grey', additional_kwargs={}, response_metadata={'safety_ratings': []}, id='run-8e81aeda-7c54-4258-ba6e-7cd564d0b97a', usage_metadata={'input_tokens': 0, 'output_tokens': 0, 'total_tokens': 0, 'input_token_details': {'cache_read': 0}})}, 'run_id': '8e81aeda-7c54-4258-ba6e-7cd564d0b97a', 'name': 'ChatGoogleGenerativeAI', 'tags': ['seq:step:1'], 'metadata': {'langgraph_step': 1, 'langgraph_node': 'model_node', 'langgraph_triggers': ['start:model_node'], 'langgraph_path': ('__pregel_pull', 'model_node'), 'langgraph_checkpoint_ns': 'model_node:1a4a4ef2-03ce-2464-dfee-6347799a4301', 'checkpoint_ns': 'model_node:1a4a4ef2-03ce-2464-dfee-6347799a4301', 'ls_provider': 'google_genai', 'ls_model_name': 'models/gemini-2.0-flash', 'ls_model_type': 'chat', 'ls_temperature': 0.7}, 'parent_ids': ['88c351a9-09c4-40b1-85b8-585211f15cc0', '428bdfae-a785-44a6-92e7-a200c853d304']}\n",
            "\n",
            "--------------\n",
            "\n",
            "{'event': 'on_chat_model_stream', 'data': {'chunk': AIMessageChunk(content=' Seal:** A larger seal with a distinctive \"Roman nose.\"\\n    *   **California Sea Lion:** The noisy, playful sea lion often seen in zoos and aquariums.\\n    *   **Steller Sea Lion:** A larger, more robust sea lion found in the North Pacific.\\n    *   **Wal', additional_kwargs={}, response_metadata={'safety_ratings': []}, id='run-8e81aeda-7c54-4258-ba6e-7cd564d0b97a', usage_metadata={'input_tokens': 0, 'output_tokens': 0, 'total_tokens': 0, 'input_token_details': {'cache_read': 0}})}, 'run_id': '8e81aeda-7c54-4258-ba6e-7cd564d0b97a', 'name': 'ChatGoogleGenerativeAI', 'tags': ['seq:step:1'], 'metadata': {'langgraph_step': 1, 'langgraph_node': 'model_node', 'langgraph_triggers': ['start:model_node'], 'langgraph_path': ('__pregel_pull', 'model_node'), 'langgraph_checkpoint_ns': 'model_node:1a4a4ef2-03ce-2464-dfee-6347799a4301', 'checkpoint_ns': 'model_node:1a4a4ef2-03ce-2464-dfee-6347799a4301', 'ls_provider': 'google_genai', 'ls_model_name': 'models/gemini-2.0-flash', 'ls_model_type': 'chat', 'ls_temperature': 0.7}, 'parent_ids': ['88c351a9-09c4-40b1-85b8-585211f15cc0', '428bdfae-a785-44a6-92e7-a200c853d304']}\n",
            "\n",
            "--------------\n",
            "\n",
            "{'event': 'on_chat_model_stream', 'data': {'chunk': AIMessageChunk(content='rus:** Known for its tusks, which are used for defense, hauling itself onto ice, and foraging.\\n\\n**3. Manatees and Dugongs (Sirenians):**\\n\\n*   **Key Features:** Herbivorous marine mammals, often called \"sea cows.\" They have paddle-like flippers and', additional_kwargs={}, response_metadata={'safety_ratings': []}, id='run-8e81aeda-7c54-4258-ba6e-7cd564d0b97a', usage_metadata={'input_tokens': 0, 'output_tokens': 0, 'total_tokens': 0, 'input_token_details': {'cache_read': 0}})}, 'run_id': '8e81aeda-7c54-4258-ba6e-7cd564d0b97a', 'name': 'ChatGoogleGenerativeAI', 'tags': ['seq:step:1'], 'metadata': {'langgraph_step': 1, 'langgraph_node': 'model_node', 'langgraph_triggers': ['start:model_node'], 'langgraph_path': ('__pregel_pull', 'model_node'), 'langgraph_checkpoint_ns': 'model_node:1a4a4ef2-03ce-2464-dfee-6347799a4301', 'checkpoint_ns': 'model_node:1a4a4ef2-03ce-2464-dfee-6347799a4301', 'ls_provider': 'google_genai', 'ls_model_name': 'models/gemini-2.0-flash', 'ls_model_type': 'chat', 'ls_temperature': 0.7}, 'parent_ids': ['88c351a9-09c4-40b1-85b8-585211f15cc0', '428bdfae-a785-44a6-92e7-a200c853d304']}\n",
            "\n",
            "--------------\n",
            "\n",
            "{'event': 'on_chat_model_stream', 'data': {'chunk': AIMessageChunk(content=' a flattened tail. They are slow-moving and generally found in warm, shallow waters.\\n*   **Examples:**\\n    *   **West Indian Manatee:** Found in the southeastern United States and the Caribbean.\\n    *   **Amazonian Manatee:** Found in the Amazon River basin.\\n    *   **D', additional_kwargs={}, response_metadata={'safety_ratings': []}, id='run-8e81aeda-7c54-4258-ba6e-7cd564d0b97a', usage_metadata={'input_tokens': 0, 'output_tokens': 0, 'total_tokens': 0, 'input_token_details': {'cache_read': 0}})}, 'run_id': '8e81aeda-7c54-4258-ba6e-7cd564d0b97a', 'name': 'ChatGoogleGenerativeAI', 'tags': ['seq:step:1'], 'metadata': {'langgraph_step': 1, 'langgraph_node': 'model_node', 'langgraph_triggers': ['start:model_node'], 'langgraph_path': ('__pregel_pull', 'model_node'), 'langgraph_checkpoint_ns': 'model_node:1a4a4ef2-03ce-2464-dfee-6347799a4301', 'checkpoint_ns': 'model_node:1a4a4ef2-03ce-2464-dfee-6347799a4301', 'ls_provider': 'google_genai', 'ls_model_name': 'models/gemini-2.0-flash', 'ls_model_type': 'chat', 'ls_temperature': 0.7}, 'parent_ids': ['88c351a9-09c4-40b1-85b8-585211f15cc0', '428bdfae-a785-44a6-92e7-a200c853d304']}\n",
            "\n",
            "--------------\n",
            "\n",
            "{'event': 'on_chat_model_stream', 'data': {'chunk': AIMessageChunk(content='ugong:** Found in the Indo-Pacific region.\\n\\n**4. Sea Otters (Mustelids):**\\n\\n*   **Key Features:** Smallest marine mammal in North America. They have thick fur that insulates them in cold water. They are known for using tools, like rocks, to crack open shellfish', additional_kwargs={}, response_metadata={'safety_ratings': []}, id='run-8e81aeda-7c54-4258-ba6e-7cd564d0b97a', usage_metadata={'input_tokens': 0, 'output_tokens': 0, 'total_tokens': 0, 'input_token_details': {'cache_read': 0}})}, 'run_id': '8e81aeda-7c54-4258-ba6e-7cd564d0b97a', 'name': 'ChatGoogleGenerativeAI', 'tags': ['seq:step:1'], 'metadata': {'langgraph_step': 1, 'langgraph_node': 'model_node', 'langgraph_triggers': ['start:model_node'], 'langgraph_path': ('__pregel_pull', 'model_node'), 'langgraph_checkpoint_ns': 'model_node:1a4a4ef2-03ce-2464-dfee-6347799a4301', 'checkpoint_ns': 'model_node:1a4a4ef2-03ce-2464-dfee-6347799a4301', 'ls_provider': 'google_genai', 'ls_model_name': 'models/gemini-2.0-flash', 'ls_model_type': 'chat', 'ls_temperature': 0.7}, 'parent_ids': ['88c351a9-09c4-40b1-85b8-585211f15cc0', '428bdfae-a785-44a6-92e7-a200c853d304']}\n",
            "\n",
            "--------------\n",
            "\n",
            "{'event': 'on_chat_model_stream', 'data': {'chunk': AIMessageChunk(content='.\\n*   **Examples:**\\n    *   **Sea Otter** Found along the Pacific Coast of North America and Asia\\n\\n**5. Polar Bears (Ursids):**\\n\\n*   **Key Features:** Highly adapted for life in the Arctic. They have thick fur and a layer of blubber for insulation. They are', additional_kwargs={}, response_metadata={'safety_ratings': []}, id='run-8e81aeda-7c54-4258-ba6e-7cd564d0b97a', usage_metadata={'input_tokens': 0, 'output_tokens': 0, 'total_tokens': 0, 'input_token_details': {'cache_read': 0}})}, 'run_id': '8e81aeda-7c54-4258-ba6e-7cd564d0b97a', 'name': 'ChatGoogleGenerativeAI', 'tags': ['seq:step:1'], 'metadata': {'langgraph_step': 1, 'langgraph_node': 'model_node', 'langgraph_triggers': ['start:model_node'], 'langgraph_path': ('__pregel_pull', 'model_node'), 'langgraph_checkpoint_ns': 'model_node:1a4a4ef2-03ce-2464-dfee-6347799a4301', 'checkpoint_ns': 'model_node:1a4a4ef2-03ce-2464-dfee-6347799a4301', 'ls_provider': 'google_genai', 'ls_model_name': 'models/gemini-2.0-flash', 'ls_model_type': 'chat', 'ls_temperature': 0.7}, 'parent_ids': ['88c351a9-09c4-40b1-85b8-585211f15cc0', '428bdfae-a785-44a6-92e7-a200c853d304']}\n",
            "\n",
            "--------------\n",
            "\n",
            "{'event': 'on_chat_model_stream', 'data': {'chunk': AIMessageChunk(content=' powerful swimmers and hunters of seals.\\n\\n**To Learn More, Consider Researching:**\\n\\n*   **Their Diet:** What do they eat and how do they obtain their food?\\n*   **Their Habitat:** Where do they live and what are the characteristics of their environment?\\n*   **Their Behavior:** How', additional_kwargs={}, response_metadata={'safety_ratings': []}, id='run-8e81aeda-7c54-4258-ba6e-7cd564d0b97a', usage_metadata={'input_tokens': 0, 'output_tokens': 0, 'total_tokens': 0, 'input_token_details': {'cache_read': 0}})}, 'run_id': '8e81aeda-7c54-4258-ba6e-7cd564d0b97a', 'name': 'ChatGoogleGenerativeAI', 'tags': ['seq:step:1'], 'metadata': {'langgraph_step': 1, 'langgraph_node': 'model_node', 'langgraph_triggers': ['start:model_node'], 'langgraph_path': ('__pregel_pull', 'model_node'), 'langgraph_checkpoint_ns': 'model_node:1a4a4ef2-03ce-2464-dfee-6347799a4301', 'checkpoint_ns': 'model_node:1a4a4ef2-03ce-2464-dfee-6347799a4301', 'ls_provider': 'google_genai', 'ls_model_name': 'models/gemini-2.0-flash', 'ls_model_type': 'chat', 'ls_temperature': 0.7}, 'parent_ids': ['88c351a9-09c4-40b1-85b8-585211f15cc0', '428bdfae-a785-44a6-92e7-a200c853d304']}\n",
            "\n",
            "--------------\n",
            "\n",
            "{'event': 'on_chat_model_stream', 'data': {'chunk': AIMessageChunk(content=' do they interact with each other and other species? What are their social structures?\\n*   **Their Conservation Status:** Are they endangered, threatened, or vulnerable? What are the threats to their survival?\\n*   **Their Adaptations:** What physical and behavioral adaptations allow them to thrive in their marine environment?\\n\\n**', additional_kwargs={}, response_metadata={'safety_ratings': []}, id='run-8e81aeda-7c54-4258-ba6e-7cd564d0b97a', usage_metadata={'input_tokens': 0, 'output_tokens': 0, 'total_tokens': 0, 'input_token_details': {'cache_read': 0}})}, 'run_id': '8e81aeda-7c54-4258-ba6e-7cd564d0b97a', 'name': 'ChatGoogleGenerativeAI', 'tags': ['seq:step:1'], 'metadata': {'langgraph_step': 1, 'langgraph_node': 'model_node', 'langgraph_triggers': ['start:model_node'], 'langgraph_path': ('__pregel_pull', 'model_node'), 'langgraph_checkpoint_ns': 'model_node:1a4a4ef2-03ce-2464-dfee-6347799a4301', 'checkpoint_ns': 'model_node:1a4a4ef2-03ce-2464-dfee-6347799a4301', 'ls_provider': 'google_genai', 'ls_model_name': 'models/gemini-2.0-flash', 'ls_model_type': 'chat', 'ls_temperature': 0.7}, 'parent_ids': ['88c351a9-09c4-40b1-85b8-585211f15cc0', '428bdfae-a785-44a6-92e7-a200c853d304']}\n",
            "\n",
            "--------------\n",
            "\n",
            "{'event': 'on_chat_model_stream', 'data': {'chunk': AIMessageChunk(content='Where to Find Information:**\\n\\n*   **National Oceanic and Atmospheric Administration (NOAA):** A great source for scientific information on marine mammals.\\n*   **World Wildlife Fund (WWF):** Provides information on conservation efforts and threats to marine mammals.\\n*   **The Marine Mammal Center:** A rehabilitation', additional_kwargs={}, response_metadata={'safety_ratings': []}, id='run-8e81aeda-7c54-4258-ba6e-7cd564d0b97a', usage_metadata={'input_tokens': 0, 'output_tokens': 0, 'total_tokens': 0, 'input_token_details': {'cache_read': 0}})}, 'run_id': '8e81aeda-7c54-4258-ba6e-7cd564d0b97a', 'name': 'ChatGoogleGenerativeAI', 'tags': ['seq:step:1'], 'metadata': {'langgraph_step': 1, 'langgraph_node': 'model_node', 'langgraph_triggers': ['start:model_node'], 'langgraph_path': ('__pregel_pull', 'model_node'), 'langgraph_checkpoint_ns': 'model_node:1a4a4ef2-03ce-2464-dfee-6347799a4301', 'checkpoint_ns': 'model_node:1a4a4ef2-03ce-2464-dfee-6347799a4301', 'ls_provider': 'google_genai', 'ls_model_name': 'models/gemini-2.0-flash', 'ls_model_type': 'chat', 'ls_temperature': 0.7}, 'parent_ids': ['88c351a9-09c4-40b1-85b8-585211f15cc0', '428bdfae-a785-44a6-92e7-a200c853d304']}\n",
            "\n",
            "--------------\n",
            "\n",
            "{'event': 'on_chat_model_stream', 'data': {'chunk': AIMessageChunk(content=\" center and research organization.\\n*   **University Research:** Search for scientific papers on specific marine mammal species.\\n*   **Books:** Many excellent books are available on marine mammals, covering various aspects of their biology and conservation.\\n\\nBy exploring these different groups and focusing on the key areas I mentioned, you'll\", additional_kwargs={}, response_metadata={'safety_ratings': []}, id='run-8e81aeda-7c54-4258-ba6e-7cd564d0b97a', usage_metadata={'input_tokens': 0, 'output_tokens': 0, 'total_tokens': 0, 'input_token_details': {'cache_read': 0}})}, 'run_id': '8e81aeda-7c54-4258-ba6e-7cd564d0b97a', 'name': 'ChatGoogleGenerativeAI', 'tags': ['seq:step:1'], 'metadata': {'langgraph_step': 1, 'langgraph_node': 'model_node', 'langgraph_triggers': ['start:model_node'], 'langgraph_path': ('__pregel_pull', 'model_node'), 'langgraph_checkpoint_ns': 'model_node:1a4a4ef2-03ce-2464-dfee-6347799a4301', 'checkpoint_ns': 'model_node:1a4a4ef2-03ce-2464-dfee-6347799a4301', 'ls_provider': 'google_genai', 'ls_model_name': 'models/gemini-2.0-flash', 'ls_model_type': 'chat', 'ls_temperature': 0.7}, 'parent_ids': ['88c351a9-09c4-40b1-85b8-585211f15cc0', '428bdfae-a785-44a6-92e7-a200c853d304']}\n",
            "\n",
            "--------------\n",
            "\n",
            "{'event': 'on_chat_model_stream', 'data': {'chunk': AIMessageChunk(content=\" develop a much more comprehensive understanding of ocean mammals. Let me know if you'd like me to elaborate on any of these groups or topics!\", additional_kwargs={}, response_metadata={'finish_reason': 'STOP', 'safety_ratings': []}, id='run-8e81aeda-7c54-4258-ba6e-7cd564d0b97a', usage_metadata={'input_tokens': -2, 'output_tokens': 935, 'total_tokens': 933, 'input_token_details': {'cache_read': 0}})}, 'run_id': '8e81aeda-7c54-4258-ba6e-7cd564d0b97a', 'name': 'ChatGoogleGenerativeAI', 'tags': ['seq:step:1'], 'metadata': {'langgraph_step': 1, 'langgraph_node': 'model_node', 'langgraph_triggers': ['start:model_node'], 'langgraph_path': ('__pregel_pull', 'model_node'), 'langgraph_checkpoint_ns': 'model_node:1a4a4ef2-03ce-2464-dfee-6347799a4301', 'checkpoint_ns': 'model_node:1a4a4ef2-03ce-2464-dfee-6347799a4301', 'ls_provider': 'google_genai', 'ls_model_name': 'models/gemini-2.0-flash', 'ls_model_type': 'chat', 'ls_temperature': 0.7}, 'parent_ids': ['88c351a9-09c4-40b1-85b8-585211f15cc0', '428bdfae-a785-44a6-92e7-a200c853d304']}\n",
            "\n",
            "--------------\n",
            "\n",
            "{'event': 'on_chat_model_end', 'data': {'output': AIMessage(content='Okay, great! Whales are a good start. To broaden your knowledge of ocean mammals beyond whales, here\\'s a breakdown of other key groups and some interesting examples:\\n\\n**1. Dolphins and Porpoises (Cetaceans - Odontocetes - Toothed Whales):**\\n\\n*   **Key Features:** These are closely related to whales (both are cetaceans), but generally smaller and more agile. They have teeth and use echolocation to find prey.\\n*   **Examples:**\\n    *   **Bottlenose Dolphin:** The classic dolphin, known for its intelligence and playful behavior.\\n    *   **Spinner Dolphin:** Famous for their acrobatic leaps out of the water.\\n    *   **Harbor Porpoise:** A small, shy porpoise found in coastal waters.\\n    *   **Orca (Killer Whale):** Technically a dolphin, the largest member of the dolphin family, and a highly intelligent predator.\\n\\n**2. Seals, Sea Lions, and Walruses (Pinnipeds):**\\n\\n*   **Key Features:** \"Pinniped\" means \"fin-footed.\" These mammals are adapted for both aquatic and terrestrial life. They have flippers for swimming and come ashore to breed and rest.\\n*   **Distinguishing Seals from Sea Lions:** Seals lack external ear flaps and use their hind flippers for propulsion in the water. Sea lions have external ear flaps and use their front flippers for propulsion.\\n*   **Examples:**\\n    *   **Harbor Seal:** A common seal with a spotted coat.\\n    *   **Grey Seal:** A larger seal with a distinctive \"Roman nose.\"\\n    *   **California Sea Lion:** The noisy, playful sea lion often seen in zoos and aquariums.\\n    *   **Steller Sea Lion:** A larger, more robust sea lion found in the North Pacific.\\n    *   **Walrus:** Known for its tusks, which are used for defense, hauling itself onto ice, and foraging.\\n\\n**3. Manatees and Dugongs (Sirenians):**\\n\\n*   **Key Features:** Herbivorous marine mammals, often called \"sea cows.\" They have paddle-like flippers and a flattened tail. They are slow-moving and generally found in warm, shallow waters.\\n*   **Examples:**\\n    *   **West Indian Manatee:** Found in the southeastern United States and the Caribbean.\\n    *   **Amazonian Manatee:** Found in the Amazon River basin.\\n    *   **Dugong:** Found in the Indo-Pacific region.\\n\\n**4. Sea Otters (Mustelids):**\\n\\n*   **Key Features:** Smallest marine mammal in North America. They have thick fur that insulates them in cold water. They are known for using tools, like rocks, to crack open shellfish.\\n*   **Examples:**\\n    *   **Sea Otter** Found along the Pacific Coast of North America and Asia\\n\\n**5. Polar Bears (Ursids):**\\n\\n*   **Key Features:** Highly adapted for life in the Arctic. They have thick fur and a layer of blubber for insulation. They are powerful swimmers and hunters of seals.\\n\\n**To Learn More, Consider Researching:**\\n\\n*   **Their Diet:** What do they eat and how do they obtain their food?\\n*   **Their Habitat:** Where do they live and what are the characteristics of their environment?\\n*   **Their Behavior:** How do they interact with each other and other species? What are their social structures?\\n*   **Their Conservation Status:** Are they endangered, threatened, or vulnerable? What are the threats to their survival?\\n*   **Their Adaptations:** What physical and behavioral adaptations allow them to thrive in their marine environment?\\n\\n**Where to Find Information:**\\n\\n*   **National Oceanic and Atmospheric Administration (NOAA):** A great source for scientific information on marine mammals.\\n*   **World Wildlife Fund (WWF):** Provides information on conservation efforts and threats to marine mammals.\\n*   **The Marine Mammal Center:** A rehabilitation center and research organization.\\n*   **University Research:** Search for scientific papers on specific marine mammal species.\\n*   **Books:** Many excellent books are available on marine mammals, covering various aspects of their biology and conservation.\\n\\nBy exploring these different groups and focusing on the key areas I mentioned, you\\'ll develop a much more comprehensive understanding of ocean mammals. Let me know if you\\'d like me to elaborate on any of these groups or topics!', additional_kwargs={}, response_metadata={'safety_ratings': [], 'finish_reason': 'STOP'}, id='run-8e81aeda-7c54-4258-ba6e-7cd564d0b97a', usage_metadata={'input_tokens': 24, 'output_tokens': 935, 'total_tokens': 959, 'input_token_details': {'cache_read': 0}}), 'input': {'messages': [[AIMessage(content='So you said you were researching ocean mammals?', additional_kwargs={}, response_metadata={}, name='Assitant', id='01cd51d6-5df2-42db-9eba-c12e8fac8a25'), HumanMessage(content='Yes, I know about whales. But what others should I learn about?', additional_kwargs={}, response_metadata={}, name='Anas', id='d5a9e901-3128-4b54-96b5-5933a0f55211')]]}}, 'run_id': '8e81aeda-7c54-4258-ba6e-7cd564d0b97a', 'name': 'ChatGoogleGenerativeAI', 'tags': ['seq:step:1'], 'metadata': {'langgraph_step': 1, 'langgraph_node': 'model_node', 'langgraph_triggers': ['start:model_node'], 'langgraph_path': ('__pregel_pull', 'model_node'), 'langgraph_checkpoint_ns': 'model_node:1a4a4ef2-03ce-2464-dfee-6347799a4301', 'checkpoint_ns': 'model_node:1a4a4ef2-03ce-2464-dfee-6347799a4301', 'ls_provider': 'google_genai', 'ls_model_name': 'models/gemini-2.0-flash', 'ls_model_type': 'chat', 'ls_temperature': 0.7}, 'parent_ids': ['88c351a9-09c4-40b1-85b8-585211f15cc0', '428bdfae-a785-44a6-92e7-a200c853d304']}\n",
            "\n",
            "--------------\n",
            "\n",
            "{'event': 'on_chain_start', 'data': {'input': {'messages': [AIMessage(content='Okay, great! Whales are a good start. To broaden your knowledge of ocean mammals beyond whales, here\\'s a breakdown of other key groups and some interesting examples:\\n\\n**1. Dolphins and Porpoises (Cetaceans - Odontocetes - Toothed Whales):**\\n\\n*   **Key Features:** These are closely related to whales (both are cetaceans), but generally smaller and more agile. They have teeth and use echolocation to find prey.\\n*   **Examples:**\\n    *   **Bottlenose Dolphin:** The classic dolphin, known for its intelligence and playful behavior.\\n    *   **Spinner Dolphin:** Famous for their acrobatic leaps out of the water.\\n    *   **Harbor Porpoise:** A small, shy porpoise found in coastal waters.\\n    *   **Orca (Killer Whale):** Technically a dolphin, the largest member of the dolphin family, and a highly intelligent predator.\\n\\n**2. Seals, Sea Lions, and Walruses (Pinnipeds):**\\n\\n*   **Key Features:** \"Pinniped\" means \"fin-footed.\" These mammals are adapted for both aquatic and terrestrial life. They have flippers for swimming and come ashore to breed and rest.\\n*   **Distinguishing Seals from Sea Lions:** Seals lack external ear flaps and use their hind flippers for propulsion in the water. Sea lions have external ear flaps and use their front flippers for propulsion.\\n*   **Examples:**\\n    *   **Harbor Seal:** A common seal with a spotted coat.\\n    *   **Grey Seal:** A larger seal with a distinctive \"Roman nose.\"\\n    *   **California Sea Lion:** The noisy, playful sea lion often seen in zoos and aquariums.\\n    *   **Steller Sea Lion:** A larger, more robust sea lion found in the North Pacific.\\n    *   **Walrus:** Known for its tusks, which are used for defense, hauling itself onto ice, and foraging.\\n\\n**3. Manatees and Dugongs (Sirenians):**\\n\\n*   **Key Features:** Herbivorous marine mammals, often called \"sea cows.\" They have paddle-like flippers and a flattened tail. They are slow-moving and generally found in warm, shallow waters.\\n*   **Examples:**\\n    *   **West Indian Manatee:** Found in the southeastern United States and the Caribbean.\\n    *   **Amazonian Manatee:** Found in the Amazon River basin.\\n    *   **Dugong:** Found in the Indo-Pacific region.\\n\\n**4. Sea Otters (Mustelids):**\\n\\n*   **Key Features:** Smallest marine mammal in North America. They have thick fur that insulates them in cold water. They are known for using tools, like rocks, to crack open shellfish.\\n*   **Examples:**\\n    *   **Sea Otter** Found along the Pacific Coast of North America and Asia\\n\\n**5. Polar Bears (Ursids):**\\n\\n*   **Key Features:** Highly adapted for life in the Arctic. They have thick fur and a layer of blubber for insulation. They are powerful swimmers and hunters of seals.\\n\\n**To Learn More, Consider Researching:**\\n\\n*   **Their Diet:** What do they eat and how do they obtain their food?\\n*   **Their Habitat:** Where do they live and what are the characteristics of their environment?\\n*   **Their Behavior:** How do they interact with each other and other species? What are their social structures?\\n*   **Their Conservation Status:** Are they endangered, threatened, or vulnerable? What are the threats to their survival?\\n*   **Their Adaptations:** What physical and behavioral adaptations allow them to thrive in their marine environment?\\n\\n**Where to Find Information:**\\n\\n*   **National Oceanic and Atmospheric Administration (NOAA):** A great source for scientific information on marine mammals.\\n*   **World Wildlife Fund (WWF):** Provides information on conservation efforts and threats to marine mammals.\\n*   **The Marine Mammal Center:** A rehabilitation center and research organization.\\n*   **University Research:** Search for scientific papers on specific marine mammal species.\\n*   **Books:** Many excellent books are available on marine mammals, covering various aspects of their biology and conservation.\\n\\nBy exploring these different groups and focusing on the key areas I mentioned, you\\'ll develop a much more comprehensive understanding of ocean mammals. Let me know if you\\'d like me to elaborate on any of these groups or topics!', additional_kwargs={}, response_metadata={'safety_ratings': [], 'finish_reason': 'STOP'}, id='run-8e81aeda-7c54-4258-ba6e-7cd564d0b97a', usage_metadata={'input_tokens': 24, 'output_tokens': 935, 'total_tokens': 959, 'input_token_details': {'cache_read': 0}})]}}, 'name': '_write', 'tags': ['seq:step:2', 'langsmith:hidden'], 'run_id': '49f8a419-cef1-47b9-974f-153ad811b82b', 'metadata': {'langgraph_step': 1, 'langgraph_node': 'model_node', 'langgraph_triggers': ['start:model_node'], 'langgraph_path': ('__pregel_pull', 'model_node'), 'langgraph_checkpoint_ns': 'model_node:1a4a4ef2-03ce-2464-dfee-6347799a4301'}, 'parent_ids': ['88c351a9-09c4-40b1-85b8-585211f15cc0', '428bdfae-a785-44a6-92e7-a200c853d304']}\n",
            "\n",
            "--------------\n",
            "\n",
            "{'event': 'on_chain_end', 'data': {'output': {'messages': [AIMessage(content='Okay, great! Whales are a good start. To broaden your knowledge of ocean mammals beyond whales, here\\'s a breakdown of other key groups and some interesting examples:\\n\\n**1. Dolphins and Porpoises (Cetaceans - Odontocetes - Toothed Whales):**\\n\\n*   **Key Features:** These are closely related to whales (both are cetaceans), but generally smaller and more agile. They have teeth and use echolocation to find prey.\\n*   **Examples:**\\n    *   **Bottlenose Dolphin:** The classic dolphin, known for its intelligence and playful behavior.\\n    *   **Spinner Dolphin:** Famous for their acrobatic leaps out of the water.\\n    *   **Harbor Porpoise:** A small, shy porpoise found in coastal waters.\\n    *   **Orca (Killer Whale):** Technically a dolphin, the largest member of the dolphin family, and a highly intelligent predator.\\n\\n**2. Seals, Sea Lions, and Walruses (Pinnipeds):**\\n\\n*   **Key Features:** \"Pinniped\" means \"fin-footed.\" These mammals are adapted for both aquatic and terrestrial life. They have flippers for swimming and come ashore to breed and rest.\\n*   **Distinguishing Seals from Sea Lions:** Seals lack external ear flaps and use their hind flippers for propulsion in the water. Sea lions have external ear flaps and use their front flippers for propulsion.\\n*   **Examples:**\\n    *   **Harbor Seal:** A common seal with a spotted coat.\\n    *   **Grey Seal:** A larger seal with a distinctive \"Roman nose.\"\\n    *   **California Sea Lion:** The noisy, playful sea lion often seen in zoos and aquariums.\\n    *   **Steller Sea Lion:** A larger, more robust sea lion found in the North Pacific.\\n    *   **Walrus:** Known for its tusks, which are used for defense, hauling itself onto ice, and foraging.\\n\\n**3. Manatees and Dugongs (Sirenians):**\\n\\n*   **Key Features:** Herbivorous marine mammals, often called \"sea cows.\" They have paddle-like flippers and a flattened tail. They are slow-moving and generally found in warm, shallow waters.\\n*   **Examples:**\\n    *   **West Indian Manatee:** Found in the southeastern United States and the Caribbean.\\n    *   **Amazonian Manatee:** Found in the Amazon River basin.\\n    *   **Dugong:** Found in the Indo-Pacific region.\\n\\n**4. Sea Otters (Mustelids):**\\n\\n*   **Key Features:** Smallest marine mammal in North America. They have thick fur that insulates them in cold water. They are known for using tools, like rocks, to crack open shellfish.\\n*   **Examples:**\\n    *   **Sea Otter** Found along the Pacific Coast of North America and Asia\\n\\n**5. Polar Bears (Ursids):**\\n\\n*   **Key Features:** Highly adapted for life in the Arctic. They have thick fur and a layer of blubber for insulation. They are powerful swimmers and hunters of seals.\\n\\n**To Learn More, Consider Researching:**\\n\\n*   **Their Diet:** What do they eat and how do they obtain their food?\\n*   **Their Habitat:** Where do they live and what are the characteristics of their environment?\\n*   **Their Behavior:** How do they interact with each other and other species? What are their social structures?\\n*   **Their Conservation Status:** Are they endangered, threatened, or vulnerable? What are the threats to their survival?\\n*   **Their Adaptations:** What physical and behavioral adaptations allow them to thrive in their marine environment?\\n\\n**Where to Find Information:**\\n\\n*   **National Oceanic and Atmospheric Administration (NOAA):** A great source for scientific information on marine mammals.\\n*   **World Wildlife Fund (WWF):** Provides information on conservation efforts and threats to marine mammals.\\n*   **The Marine Mammal Center:** A rehabilitation center and research organization.\\n*   **University Research:** Search for scientific papers on specific marine mammal species.\\n*   **Books:** Many excellent books are available on marine mammals, covering various aspects of their biology and conservation.\\n\\nBy exploring these different groups and focusing on the key areas I mentioned, you\\'ll develop a much more comprehensive understanding of ocean mammals. Let me know if you\\'d like me to elaborate on any of these groups or topics!', additional_kwargs={}, response_metadata={'safety_ratings': [], 'finish_reason': 'STOP'}, id='run-8e81aeda-7c54-4258-ba6e-7cd564d0b97a', usage_metadata={'input_tokens': 24, 'output_tokens': 935, 'total_tokens': 959, 'input_token_details': {'cache_read': 0}})]}, 'input': {'messages': [AIMessage(content='Okay, great! Whales are a good start. To broaden your knowledge of ocean mammals beyond whales, here\\'s a breakdown of other key groups and some interesting examples:\\n\\n**1. Dolphins and Porpoises (Cetaceans - Odontocetes - Toothed Whales):**\\n\\n*   **Key Features:** These are closely related to whales (both are cetaceans), but generally smaller and more agile. They have teeth and use echolocation to find prey.\\n*   **Examples:**\\n    *   **Bottlenose Dolphin:** The classic dolphin, known for its intelligence and playful behavior.\\n    *   **Spinner Dolphin:** Famous for their acrobatic leaps out of the water.\\n    *   **Harbor Porpoise:** A small, shy porpoise found in coastal waters.\\n    *   **Orca (Killer Whale):** Technically a dolphin, the largest member of the dolphin family, and a highly intelligent predator.\\n\\n**2. Seals, Sea Lions, and Walruses (Pinnipeds):**\\n\\n*   **Key Features:** \"Pinniped\" means \"fin-footed.\" These mammals are adapted for both aquatic and terrestrial life. They have flippers for swimming and come ashore to breed and rest.\\n*   **Distinguishing Seals from Sea Lions:** Seals lack external ear flaps and use their hind flippers for propulsion in the water. Sea lions have external ear flaps and use their front flippers for propulsion.\\n*   **Examples:**\\n    *   **Harbor Seal:** A common seal with a spotted coat.\\n    *   **Grey Seal:** A larger seal with a distinctive \"Roman nose.\"\\n    *   **California Sea Lion:** The noisy, playful sea lion often seen in zoos and aquariums.\\n    *   **Steller Sea Lion:** A larger, more robust sea lion found in the North Pacific.\\n    *   **Walrus:** Known for its tusks, which are used for defense, hauling itself onto ice, and foraging.\\n\\n**3. Manatees and Dugongs (Sirenians):**\\n\\n*   **Key Features:** Herbivorous marine mammals, often called \"sea cows.\" They have paddle-like flippers and a flattened tail. They are slow-moving and generally found in warm, shallow waters.\\n*   **Examples:**\\n    *   **West Indian Manatee:** Found in the southeastern United States and the Caribbean.\\n    *   **Amazonian Manatee:** Found in the Amazon River basin.\\n    *   **Dugong:** Found in the Indo-Pacific region.\\n\\n**4. Sea Otters (Mustelids):**\\n\\n*   **Key Features:** Smallest marine mammal in North America. They have thick fur that insulates them in cold water. They are known for using tools, like rocks, to crack open shellfish.\\n*   **Examples:**\\n    *   **Sea Otter** Found along the Pacific Coast of North America and Asia\\n\\n**5. Polar Bears (Ursids):**\\n\\n*   **Key Features:** Highly adapted for life in the Arctic. They have thick fur and a layer of blubber for insulation. They are powerful swimmers and hunters of seals.\\n\\n**To Learn More, Consider Researching:**\\n\\n*   **Their Diet:** What do they eat and how do they obtain their food?\\n*   **Their Habitat:** Where do they live and what are the characteristics of their environment?\\n*   **Their Behavior:** How do they interact with each other and other species? What are their social structures?\\n*   **Their Conservation Status:** Are they endangered, threatened, or vulnerable? What are the threats to their survival?\\n*   **Their Adaptations:** What physical and behavioral adaptations allow them to thrive in their marine environment?\\n\\n**Where to Find Information:**\\n\\n*   **National Oceanic and Atmospheric Administration (NOAA):** A great source for scientific information on marine mammals.\\n*   **World Wildlife Fund (WWF):** Provides information on conservation efforts and threats to marine mammals.\\n*   **The Marine Mammal Center:** A rehabilitation center and research organization.\\n*   **University Research:** Search for scientific papers on specific marine mammal species.\\n*   **Books:** Many excellent books are available on marine mammals, covering various aspects of their biology and conservation.\\n\\nBy exploring these different groups and focusing on the key areas I mentioned, you\\'ll develop a much more comprehensive understanding of ocean mammals. Let me know if you\\'d like me to elaborate on any of these groups or topics!', additional_kwargs={}, response_metadata={'safety_ratings': [], 'finish_reason': 'STOP'}, id='run-8e81aeda-7c54-4258-ba6e-7cd564d0b97a', usage_metadata={'input_tokens': 24, 'output_tokens': 935, 'total_tokens': 959, 'input_token_details': {'cache_read': 0}})]}}, 'run_id': '49f8a419-cef1-47b9-974f-153ad811b82b', 'name': '_write', 'tags': ['seq:step:2', 'langsmith:hidden'], 'metadata': {'langgraph_step': 1, 'langgraph_node': 'model_node', 'langgraph_triggers': ['start:model_node'], 'langgraph_path': ('__pregel_pull', 'model_node'), 'langgraph_checkpoint_ns': 'model_node:1a4a4ef2-03ce-2464-dfee-6347799a4301'}, 'parent_ids': ['88c351a9-09c4-40b1-85b8-585211f15cc0', '428bdfae-a785-44a6-92e7-a200c853d304']}\n",
            "\n",
            "--------------\n",
            "\n",
            "{'event': 'on_chain_stream', 'run_id': '428bdfae-a785-44a6-92e7-a200c853d304', 'name': 'model_node', 'tags': ['graph:step:1'], 'metadata': {'langgraph_step': 1, 'langgraph_node': 'model_node', 'langgraph_triggers': ['start:model_node'], 'langgraph_path': ('__pregel_pull', 'model_node'), 'langgraph_checkpoint_ns': 'model_node:1a4a4ef2-03ce-2464-dfee-6347799a4301'}, 'data': {'chunk': {'messages': [AIMessage(content='Okay, great! Whales are a good start. To broaden your knowledge of ocean mammals beyond whales, here\\'s a breakdown of other key groups and some interesting examples:\\n\\n**1. Dolphins and Porpoises (Cetaceans - Odontocetes - Toothed Whales):**\\n\\n*   **Key Features:** These are closely related to whales (both are cetaceans), but generally smaller and more agile. They have teeth and use echolocation to find prey.\\n*   **Examples:**\\n    *   **Bottlenose Dolphin:** The classic dolphin, known for its intelligence and playful behavior.\\n    *   **Spinner Dolphin:** Famous for their acrobatic leaps out of the water.\\n    *   **Harbor Porpoise:** A small, shy porpoise found in coastal waters.\\n    *   **Orca (Killer Whale):** Technically a dolphin, the largest member of the dolphin family, and a highly intelligent predator.\\n\\n**2. Seals, Sea Lions, and Walruses (Pinnipeds):**\\n\\n*   **Key Features:** \"Pinniped\" means \"fin-footed.\" These mammals are adapted for both aquatic and terrestrial life. They have flippers for swimming and come ashore to breed and rest.\\n*   **Distinguishing Seals from Sea Lions:** Seals lack external ear flaps and use their hind flippers for propulsion in the water. Sea lions have external ear flaps and use their front flippers for propulsion.\\n*   **Examples:**\\n    *   **Harbor Seal:** A common seal with a spotted coat.\\n    *   **Grey Seal:** A larger seal with a distinctive \"Roman nose.\"\\n    *   **California Sea Lion:** The noisy, playful sea lion often seen in zoos and aquariums.\\n    *   **Steller Sea Lion:** A larger, more robust sea lion found in the North Pacific.\\n    *   **Walrus:** Known for its tusks, which are used for defense, hauling itself onto ice, and foraging.\\n\\n**3. Manatees and Dugongs (Sirenians):**\\n\\n*   **Key Features:** Herbivorous marine mammals, often called \"sea cows.\" They have paddle-like flippers and a flattened tail. They are slow-moving and generally found in warm, shallow waters.\\n*   **Examples:**\\n    *   **West Indian Manatee:** Found in the southeastern United States and the Caribbean.\\n    *   **Amazonian Manatee:** Found in the Amazon River basin.\\n    *   **Dugong:** Found in the Indo-Pacific region.\\n\\n**4. Sea Otters (Mustelids):**\\n\\n*   **Key Features:** Smallest marine mammal in North America. They have thick fur that insulates them in cold water. They are known for using tools, like rocks, to crack open shellfish.\\n*   **Examples:**\\n    *   **Sea Otter** Found along the Pacific Coast of North America and Asia\\n\\n**5. Polar Bears (Ursids):**\\n\\n*   **Key Features:** Highly adapted for life in the Arctic. They have thick fur and a layer of blubber for insulation. They are powerful swimmers and hunters of seals.\\n\\n**To Learn More, Consider Researching:**\\n\\n*   **Their Diet:** What do they eat and how do they obtain their food?\\n*   **Their Habitat:** Where do they live and what are the characteristics of their environment?\\n*   **Their Behavior:** How do they interact with each other and other species? What are their social structures?\\n*   **Their Conservation Status:** Are they endangered, threatened, or vulnerable? What are the threats to their survival?\\n*   **Their Adaptations:** What physical and behavioral adaptations allow them to thrive in their marine environment?\\n\\n**Where to Find Information:**\\n\\n*   **National Oceanic and Atmospheric Administration (NOAA):** A great source for scientific information on marine mammals.\\n*   **World Wildlife Fund (WWF):** Provides information on conservation efforts and threats to marine mammals.\\n*   **The Marine Mammal Center:** A rehabilitation center and research organization.\\n*   **University Research:** Search for scientific papers on specific marine mammal species.\\n*   **Books:** Many excellent books are available on marine mammals, covering various aspects of their biology and conservation.\\n\\nBy exploring these different groups and focusing on the key areas I mentioned, you\\'ll develop a much more comprehensive understanding of ocean mammals. Let me know if you\\'d like me to elaborate on any of these groups or topics!', additional_kwargs={}, response_metadata={'safety_ratings': [], 'finish_reason': 'STOP'}, id='run-8e81aeda-7c54-4258-ba6e-7cd564d0b97a', usage_metadata={'input_tokens': 24, 'output_tokens': 935, 'total_tokens': 959, 'input_token_details': {'cache_read': 0}})]}}, 'parent_ids': ['88c351a9-09c4-40b1-85b8-585211f15cc0']}\n",
            "\n",
            "--------------\n",
            "\n",
            "{'event': 'on_chain_end', 'data': {'output': {'messages': [AIMessage(content='Okay, great! Whales are a good start. To broaden your knowledge of ocean mammals beyond whales, here\\'s a breakdown of other key groups and some interesting examples:\\n\\n**1. Dolphins and Porpoises (Cetaceans - Odontocetes - Toothed Whales):**\\n\\n*   **Key Features:** These are closely related to whales (both are cetaceans), but generally smaller and more agile. They have teeth and use echolocation to find prey.\\n*   **Examples:**\\n    *   **Bottlenose Dolphin:** The classic dolphin, known for its intelligence and playful behavior.\\n    *   **Spinner Dolphin:** Famous for their acrobatic leaps out of the water.\\n    *   **Harbor Porpoise:** A small, shy porpoise found in coastal waters.\\n    *   **Orca (Killer Whale):** Technically a dolphin, the largest member of the dolphin family, and a highly intelligent predator.\\n\\n**2. Seals, Sea Lions, and Walruses (Pinnipeds):**\\n\\n*   **Key Features:** \"Pinniped\" means \"fin-footed.\" These mammals are adapted for both aquatic and terrestrial life. They have flippers for swimming and come ashore to breed and rest.\\n*   **Distinguishing Seals from Sea Lions:** Seals lack external ear flaps and use their hind flippers for propulsion in the water. Sea lions have external ear flaps and use their front flippers for propulsion.\\n*   **Examples:**\\n    *   **Harbor Seal:** A common seal with a spotted coat.\\n    *   **Grey Seal:** A larger seal with a distinctive \"Roman nose.\"\\n    *   **California Sea Lion:** The noisy, playful sea lion often seen in zoos and aquariums.\\n    *   **Steller Sea Lion:** A larger, more robust sea lion found in the North Pacific.\\n    *   **Walrus:** Known for its tusks, which are used for defense, hauling itself onto ice, and foraging.\\n\\n**3. Manatees and Dugongs (Sirenians):**\\n\\n*   **Key Features:** Herbivorous marine mammals, often called \"sea cows.\" They have paddle-like flippers and a flattened tail. They are slow-moving and generally found in warm, shallow waters.\\n*   **Examples:**\\n    *   **West Indian Manatee:** Found in the southeastern United States and the Caribbean.\\n    *   **Amazonian Manatee:** Found in the Amazon River basin.\\n    *   **Dugong:** Found in the Indo-Pacific region.\\n\\n**4. Sea Otters (Mustelids):**\\n\\n*   **Key Features:** Smallest marine mammal in North America. They have thick fur that insulates them in cold water. They are known for using tools, like rocks, to crack open shellfish.\\n*   **Examples:**\\n    *   **Sea Otter** Found along the Pacific Coast of North America and Asia\\n\\n**5. Polar Bears (Ursids):**\\n\\n*   **Key Features:** Highly adapted for life in the Arctic. They have thick fur and a layer of blubber for insulation. They are powerful swimmers and hunters of seals.\\n\\n**To Learn More, Consider Researching:**\\n\\n*   **Their Diet:** What do they eat and how do they obtain their food?\\n*   **Their Habitat:** Where do they live and what are the characteristics of their environment?\\n*   **Their Behavior:** How do they interact with each other and other species? What are their social structures?\\n*   **Their Conservation Status:** Are they endangered, threatened, or vulnerable? What are the threats to their survival?\\n*   **Their Adaptations:** What physical and behavioral adaptations allow them to thrive in their marine environment?\\n\\n**Where to Find Information:**\\n\\n*   **National Oceanic and Atmospheric Administration (NOAA):** A great source for scientific information on marine mammals.\\n*   **World Wildlife Fund (WWF):** Provides information on conservation efforts and threats to marine mammals.\\n*   **The Marine Mammal Center:** A rehabilitation center and research organization.\\n*   **University Research:** Search for scientific papers on specific marine mammal species.\\n*   **Books:** Many excellent books are available on marine mammals, covering various aspects of their biology and conservation.\\n\\nBy exploring these different groups and focusing on the key areas I mentioned, you\\'ll develop a much more comprehensive understanding of ocean mammals. Let me know if you\\'d like me to elaborate on any of these groups or topics!', additional_kwargs={}, response_metadata={'safety_ratings': [], 'finish_reason': 'STOP'}, id='run-8e81aeda-7c54-4258-ba6e-7cd564d0b97a', usage_metadata={'input_tokens': 24, 'output_tokens': 935, 'total_tokens': 959, 'input_token_details': {'cache_read': 0}})]}, 'input': {'messages': [AIMessage(content='So you said you were researching ocean mammals?', additional_kwargs={}, response_metadata={}, name='Assitant', id='01cd51d6-5df2-42db-9eba-c12e8fac8a25'), HumanMessage(content='Yes, I know about whales. But what others should I learn about?', additional_kwargs={}, response_metadata={}, name='Anas', id='d5a9e901-3128-4b54-96b5-5933a0f55211')]}}, 'run_id': '428bdfae-a785-44a6-92e7-a200c853d304', 'name': 'model_node', 'tags': ['graph:step:1'], 'metadata': {'langgraph_step': 1, 'langgraph_node': 'model_node', 'langgraph_triggers': ['start:model_node'], 'langgraph_path': ('__pregel_pull', 'model_node'), 'langgraph_checkpoint_ns': 'model_node:1a4a4ef2-03ce-2464-dfee-6347799a4301'}, 'parent_ids': ['88c351a9-09c4-40b1-85b8-585211f15cc0']}\n",
            "\n",
            "--------------\n",
            "\n",
            "{'event': 'on_chain_stream', 'run_id': '88c351a9-09c4-40b1-85b8-585211f15cc0', 'name': 'LangGraph', 'tags': [], 'metadata': {}, 'data': {'chunk': {'model_node': {'messages': [AIMessage(content='Okay, great! Whales are a good start. To broaden your knowledge of ocean mammals beyond whales, here\\'s a breakdown of other key groups and some interesting examples:\\n\\n**1. Dolphins and Porpoises (Cetaceans - Odontocetes - Toothed Whales):**\\n\\n*   **Key Features:** These are closely related to whales (both are cetaceans), but generally smaller and more agile. They have teeth and use echolocation to find prey.\\n*   **Examples:**\\n    *   **Bottlenose Dolphin:** The classic dolphin, known for its intelligence and playful behavior.\\n    *   **Spinner Dolphin:** Famous for their acrobatic leaps out of the water.\\n    *   **Harbor Porpoise:** A small, shy porpoise found in coastal waters.\\n    *   **Orca (Killer Whale):** Technically a dolphin, the largest member of the dolphin family, and a highly intelligent predator.\\n\\n**2. Seals, Sea Lions, and Walruses (Pinnipeds):**\\n\\n*   **Key Features:** \"Pinniped\" means \"fin-footed.\" These mammals are adapted for both aquatic and terrestrial life. They have flippers for swimming and come ashore to breed and rest.\\n*   **Distinguishing Seals from Sea Lions:** Seals lack external ear flaps and use their hind flippers for propulsion in the water. Sea lions have external ear flaps and use their front flippers for propulsion.\\n*   **Examples:**\\n    *   **Harbor Seal:** A common seal with a spotted coat.\\n    *   **Grey Seal:** A larger seal with a distinctive \"Roman nose.\"\\n    *   **California Sea Lion:** The noisy, playful sea lion often seen in zoos and aquariums.\\n    *   **Steller Sea Lion:** A larger, more robust sea lion found in the North Pacific.\\n    *   **Walrus:** Known for its tusks, which are used for defense, hauling itself onto ice, and foraging.\\n\\n**3. Manatees and Dugongs (Sirenians):**\\n\\n*   **Key Features:** Herbivorous marine mammals, often called \"sea cows.\" They have paddle-like flippers and a flattened tail. They are slow-moving and generally found in warm, shallow waters.\\n*   **Examples:**\\n    *   **West Indian Manatee:** Found in the southeastern United States and the Caribbean.\\n    *   **Amazonian Manatee:** Found in the Amazon River basin.\\n    *   **Dugong:** Found in the Indo-Pacific region.\\n\\n**4. Sea Otters (Mustelids):**\\n\\n*   **Key Features:** Smallest marine mammal in North America. They have thick fur that insulates them in cold water. They are known for using tools, like rocks, to crack open shellfish.\\n*   **Examples:**\\n    *   **Sea Otter** Found along the Pacific Coast of North America and Asia\\n\\n**5. Polar Bears (Ursids):**\\n\\n*   **Key Features:** Highly adapted for life in the Arctic. They have thick fur and a layer of blubber for insulation. They are powerful swimmers and hunters of seals.\\n\\n**To Learn More, Consider Researching:**\\n\\n*   **Their Diet:** What do they eat and how do they obtain their food?\\n*   **Their Habitat:** Where do they live and what are the characteristics of their environment?\\n*   **Their Behavior:** How do they interact with each other and other species? What are their social structures?\\n*   **Their Conservation Status:** Are they endangered, threatened, or vulnerable? What are the threats to their survival?\\n*   **Their Adaptations:** What physical and behavioral adaptations allow them to thrive in their marine environment?\\n\\n**Where to Find Information:**\\n\\n*   **National Oceanic and Atmospheric Administration (NOAA):** A great source for scientific information on marine mammals.\\n*   **World Wildlife Fund (WWF):** Provides information on conservation efforts and threats to marine mammals.\\n*   **The Marine Mammal Center:** A rehabilitation center and research organization.\\n*   **University Research:** Search for scientific papers on specific marine mammal species.\\n*   **Books:** Many excellent books are available on marine mammals, covering various aspects of their biology and conservation.\\n\\nBy exploring these different groups and focusing on the key areas I mentioned, you\\'ll develop a much more comprehensive understanding of ocean mammals. Let me know if you\\'d like me to elaborate on any of these groups or topics!', additional_kwargs={}, response_metadata={'safety_ratings': [], 'finish_reason': 'STOP'}, id='run-8e81aeda-7c54-4258-ba6e-7cd564d0b97a', usage_metadata={'input_tokens': 24, 'output_tokens': 935, 'total_tokens': 959, 'input_token_details': {'cache_read': 0}})]}}}, 'parent_ids': []}\n",
            "\n",
            "--------------\n",
            "\n",
            "{'event': 'on_chain_end', 'data': {'output': {'messages': [AIMessage(content='So you said you were researching ocean mammals?', additional_kwargs={}, response_metadata={}, name='Assitant', id='01cd51d6-5df2-42db-9eba-c12e8fac8a25'), HumanMessage(content='Yes, I know about whales. But what others should I learn about?', additional_kwargs={}, response_metadata={}, name='Anas', id='d5a9e901-3128-4b54-96b5-5933a0f55211'), AIMessage(content='Okay, great! Whales are a good start. To broaden your knowledge of ocean mammals beyond whales, here\\'s a breakdown of other key groups and some interesting examples:\\n\\n**1. Dolphins and Porpoises (Cetaceans - Odontocetes - Toothed Whales):**\\n\\n*   **Key Features:** These are closely related to whales (both are cetaceans), but generally smaller and more agile. They have teeth and use echolocation to find prey.\\n*   **Examples:**\\n    *   **Bottlenose Dolphin:** The classic dolphin, known for its intelligence and playful behavior.\\n    *   **Spinner Dolphin:** Famous for their acrobatic leaps out of the water.\\n    *   **Harbor Porpoise:** A small, shy porpoise found in coastal waters.\\n    *   **Orca (Killer Whale):** Technically a dolphin, the largest member of the dolphin family, and a highly intelligent predator.\\n\\n**2. Seals, Sea Lions, and Walruses (Pinnipeds):**\\n\\n*   **Key Features:** \"Pinniped\" means \"fin-footed.\" These mammals are adapted for both aquatic and terrestrial life. They have flippers for swimming and come ashore to breed and rest.\\n*   **Distinguishing Seals from Sea Lions:** Seals lack external ear flaps and use their hind flippers for propulsion in the water. Sea lions have external ear flaps and use their front flippers for propulsion.\\n*   **Examples:**\\n    *   **Harbor Seal:** A common seal with a spotted coat.\\n    *   **Grey Seal:** A larger seal with a distinctive \"Roman nose.\"\\n    *   **California Sea Lion:** The noisy, playful sea lion often seen in zoos and aquariums.\\n    *   **Steller Sea Lion:** A larger, more robust sea lion found in the North Pacific.\\n    *   **Walrus:** Known for its tusks, which are used for defense, hauling itself onto ice, and foraging.\\n\\n**3. Manatees and Dugongs (Sirenians):**\\n\\n*   **Key Features:** Herbivorous marine mammals, often called \"sea cows.\" They have paddle-like flippers and a flattened tail. They are slow-moving and generally found in warm, shallow waters.\\n*   **Examples:**\\n    *   **West Indian Manatee:** Found in the southeastern United States and the Caribbean.\\n    *   **Amazonian Manatee:** Found in the Amazon River basin.\\n    *   **Dugong:** Found in the Indo-Pacific region.\\n\\n**4. Sea Otters (Mustelids):**\\n\\n*   **Key Features:** Smallest marine mammal in North America. They have thick fur that insulates them in cold water. They are known for using tools, like rocks, to crack open shellfish.\\n*   **Examples:**\\n    *   **Sea Otter** Found along the Pacific Coast of North America and Asia\\n\\n**5. Polar Bears (Ursids):**\\n\\n*   **Key Features:** Highly adapted for life in the Arctic. They have thick fur and a layer of blubber for insulation. They are powerful swimmers and hunters of seals.\\n\\n**To Learn More, Consider Researching:**\\n\\n*   **Their Diet:** What do they eat and how do they obtain their food?\\n*   **Their Habitat:** Where do they live and what are the characteristics of their environment?\\n*   **Their Behavior:** How do they interact with each other and other species? What are their social structures?\\n*   **Their Conservation Status:** Are they endangered, threatened, or vulnerable? What are the threats to their survival?\\n*   **Their Adaptations:** What physical and behavioral adaptations allow them to thrive in their marine environment?\\n\\n**Where to Find Information:**\\n\\n*   **National Oceanic and Atmospheric Administration (NOAA):** A great source for scientific information on marine mammals.\\n*   **World Wildlife Fund (WWF):** Provides information on conservation efforts and threats to marine mammals.\\n*   **The Marine Mammal Center:** A rehabilitation center and research organization.\\n*   **University Research:** Search for scientific papers on specific marine mammal species.\\n*   **Books:** Many excellent books are available on marine mammals, covering various aspects of their biology and conservation.\\n\\nBy exploring these different groups and focusing on the key areas I mentioned, you\\'ll develop a much more comprehensive understanding of ocean mammals. Let me know if you\\'d like me to elaborate on any of these groups or topics!', additional_kwargs={}, response_metadata={'safety_ratings': [], 'finish_reason': 'STOP'}, id='run-8e81aeda-7c54-4258-ba6e-7cd564d0b97a', usage_metadata={'input_tokens': 24, 'output_tokens': 935, 'total_tokens': 959, 'input_token_details': {'cache_read': 0}})]}}, 'run_id': '88c351a9-09c4-40b1-85b8-585211f15cc0', 'name': 'LangGraph', 'tags': [], 'metadata': {}, 'parent_ids': []}\n",
            "\n",
            "--------------\n",
            "\n"
          ]
        }
      ]
    },
    {
      "cell_type": "markdown",
      "source": [
        "## **Reducer**"
      ],
      "metadata": {
        "id": "uODMHNJsiyZx"
      }
    },
    {
      "cell_type": "markdown",
      "source": [
        "A practical challenge when working with messages is managing long-running conversations.\n",
        "\n",
        "Long-running conversations result in high token usage and latency if we are not careful, because we pass a growing list of messages to the model.\n",
        "\n",
        "We have a few ways to address this.\n",
        "\n",
        "First, recall the trick we saw using **RemoveMessage** and the **add_messages** reducer."
      ],
      "metadata": {
        "id": "RFtfSh-oi52m"
      }
    },
    {
      "cell_type": "code",
      "source": [
        "from langchain_core.messages import RemoveMessage"
      ],
      "metadata": {
        "id": "GdHc-U1Cim19"
      },
      "execution_count": 11,
      "outputs": []
    },
    {
      "cell_type": "code",
      "source": [
        "# Defining Nodes\n",
        "def filter_messages(state: MessagesState) -> MessagesState:\n",
        "  delete_messages = [RemoveMessage(message.id) for message in state[\"messages\"][:-2]]\n",
        "  return {\"messages\": delete_messages}\n",
        "\n",
        "def model_node(state: MessagesState) -> MessagesState:\n",
        "  return {\"messages\": [model.invoke(state[\"messages\"])]}"
      ],
      "metadata": {
        "id": "Um7YK3LbjCfP"
      },
      "execution_count": 12,
      "outputs": []
    },
    {
      "cell_type": "code",
      "source": [
        "# Building the graph\n",
        "builder = StateGraph(MessagesState)\n",
        "\n",
        "# Add Node\n",
        "builder.add_node(\"filter_messages\", filter_messages)\n",
        "builder.add_node(\"model_node\", model_node)\n",
        "\n",
        "# Add Edge\n",
        "builder.add_edge(START, \"filter_messages\")\n",
        "builder.add_edge(\"filter_messages\", \"model_node\")\n",
        "builder.add_edge(\"model_node\", END)\n",
        "\n",
        "# Compile\n",
        "graph = builder.compile()"
      ],
      "metadata": {
        "id": "GcUsDbYFjdh6"
      },
      "execution_count": 13,
      "outputs": []
    },
    {
      "cell_type": "code",
      "source": [
        "# Visualize\n",
        "display(Image(graph.get_graph().draw_mermaid_png()))"
      ],
      "metadata": {
        "id": "ANEJlLyQmRD1",
        "outputId": "e1d58686-4d30-4b25-cc42-8e8e7a4ccd67",
        "colab": {
          "base_uri": "https://localhost:8080/",
          "height": 350
        }
      },
      "execution_count": 14,
      "outputs": [
        {
          "output_type": "display_data",
          "data": {
            "image/png": "[encoded data removed]",
            "text/plain": [
              "<IPython.core.display.Image object>"
            ]
          },
          "metadata": {}
        }
      ]
    },
    {
      "cell_type": "code",
      "source": [
        "# Messages list with a premeable\n",
        "from langchain_core.messages import AIMessage, HumanMessage\n",
        "\n",
        "messages = [AIMessage(\"Hi.\", name=\"Assistant\", id=\"1\")]\n",
        "messages.append(HumanMessage(\"Hi.\", name=\"Anas\", id=\"2\"))\n",
        "messages.append(AIMessage(\"So you said you were researching ocean mammals?\", name=\"Assistant\", id=\"3\"))\n",
        "messages.append(HumanMessage(\"Yes, I know about whales. But what others should I learn about?\", name=\"Anas\", id=\"4\"))"
      ],
      "metadata": {
        "id": "SCgckOutmYJ9"
      },
      "execution_count": 15,
      "outputs": []
    },
    {
      "cell_type": "code",
      "source": [
        "# Invoke\n",
        "output = graph.invoke({\"messages\": messages})\n",
        "for msg in output[\"messages\"]:\n",
        "  msg.pretty_print()"
      ],
      "metadata": {
        "id": "dtojc9oCmul0",
        "outputId": "2061e8a4-3ccb-41bd-bd5a-1e2379390108",
        "colab": {
          "base_uri": "https://localhost:8080/"
        }
      },
      "execution_count": 16,
      "outputs": [
        {
          "output_type": "stream",
          "name": "stdout",
          "text": [
            "==================================\u001b[1m Ai Message \u001b[0m==================================\n",
            "Name: Assistant\n",
            "\n",
            "So you said you were researching ocean mammals?\n",
            "================================\u001b[1m Human Message \u001b[0m=================================\n",
            "Name: Anas\n",
            "\n",
            "Yes, I know about whales. But what others should I learn about?\n",
            "==================================\u001b[1m Ai Message \u001b[0m==================================\n",
            "\n",
            "Okay, great! Whales are a good starting point. To broaden your knowledge of ocean mammals, here are some other fascinating groups you should definitely learn about:\n",
            "\n",
            "**1. Dolphins and Porpoises:**\n",
            "\n",
            "*   **Why:** Often confused with whales, they are actually *toothed whales* but are generally smaller and more agile. They are incredibly intelligent and social animals.\n",
            "*   **Things to research:** Different species (bottlenose, orca, harbor porpoise), their communication methods, their hunting strategies, and their conservation status.\n",
            "*   **Fun Fact:** Dolphins use echolocation to navigate and find prey, emitting clicks and interpreting the returning echoes.\n",
            "\n",
            "**2. Seals, Sea Lions, and Walruses (Pinnipeds):**\n",
            "\n",
            "*   **Why:** These are the \"fin-footed\" mammals. They are semi-aquatic, spending time both in the water and on land or ice.\n",
            "*   **Things to research:** How to differentiate between seals and sea lions (ear flaps are a key difference!), their adaptations for cold environments (blubber!), their breeding behaviors, and threats like habitat loss and entanglement in fishing gear.\n",
            "*   **Fun Fact:** Walruses use their tusks for hauling themselves onto ice, defending themselves, and even digging for food.\n",
            "\n",
            "**3. Sea Otters:**\n",
            "\n",
            "*   **Why:** These adorable creatures are the smallest marine mammals in North America and are incredibly important to the health of kelp forest ecosystems.\n",
            "*   **Things to research:** Their unique adaptations for living in cold water (dense fur!), their diet (sea urchins are a favorite), their tool use (using rocks to crack open shells), and their history of near extinction due to the fur trade.\n",
            "*   **Fun Fact:** Sea otters often hold hands while sleeping to avoid drifting apart.\n",
            "\n",
            "**4. Manatees and Dugongs (Sirenians):**\n",
            "\n",
            "*   **Why:** These gentle giants are also known as \"sea cows\" due to their herbivorous diet. They are closely related to elephants!\n",
            "*   **Things to research:** Their feeding habits (grazing on seagrass), their slow movement and vulnerability to boat strikes, their conservation status (often threatened), and the differences between manatees and dugongs (tail shape is a key difference).\n",
            "*   **Fun Fact:** Manatees have very few natural predators, but they are often injured by boats.\n",
            "\n",
            "**5. Polar Bears:**\n",
            "\n",
            "*   **Why:** While technically bears, they are highly adapted to a marine environment and spend much of their lives on sea ice, hunting seals.\n",
            "*   **Things to research:** Their adaptations for cold climates (thick fur, blubber), their hunting techniques, the impact of climate change on their sea ice habitat, and their role as apex predators in the Arctic.\n",
            "*   **Fun Fact:** Polar bears have black skin under their white fur, which helps them absorb sunlight.\n",
            "\n",
            "**General Research Tips:**\n",
            "\n",
            "*   **Conservation Status:** Always pay attention to the conservation status of the animals you're researching (e.g., endangered, threatened, vulnerable). This will give you insight into the challenges they face.\n",
            "*   **Habitat:** Learn about the different ocean environments these animals inhabit (e.g., kelp forests, coral reefs, open ocean, Arctic ice).\n",
            "*   **Diet:** Understanding what they eat will help you understand their role in the ecosystem.\n",
            "*   **Adaptations:** Focus on the unique adaptations that allow them to thrive in the marine environment.\n",
            "\n",
            "To get started, you could choose one of these groups that sounds particularly interesting and dive deeper. Let me know which one catches your eye, and I can suggest specific resources or research questions!\n"
          ]
        }
      ]
    },
    {
      "cell_type": "markdown",
      "source": [
        "## **Filtering Messages**"
      ],
      "metadata": {
        "id": "zbe4d6u2nEsB"
      }
    },
    {
      "cell_type": "markdown",
      "source": [
        "If you don't need or want to modify the graph state, you can just filter the messages you pass to the chat model.\n",
        "\n",
        "For example, just pass in a filtered list: **llm.invoke(messages[-1:])** to the model."
      ],
      "metadata": {
        "id": "Z2QjQ5knnIBR"
      }
    },
    {
      "cell_type": "code",
      "source": [
        "# Node\n",
        "def model_node(state: MessagesState) -> MessagesState:\n",
        "  return {\"messages\": [model.invoke(state[\"messages\"][-1:])]}"
      ],
      "metadata": {
        "id": "PtK1laVDm6Pq"
      },
      "execution_count": 17,
      "outputs": []
    },
    {
      "cell_type": "code",
      "source": [
        "# Building graph\n",
        "builder = StateGraph(MessagesState)\n",
        "\n",
        "# Add Node\n",
        "builder.add_node(\"model_node\", model_node)\n",
        "\n",
        "# Add Edge\n",
        "builder.add_edge(START, \"model_node\")\n",
        "builder.add_edge(\"model_node\", END)\n",
        "\n",
        "# compile\n",
        "graph = builder.compile()"
      ],
      "metadata": {
        "id": "EdJ7g2_JnU5C"
      },
      "execution_count": 18,
      "outputs": []
    },
    {
      "cell_type": "code",
      "source": [
        "# Visualize\n",
        "display(Image(graph.get_graph().draw_mermaid_png()))"
      ],
      "metadata": {
        "id": "l_Gs2McmnlWm",
        "outputId": "585e884e-3ce4-4261-8fbc-0701b0c6a5b8",
        "colab": {
          "base_uri": "https://localhost:8080/",
          "height": 251
        }
      },
      "execution_count": 19,
      "outputs": [
        {
          "output_type": "display_data",
          "data": {
            "image/png": "[encoded data removed]",
            "text/plain": [
              "<IPython.core.display.Image object>"
            ]
          },
          "metadata": {}
        }
      ]
    },
    {
      "cell_type": "markdown",
      "source": [
        "Let's take our existing list of messages, append the above LLM response, and append a follow-up question."
      ],
      "metadata": {
        "id": "VqRGAm7AnwOO"
      }
    },
    {
      "cell_type": "code",
      "source": [
        "messages.append(output['messages'][-1])\n",
        "messages.append(HumanMessage(f\"Tell me more about Narwhals!\", name=\"Anas\"))"
      ],
      "metadata": {
        "id": "81tenSuLns7X"
      },
      "execution_count": 20,
      "outputs": []
    },
    {
      "cell_type": "code",
      "source": [
        "for msg in messages:\n",
        "  msg.pretty_print()"
      ],
      "metadata": {
        "id": "RghFXMfln2Xv",
        "outputId": "6b15b5c5-e828-4fb2-aade-9ccf49420f2e",
        "colab": {
          "base_uri": "https://localhost:8080/"
        }
      },
      "execution_count": 21,
      "outputs": [
        {
          "output_type": "stream",
          "name": "stdout",
          "text": [
            "==================================\u001b[1m Ai Message \u001b[0m==================================\n",
            "Name: Assistant\n",
            "\n",
            "Hi.\n",
            "================================\u001b[1m Human Message \u001b[0m=================================\n",
            "Name: Anas\n",
            "\n",
            "Hi.\n",
            "==================================\u001b[1m Ai Message \u001b[0m==================================\n",
            "Name: Assistant\n",
            "\n",
            "So you said you were researching ocean mammals?\n",
            "================================\u001b[1m Human Message \u001b[0m=================================\n",
            "Name: Anas\n",
            "\n",
            "Yes, I know about whales. But what others should I learn about?\n",
            "==================================\u001b[1m Ai Message \u001b[0m==================================\n",
            "\n",
            "Okay, great! Whales are a good starting point. To broaden your knowledge of ocean mammals, here are some other fascinating groups you should definitely learn about:\n",
            "\n",
            "**1. Dolphins and Porpoises:**\n",
            "\n",
            "*   **Why:** Often confused with whales, they are actually *toothed whales* but are generally smaller and more agile. They are incredibly intelligent and social animals.\n",
            "*   **Things to research:** Different species (bottlenose, orca, harbor porpoise), their communication methods, their hunting strategies, and their conservation status.\n",
            "*   **Fun Fact:** Dolphins use echolocation to navigate and find prey, emitting clicks and interpreting the returning echoes.\n",
            "\n",
            "**2. Seals, Sea Lions, and Walruses (Pinnipeds):**\n",
            "\n",
            "*   **Why:** These are the \"fin-footed\" mammals. They are semi-aquatic, spending time both in the water and on land or ice.\n",
            "*   **Things to research:** How to differentiate between seals and sea lions (ear flaps are a key difference!), their adaptations for cold environments (blubber!), their breeding behaviors, and threats like habitat loss and entanglement in fishing gear.\n",
            "*   **Fun Fact:** Walruses use their tusks for hauling themselves onto ice, defending themselves, and even digging for food.\n",
            "\n",
            "**3. Sea Otters:**\n",
            "\n",
            "*   **Why:** These adorable creatures are the smallest marine mammals in North America and are incredibly important to the health of kelp forest ecosystems.\n",
            "*   **Things to research:** Their unique adaptations for living in cold water (dense fur!), their diet (sea urchins are a favorite), their tool use (using rocks to crack open shells), and their history of near extinction due to the fur trade.\n",
            "*   **Fun Fact:** Sea otters often hold hands while sleeping to avoid drifting apart.\n",
            "\n",
            "**4. Manatees and Dugongs (Sirenians):**\n",
            "\n",
            "*   **Why:** These gentle giants are also known as \"sea cows\" due to their herbivorous diet. They are closely related to elephants!\n",
            "*   **Things to research:** Their feeding habits (grazing on seagrass), their slow movement and vulnerability to boat strikes, their conservation status (often threatened), and the differences between manatees and dugongs (tail shape is a key difference).\n",
            "*   **Fun Fact:** Manatees have very few natural predators, but they are often injured by boats.\n",
            "\n",
            "**5. Polar Bears:**\n",
            "\n",
            "*   **Why:** While technically bears, they are highly adapted to a marine environment and spend much of their lives on sea ice, hunting seals.\n",
            "*   **Things to research:** Their adaptations for cold climates (thick fur, blubber), their hunting techniques, the impact of climate change on their sea ice habitat, and their role as apex predators in the Arctic.\n",
            "*   **Fun Fact:** Polar bears have black skin under their white fur, which helps them absorb sunlight.\n",
            "\n",
            "**General Research Tips:**\n",
            "\n",
            "*   **Conservation Status:** Always pay attention to the conservation status of the animals you're researching (e.g., endangered, threatened, vulnerable). This will give you insight into the challenges they face.\n",
            "*   **Habitat:** Learn about the different ocean environments these animals inhabit (e.g., kelp forests, coral reefs, open ocean, Arctic ice).\n",
            "*   **Diet:** Understanding what they eat will help you understand their role in the ecosystem.\n",
            "*   **Adaptations:** Focus on the unique adaptations that allow them to thrive in the marine environment.\n",
            "\n",
            "To get started, you could choose one of these groups that sounds particularly interesting and dive deeper. Let me know which one catches your eye, and I can suggest specific resources or research questions!\n",
            "================================\u001b[1m Human Message \u001b[0m=================================\n",
            "Name: Anas\n",
            "\n",
            "Tell me more about Narwhals!\n"
          ]
        }
      ]
    },
    {
      "cell_type": "code",
      "source": [
        "# Invoke using message filtering\n",
        "output = graph.invoke({\"messages\": messages})\n",
        "for msg in output[\"messages\"]:\n",
        "  msg.pretty_print()"
      ],
      "metadata": {
        "id": "YpaxhaV2n_0T",
        "outputId": "b0be3fb9-aceb-411a-ebc3-8fd85e4db5c0",
        "colab": {
          "base_uri": "https://localhost:8080/"
        }
      },
      "execution_count": 22,
      "outputs": [
        {
          "output_type": "stream",
          "name": "stdout",
          "text": [
            "==================================\u001b[1m Ai Message \u001b[0m==================================\n",
            "Name: Assistant\n",
            "\n",
            "Hi.\n",
            "================================\u001b[1m Human Message \u001b[0m=================================\n",
            "Name: Anas\n",
            "\n",
            "Hi.\n",
            "==================================\u001b[1m Ai Message \u001b[0m==================================\n",
            "Name: Assistant\n",
            "\n",
            "So you said you were researching ocean mammals?\n",
            "================================\u001b[1m Human Message \u001b[0m=================================\n",
            "Name: Anas\n",
            "\n",
            "Yes, I know about whales. But what others should I learn about?\n",
            "==================================\u001b[1m Ai Message \u001b[0m==================================\n",
            "\n",
            "Okay, great! Whales are a good starting point. To broaden your knowledge of ocean mammals, here are some other fascinating groups you should definitely learn about:\n",
            "\n",
            "**1. Dolphins and Porpoises:**\n",
            "\n",
            "*   **Why:** Often confused with whales, they are actually *toothed whales* but are generally smaller and more agile. They are incredibly intelligent and social animals.\n",
            "*   **Things to research:** Different species (bottlenose, orca, harbor porpoise), their communication methods, their hunting strategies, and their conservation status.\n",
            "*   **Fun Fact:** Dolphins use echolocation to navigate and find prey, emitting clicks and interpreting the returning echoes.\n",
            "\n",
            "**2. Seals, Sea Lions, and Walruses (Pinnipeds):**\n",
            "\n",
            "*   **Why:** These are the \"fin-footed\" mammals. They are semi-aquatic, spending time both in the water and on land or ice.\n",
            "*   **Things to research:** How to differentiate between seals and sea lions (ear flaps are a key difference!), their adaptations for cold environments (blubber!), their breeding behaviors, and threats like habitat loss and entanglement in fishing gear.\n",
            "*   **Fun Fact:** Walruses use their tusks for hauling themselves onto ice, defending themselves, and even digging for food.\n",
            "\n",
            "**3. Sea Otters:**\n",
            "\n",
            "*   **Why:** These adorable creatures are the smallest marine mammals in North America and are incredibly important to the health of kelp forest ecosystems.\n",
            "*   **Things to research:** Their unique adaptations for living in cold water (dense fur!), their diet (sea urchins are a favorite), their tool use (using rocks to crack open shells), and their history of near extinction due to the fur trade.\n",
            "*   **Fun Fact:** Sea otters often hold hands while sleeping to avoid drifting apart.\n",
            "\n",
            "**4. Manatees and Dugongs (Sirenians):**\n",
            "\n",
            "*   **Why:** These gentle giants are also known as \"sea cows\" due to their herbivorous diet. They are closely related to elephants!\n",
            "*   **Things to research:** Their feeding habits (grazing on seagrass), their slow movement and vulnerability to boat strikes, their conservation status (often threatened), and the differences between manatees and dugongs (tail shape is a key difference).\n",
            "*   **Fun Fact:** Manatees have very few natural predators, but they are often injured by boats.\n",
            "\n",
            "**5. Polar Bears:**\n",
            "\n",
            "*   **Why:** While technically bears, they are highly adapted to a marine environment and spend much of their lives on sea ice, hunting seals.\n",
            "*   **Things to research:** Their adaptations for cold climates (thick fur, blubber), their hunting techniques, the impact of climate change on their sea ice habitat, and their role as apex predators in the Arctic.\n",
            "*   **Fun Fact:** Polar bears have black skin under their white fur, which helps them absorb sunlight.\n",
            "\n",
            "**General Research Tips:**\n",
            "\n",
            "*   **Conservation Status:** Always pay attention to the conservation status of the animals you're researching (e.g., endangered, threatened, vulnerable). This will give you insight into the challenges they face.\n",
            "*   **Habitat:** Learn about the different ocean environments these animals inhabit (e.g., kelp forests, coral reefs, open ocean, Arctic ice).\n",
            "*   **Diet:** Understanding what they eat will help you understand their role in the ecosystem.\n",
            "*   **Adaptations:** Focus on the unique adaptations that allow them to thrive in the marine environment.\n",
            "\n",
            "To get started, you could choose one of these groups that sounds particularly interesting and dive deeper. Let me know which one catches your eye, and I can suggest specific resources or research questions!\n",
            "================================\u001b[1m Human Message \u001b[0m=================================\n",
            "Name: Anas\n",
            "\n",
            "Tell me more about Narwhals!\n",
            "==================================\u001b[1m Ai Message \u001b[0m==================================\n",
            "\n",
            "Okay, let's dive into the fascinating world of narwhals! Here's a breakdown of some key facts and interesting information about these unique creatures:\n",
            "\n",
            "**Basic Facts:**\n",
            "\n",
            "*   **Name:** Narwhal (Monodon monoceros) - the name means \"corpse whale\" in Old Norse, likely due to their mottled gray skin resembling a drowned person.\n",
            "*   **Appearance:** Small to medium-sized toothed whales. They have a distinctive tusk (usually only in males) and a mottled gray and white coloration. They lack a dorsal fin, which is thought to be an adaptation to navigating under ice.\n",
            "*   **Size:** Adults typically range from 13 to 18 feet (4 to 5.5 meters) in length, not including the tusk.\n",
            "*   **Weight:** Adults weigh between 1,750 and 3,500 pounds (800 to 1,600 kilograms).\n",
            "*   **Lifespan:** Estimated to be around 50 years or more.\n",
            "*   **Habitat:** Arctic waters, primarily in the Atlantic and Russian areas of the Arctic Ocean. They are often found in Greenland, Canada, Norway, and Russia.\n",
            "*   **Diet:** Primarily eat Greenland halibut, Arctic cod, squid, and shrimp.\n",
            "*   **Conservation Status:** Listed as \"Least Concern\" by the IUCN, but they are still vulnerable due to climate change and other threats.\n",
            "\n",
            "**The Tusk:**\n",
            "\n",
            "*   **What it is:** The narwhal's most defining feature is its tusk, which is actually an elongated upper left canine tooth that spirals counterclockwise. It can grow up to 10 feet (3 meters) long.\n",
            "*   **Who has it:** Usually only males have a tusk, though occasionally females can develop one. Some males even have two tusks, though this is rare.\n",
            "*   **Function:** The exact function of the tusk is still debated, but the most prominent theories include:\n",
            "    *   **Sensory Organ:**  The tusk has millions of nerve endings on its surface, suggesting it can detect changes in water temperature, salinity, and pressure. This allows narwhals to potentially sense their environment and find prey.\n",
            "    *   **Display and Communication:**  Males may use their tusks for displays of dominance and to attract mates. \"Tusk fencing\" or rubbing tusks together has been observed, possibly for communication or social bonding.\n",
            "    *   **Hunting:**  Recent research suggests that narwhals may use their tusks to stun fish before eating them.\n",
            "*   **Composition:** The tusk is made of dentin, a dense, ivory-like material.\n",
            "\n",
            "**Behavior and Social Structure:**\n",
            "\n",
            "*   **Social Animals:** Narwhals are social animals that live in groups called pods, which can range in size from a few individuals to several dozen.\n",
            "*   **Migration:** They undertake seasonal migrations, moving closer to shore in the summer and further offshore in the winter to avoid ice entrapment.\n",
            "*   **Deep Divers:** Narwhals are skilled divers, capable of reaching depths of over 5,000 feet (1,500 meters) and holding their breath for up to 25 minutes.\n",
            "*   **Vocalizations:** They communicate using a variety of clicks, whistles, and pulsed calls.\n",
            "\n",
            "**Threats:**\n",
            "\n",
            "*   **Climate Change:**  The melting of Arctic sea ice is a major threat to narwhals, as it reduces their habitat and makes them more vulnerable to predators like orcas.\n",
            "*   **Hunting:**  Narwhals are hunted by indigenous peoples for their meat, blubber, and tusks. While regulated, hunting can still impact local populations.\n",
            "*   **Pollution:**  Pollution, including oil spills and plastic waste, can contaminate their environment and harm their health.\n",
            "*   **Noise Pollution:**  Increased shipping and industrial activity in the Arctic can create noise pollution that interferes with their communication and navigation.\n",
            "\n",
            "**Interesting Facts:**\n",
            "\n",
            "*   Narwhals are sometimes called the \"unicorns of the sea\" because of their distinctive tusk.\n",
            "*   Their heart rate can drop dramatically during deep dives to conserve oxygen.\n",
            "*   They are closely related to beluga whales.\n",
            "*   Narwhal populations are relatively small and fragmented, making them particularly vulnerable to environmental changes.\n",
            "*   Much of their life is still a mystery because they live in remote, icy regions, making them difficult to study.\n",
            "\n",
            "**In Summary:**\n",
            "\n",
            "Narwhals are truly remarkable creatures adapted to the harsh Arctic environment. Their unique tusk, deep diving abilities, and social behavior make them fascinating subjects of study. However, they face significant challenges from climate change and other human activities, highlighting the need for conservation efforts to protect these \"unicorns of the sea.\"\n",
            "\n",
            "Do you have any other questions about narwhals that I can answer? Perhaps you're interested in their specific diving behavior, their vocalizations, or the latest research on their tusk? Let me know!\n"
          ]
        }
      ]
    },
    {
      "cell_type": "markdown",
      "source": [
        "## **Trim Messages**"
      ],
      "metadata": {
        "id": "B4tVOXkuoeTO"
      }
    },
    {
      "cell_type": "markdown",
      "source": [
        "Another approach is to trim messages, based upon a set number of tokens.\n",
        "\n",
        "This restricts the message history to a specified number of tokens.\n",
        "\n",
        "While filtering only returns a post-hoc subset of the messages between agents, trimming restricts the number of tokens that a chat model can use to respond.\n",
        "\n",
        "See the **trim_messages** below."
      ],
      "metadata": {
        "id": "qkIJ7HxroiC0"
      }
    },
    {
      "cell_type": "code",
      "source": [
        "from langchain_core.messages import trim_messages"
      ],
      "metadata": {
        "id": "XhJyceItoPeE"
      },
      "execution_count": 23,
      "outputs": []
    },
    {
      "cell_type": "code",
      "source": [
        "# Node\n",
        "def model_node(state: MessagesState) -> MessagesState:\n",
        "  messages = trim_messages(\n",
        "      state[\"messages\"],\n",
        "      max_tokens=100,\n",
        "      strategy=\"last\",\n",
        "      token_counter=ChatGoogleGenerativeAI(model=\"gemini-2.0-flash\"),\n",
        "      allow_partial=False\n",
        "  )\n",
        "  return {\"messages\": [model.invoke(messages)]}"
      ],
      "metadata": {
        "id": "LZhC82I1rtGX"
      },
      "execution_count": 25,
      "outputs": []
    },
    {
      "cell_type": "code",
      "source": [
        "# Building out graph\n",
        "builder = StateGraph(MessagesState)\n",
        "\n",
        "# Add Node\n",
        "builder.add_node(\"model_node\", model_node)\n",
        "\n",
        "# Add Edge\n",
        "builder.add_edge(START, \"model_node\")\n",
        "builder.add_edge(\"model_node\", END)\n",
        "\n",
        "# Compile\n",
        "graph = builder.compile()"
      ],
      "metadata": {
        "id": "f6hDoQISrwUZ"
      },
      "execution_count": 26,
      "outputs": []
    },
    {
      "cell_type": "code",
      "source": [
        "# View\n",
        "display(Image(graph.get_graph().draw_mermaid_png()))"
      ],
      "metadata": {
        "id": "MptIu8qV5QKQ",
        "outputId": "1e41779d-f8e9-4fea-8c11-347b53166346",
        "colab": {
          "base_uri": "https://localhost:8080/",
          "height": 251
        }
      },
      "execution_count": 27,
      "outputs": [
        {
          "output_type": "display_data",
          "data": {
            "image/png": "[encoded data removed]",
            "text/plain": [
              "<IPython.core.display.Image object>"
            ]
          },
          "metadata": {}
        }
      ]
    },
    {
      "cell_type": "code",
      "source": [
        "# Adding last response to messages\n",
        "messages.append(output['messages'][-1])\n",
        "messages.append(HumanMessage(f\"Tell me where Orcas live!\", name=\"Lance\"))"
      ],
      "metadata": {
        "id": "teSMtj_n5Tx-"
      },
      "execution_count": 28,
      "outputs": []
    },
    {
      "cell_type": "code",
      "source": [
        "# Example of trimming messages\n",
        "trim_messages(\n",
        "            messages,\n",
        "            max_tokens=100,\n",
        "            strategy=\"last\",\n",
        "            token_counter=ChatGoogleGenerativeAI(model=\"gemini-1.5-flash\"),\n",
        "            allow_partial=False\n",
        "        )"
      ],
      "metadata": {
        "id": "6eAS5o-45amb",
        "outputId": "97a26fe0-449b-4cb6-d4ac-3cd491935709",
        "colab": {
          "base_uri": "https://localhost:8080/"
        }
      },
      "execution_count": 31,
      "outputs": [
        {
          "output_type": "execute_result",
          "data": {
            "text/plain": [
              "[HumanMessage(content='Tell me where Orcas live!', additional_kwargs={}, response_metadata={}, name='Lance')]"
            ]
          },
          "metadata": {},
          "execution_count": 31
        }
      ]
    },
    {
      "cell_type": "code",
      "source": [
        "# Invoke, using message trimming in the chat_model_node\n",
        "messages_out_trim = graph.invoke({'messages': messages})"
      ],
      "metadata": {
        "id": "N_BZwPZe5eto"
      },
      "execution_count": 32,
      "outputs": []
    },
    {
      "cell_type": "code",
      "source": [
        "for msg in messages_out_trim[\"messages\"]:\n",
        "  msg.pretty_print()"
      ],
      "metadata": {
        "id": "CGR8mbGQ5mbP",
        "outputId": "9ab62488-fc50-4114-d9d3-7a2784d0ca17",
        "colab": {
          "base_uri": "https://localhost:8080/"
        }
      },
      "execution_count": 33,
      "outputs": [
        {
          "output_type": "stream",
          "name": "stdout",
          "text": [
            "==================================\u001b[1m Ai Message \u001b[0m==================================\n",
            "Name: Assistant\n",
            "\n",
            "Hi.\n",
            "================================\u001b[1m Human Message \u001b[0m=================================\n",
            "Name: Anas\n",
            "\n",
            "Hi.\n",
            "==================================\u001b[1m Ai Message \u001b[0m==================================\n",
            "Name: Assistant\n",
            "\n",
            "So you said you were researching ocean mammals?\n",
            "================================\u001b[1m Human Message \u001b[0m=================================\n",
            "Name: Anas\n",
            "\n",
            "Yes, I know about whales. But what others should I learn about?\n",
            "==================================\u001b[1m Ai Message \u001b[0m==================================\n",
            "\n",
            "Okay, great! Whales are a good starting point. To broaden your knowledge of ocean mammals, here are some other fascinating groups you should definitely learn about:\n",
            "\n",
            "**1. Dolphins and Porpoises:**\n",
            "\n",
            "*   **Why:** Often confused with whales, they are actually *toothed whales* but are generally smaller and more agile. They are incredibly intelligent and social animals.\n",
            "*   **Things to research:** Different species (bottlenose, orca, harbor porpoise), their communication methods, their hunting strategies, and their conservation status.\n",
            "*   **Fun Fact:** Dolphins use echolocation to navigate and find prey, emitting clicks and interpreting the returning echoes.\n",
            "\n",
            "**2. Seals, Sea Lions, and Walruses (Pinnipeds):**\n",
            "\n",
            "*   **Why:** These are the \"fin-footed\" mammals. They are semi-aquatic, spending time both in the water and on land or ice.\n",
            "*   **Things to research:** How to differentiate between seals and sea lions (ear flaps are a key difference!), their adaptations for cold environments (blubber!), their breeding behaviors, and threats like habitat loss and entanglement in fishing gear.\n",
            "*   **Fun Fact:** Walruses use their tusks for hauling themselves onto ice, defending themselves, and even digging for food.\n",
            "\n",
            "**3. Sea Otters:**\n",
            "\n",
            "*   **Why:** These adorable creatures are the smallest marine mammals in North America and are incredibly important to the health of kelp forest ecosystems.\n",
            "*   **Things to research:** Their unique adaptations for living in cold water (dense fur!), their diet (sea urchins are a favorite), their tool use (using rocks to crack open shells), and their history of near extinction due to the fur trade.\n",
            "*   **Fun Fact:** Sea otters often hold hands while sleeping to avoid drifting apart.\n",
            "\n",
            "**4. Manatees and Dugongs (Sirenians):**\n",
            "\n",
            "*   **Why:** These gentle giants are also known as \"sea cows\" due to their herbivorous diet. They are closely related to elephants!\n",
            "*   **Things to research:** Their feeding habits (grazing on seagrass), their slow movement and vulnerability to boat strikes, their conservation status (often threatened), and the differences between manatees and dugongs (tail shape is a key difference).\n",
            "*   **Fun Fact:** Manatees have very few natural predators, but they are often injured by boats.\n",
            "\n",
            "**5. Polar Bears:**\n",
            "\n",
            "*   **Why:** While technically bears, they are highly adapted to a marine environment and spend much of their lives on sea ice, hunting seals.\n",
            "*   **Things to research:** Their adaptations for cold climates (thick fur, blubber), their hunting techniques, the impact of climate change on their sea ice habitat, and their role as apex predators in the Arctic.\n",
            "*   **Fun Fact:** Polar bears have black skin under their white fur, which helps them absorb sunlight.\n",
            "\n",
            "**General Research Tips:**\n",
            "\n",
            "*   **Conservation Status:** Always pay attention to the conservation status of the animals you're researching (e.g., endangered, threatened, vulnerable). This will give you insight into the challenges they face.\n",
            "*   **Habitat:** Learn about the different ocean environments these animals inhabit (e.g., kelp forests, coral reefs, open ocean, Arctic ice).\n",
            "*   **Diet:** Understanding what they eat will help you understand their role in the ecosystem.\n",
            "*   **Adaptations:** Focus on the unique adaptations that allow them to thrive in the marine environment.\n",
            "\n",
            "To get started, you could choose one of these groups that sounds particularly interesting and dive deeper. Let me know which one catches your eye, and I can suggest specific resources or research questions!\n",
            "================================\u001b[1m Human Message \u001b[0m=================================\n",
            "Name: Anas\n",
            "\n",
            "Tell me more about Narwhals!\n",
            "==================================\u001b[1m Ai Message \u001b[0m==================================\n",
            "\n",
            "Okay, let's dive into the fascinating world of narwhals! Here's a breakdown of some key facts and interesting information about these unique creatures:\n",
            "\n",
            "**Basic Facts:**\n",
            "\n",
            "*   **Name:** Narwhal (Monodon monoceros) - the name means \"corpse whale\" in Old Norse, likely due to their mottled gray skin resembling a drowned person.\n",
            "*   **Appearance:** Small to medium-sized toothed whales. They have a distinctive tusk (usually only in males) and a mottled gray and white coloration. They lack a dorsal fin, which is thought to be an adaptation to navigating under ice.\n",
            "*   **Size:** Adults typically range from 13 to 18 feet (4 to 5.5 meters) in length, not including the tusk.\n",
            "*   **Weight:** Adults weigh between 1,750 and 3,500 pounds (800 to 1,600 kilograms).\n",
            "*   **Lifespan:** Estimated to be around 50 years or more.\n",
            "*   **Habitat:** Arctic waters, primarily in the Atlantic and Russian areas of the Arctic Ocean. They are often found in Greenland, Canada, Norway, and Russia.\n",
            "*   **Diet:** Primarily eat Greenland halibut, Arctic cod, squid, and shrimp.\n",
            "*   **Conservation Status:** Listed as \"Least Concern\" by the IUCN, but they are still vulnerable due to climate change and other threats.\n",
            "\n",
            "**The Tusk:**\n",
            "\n",
            "*   **What it is:** The narwhal's most defining feature is its tusk, which is actually an elongated upper left canine tooth that spirals counterclockwise. It can grow up to 10 feet (3 meters) long.\n",
            "*   **Who has it:** Usually only males have a tusk, though occasionally females can develop one. Some males even have two tusks, though this is rare.\n",
            "*   **Function:** The exact function of the tusk is still debated, but the most prominent theories include:\n",
            "    *   **Sensory Organ:**  The tusk has millions of nerve endings on its surface, suggesting it can detect changes in water temperature, salinity, and pressure. This allows narwhals to potentially sense their environment and find prey.\n",
            "    *   **Display and Communication:**  Males may use their tusks for displays of dominance and to attract mates. \"Tusk fencing\" or rubbing tusks together has been observed, possibly for communication or social bonding.\n",
            "    *   **Hunting:**  Recent research suggests that narwhals may use their tusks to stun fish before eating them.\n",
            "*   **Composition:** The tusk is made of dentin, a dense, ivory-like material.\n",
            "\n",
            "**Behavior and Social Structure:**\n",
            "\n",
            "*   **Social Animals:** Narwhals are social animals that live in groups called pods, which can range in size from a few individuals to several dozen.\n",
            "*   **Migration:** They undertake seasonal migrations, moving closer to shore in the summer and further offshore in the winter to avoid ice entrapment.\n",
            "*   **Deep Divers:** Narwhals are skilled divers, capable of reaching depths of over 5,000 feet (1,500 meters) and holding their breath for up to 25 minutes.\n",
            "*   **Vocalizations:** They communicate using a variety of clicks, whistles, and pulsed calls.\n",
            "\n",
            "**Threats:**\n",
            "\n",
            "*   **Climate Change:**  The melting of Arctic sea ice is a major threat to narwhals, as it reduces their habitat and makes them more vulnerable to predators like orcas.\n",
            "*   **Hunting:**  Narwhals are hunted by indigenous peoples for their meat, blubber, and tusks. While regulated, hunting can still impact local populations.\n",
            "*   **Pollution:**  Pollution, including oil spills and plastic waste, can contaminate their environment and harm their health.\n",
            "*   **Noise Pollution:**  Increased shipping and industrial activity in the Arctic can create noise pollution that interferes with their communication and navigation.\n",
            "\n",
            "**Interesting Facts:**\n",
            "\n",
            "*   Narwhals are sometimes called the \"unicorns of the sea\" because of their distinctive tusk.\n",
            "*   Their heart rate can drop dramatically during deep dives to conserve oxygen.\n",
            "*   They are closely related to beluga whales.\n",
            "*   Narwhal populations are relatively small and fragmented, making them particularly vulnerable to environmental changes.\n",
            "*   Much of their life is still a mystery because they live in remote, icy regions, making them difficult to study.\n",
            "\n",
            "**In Summary:**\n",
            "\n",
            "Narwhals are truly remarkable creatures adapted to the harsh Arctic environment. Their unique tusk, deep diving abilities, and social behavior make them fascinating subjects of study. However, they face significant challenges from climate change and other human activities, highlighting the need for conservation efforts to protect these \"unicorns of the sea.\"\n",
            "\n",
            "Do you have any other questions about narwhals that I can answer? Perhaps you're interested in their specific diving behavior, their vocalizations, or the latest research on their tusk? Let me know!\n",
            "================================\u001b[1m Human Message \u001b[0m=================================\n",
            "Name: Lance\n",
            "\n",
            "Tell me where Orcas live!\n",
            "==================================\u001b[1m Ai Message \u001b[0m==================================\n",
            "\n",
            "Orcas, also known as killer whales, are found in all of the world's oceans, from the Arctic to the Antarctic. However, they are most abundant in the following regions:\n",
            "\n",
            "*   **High Latitudes:** They are commonly found in colder waters, such as those off the coasts of Norway, Iceland, Alaska, Canada, and Antarctica.\n",
            "\n",
            "*   **Coastal Areas:** Orcas are often seen in coastal areas with abundant prey, such as salmon, seals, and other marine mammals.\n",
            "\n",
            "*   **Specific Regions:** Some well-known orca habitats include:\n",
            "    *   The Pacific Northwest (Washington, Oregon, British Columbia)\n",
            "    *   The waters around Iceland and Norway\n",
            "    *   The Antarctic Peninsula\n",
            "    *   The waters off Argentina\n",
            "\n",
            "While they have a global distribution, their presence in a particular area is often linked to the availability of their preferred food sources.\n"
          ]
        }
      ]
    },
    {
      "cell_type": "code",
      "source": [],
      "metadata": {
        "id": "oLLsd7rP5sRo"
      },
      "execution_count": null,
      "outputs": []
    }
  ],
  "metadata": {
    "colab": {
      "name": "Welcome To Colab",
      "provenance": []
    },
    "kernelspec": {
      "display_name": "Python 3",
      "name": "python3"
    }
  },
  "nbformat": 4,
  "nbformat_minor": 0
}