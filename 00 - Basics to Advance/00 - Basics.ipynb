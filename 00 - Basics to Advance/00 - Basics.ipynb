{
  "cells": [
    {
      "cell_type": "markdown",
      "source": [
        "# **Chat Models**"
      ],
      "metadata": {
        "id": "LBVQCa3R34Dz"
      }
    },
    {
      "cell_type": "code",
      "source": [
        "!pip install -q langchain_google_genai langchain_core"
      ],
      "metadata": {
        "id": "Y5D97aL2yNpV"
      },
      "execution_count": 10,
      "outputs": []
    },
    {
      "cell_type": "code",
      "source": [
        "from langchain_google_genai import ChatGoogleGenerativeAI"
      ],
      "metadata": {
        "id": "LupidcrIyUEA"
      },
      "execution_count": 4,
      "outputs": []
    },
    {
      "cell_type": "code",
      "source": [
        "import os\n",
        "from google.colab import userdata\n",
        "GEMINI_API_KEY = userdata.get('GEMINI_API_KEY')\n",
        "os.environ[\"GOOGLE_API_KEY\"]=GEMINI_API_KEY"
      ],
      "metadata": {
        "id": "razSSXhXylAB"
      },
      "execution_count": 6,
      "outputs": []
    },
    {
      "cell_type": "code",
      "source": [
        "llm = ChatGoogleGenerativeAI(\n",
        "    model=\"gemini-2.0-flash\",\n",
        "    temperature=0\n",
        ")"
      ],
      "metadata": {
        "id": "-b4pxOF_4de_"
      },
      "execution_count": 7,
      "outputs": []
    },
    {
      "cell_type": "code",
      "source": [
        "result = llm.invoke(\"Who was election in Delhi ?\")"
      ],
      "metadata": {
        "id": "Sq1IQcPR4ytj"
      },
      "execution_count": 8,
      "outputs": []
    },
    {
      "cell_type": "code",
      "source": [
        "result"
      ],
      "metadata": {
        "id": "EhEhudVp46Vl",
        "outputId": "77eeda05-a1e4-482a-bddd-d7e622933392",
        "colab": {
          "base_uri": "https://localhost:8080/"
        }
      },
      "execution_count": 9,
      "outputs": [
        {
          "output_type": "execute_result",
          "data": {
            "text/plain": [
              "AIMessage(content='The Aam Aadmi Party (AAP) won the Delhi election in 2020.', additional_kwargs={}, response_metadata={'prompt_feedback': {'block_reason': 0, 'safety_ratings': []}, 'finish_reason': 'STOP', 'safety_ratings': []}, id='run-0f170ba4-3740-48a1-b489-88cdbcd0d0cc-0', usage_metadata={'input_tokens': 6, 'output_tokens': 21, 'total_tokens': 27, 'input_token_details': {'cache_read': 0}})"
            ]
          },
          "metadata": {},
          "execution_count": 9
        }
      ]
    },
    {
      "cell_type": "code",
      "source": [
        "result = llm.invoke(\"How Can I learn it ?\")\n",
        "result.content"
      ],
      "metadata": {
        "id": "SE3iVJ_75t7f",
        "outputId": "0611d01f-171b-415f-9c66-246eece2430d",
        "colab": {
          "base_uri": "https://localhost:8080/",
          "height": 123
        }
      },
      "execution_count": 12,
      "outputs": [
        {
          "output_type": "execute_result",
          "data": {
            "text/plain": [
              "'To give you the best advice on how to learn something, I need to know **what \"it\" is!**  Please tell me what you\\'re trying to learn.  For example:\\n\\n*   **A specific skill:**  \"I want to learn to play the guitar,\" or \"I want to learn to code in Python.\"\\n*   **A subject:** \"I want to learn about astrophysics,\" or \"I want to learn about the history of the Roman Empire.\"\\n*   **A software program:** \"I want to learn how to use Adobe Photoshop,\" or \"I want to learn how to use Microsoft Excel.\"\\n*   **A language:** \"I want to learn Spanish,\" or \"I want to learn Japanese.\"\\n\\nOnce I know what \"it\" is, I can give you tailored advice on the best resources, learning strategies, and potential challenges you might face.\\n\\nIn the meantime, here are some general tips that apply to learning almost anything:\\n\\n**1. Define Your Goals:**\\n\\n*   **What do you want to achieve?**  Be specific.  Instead of \"learn to code,\" try \"learn to build a simple website.\"\\n*   **Why do you want to learn this?**  Motivation is key.  Knowing your \"why\" will help you stay focused.\\n\\n**2. Find the Right Resources:**\\n\\n*   **Online Courses:** Platforms like Coursera, edX, Udemy, Skillshare, and Khan Academy offer courses on a vast range of subjects.\\n*   **Books:** Libraries and bookstores are full of knowledge.  Look for beginner-friendly guides.\\n*   **Websites and Blogs:** Many websites and blogs offer free tutorials, articles, and resources.\\n*   **YouTube:** A treasure trove of instructional videos.\\n*   **Mentors/Teachers:**  Consider finding someone who is already proficient in the skill you want to learn.  They can provide guidance and feedback.\\n*   **Practice Materials:**  For languages, find workbooks, flashcards, and language exchange partners.  For coding, find coding challenges and projects.\\n\\n**3. Create a Learning Plan:**\\n\\n*   **Break it down:** Divide the subject into smaller, manageable chunks.\\n*   **Set realistic goals:** Don\\'t try to learn everything at once.\\n*   **Schedule time:** Dedicate specific times each week to learning.  Consistency is important.\\n*   **Track your progress:**  Keep a record of what you\\'ve learned and what you still need to cover.\\n\\n**4. Practice Regularly:**\\n\\n*   **Hands-on experience:**  The best way to learn is by doing.  Practice what you\\'re learning as often as possible.\\n*   **Apply your knowledge:**  Find ways to use what you\\'re learning in real-world situations.\\n*   **Don\\'t be afraid to make mistakes:**  Mistakes are a natural part of the learning process.  Learn from them.\\n\\n**5. Stay Motivated:**\\n\\n*   **Celebrate your successes:**  Acknowledge your progress and reward yourself for achieving your goals.\\n*   **Find a learning community:**  Connect with other learners online or in person.  Sharing your experiences and learning from others can be very motivating.\\n*   **Don\\'t give up:**  Learning can be challenging, but it\\'s also rewarding.  Keep practicing and you\\'ll eventually reach your goals.\\n\\n**6. Adapt and Adjust:**\\n\\n*   **Evaluate your progress:** Regularly assess how you\\'re doing and adjust your learning plan as needed.\\n*   **Try different methods:** If one method isn\\'t working, try another.\\n*   **Be patient:** Learning takes time and effort.  Don\\'t get discouraged if you don\\'t see results immediately.\\n\\n**Once you tell me what \"it\" is, I can give you much more specific and helpful advice!**'"
            ],
            "application/vnd.google.colaboratory.intrinsic+json": {
              "type": "string"
            }
          },
          "metadata": {},
          "execution_count": 12
        }
      ]
    },
    {
      "cell_type": "code",
      "source": [
        "from langchain_core.messages import HumanMessage, AIMessage\n",
        "\n",
        "# Context Aware\n",
        "messages = [\n",
        "    HumanMessage(content=\"Hello Gemini\", name=\"Anas\"),\n",
        "    AIMessage(content=\"Hella Anas, Nice to meet you. How can I assist you today ?\", name=\"Assistant\"),\n",
        "    HumanMessage(content=\"What is Lanchain ?\", name=\"Anas\"),\n",
        "    AIMessage(content=\"LangChain is a framework for developing applications powered by language models.\", name=\"Assistant\"),\n",
        "    HumanMessage(content=\"How can I learn it ?\", name=\"Anas\")\n",
        "]\n",
        "\n",
        "result = llm.invoke(messages)\n",
        "result.content"
      ],
      "metadata": {
        "id": "JlVNd2Yi47bt",
        "outputId": "e4813c31-91c3-4a9d-a9eb-65d6c82dfabc",
        "colab": {
          "base_uri": "https://localhost:8080/",
          "height": 123
        }
      },
      "execution_count": 13,
      "outputs": [
        {
          "output_type": "execute_result",
          "data": {
            "text/plain": [
              "'Okay, learning LangChain can be a rewarding experience! Here\\'s a structured approach to help you learn LangChain, along with resources:\\n\\n**1. Foundational Knowledge (If Needed):**\\n\\n*   **Python:** LangChain is a Python library, so a solid understanding of Python is essential.  If you\\'re not comfortable with Python, start with a Python tutorial.  Good options include:\\n    *   **Official Python Tutorial:** [https://docs.python.org/3/tutorial/](https://docs.python.org/3/tutorial/)\\n    *   **Codecademy\\'s Python Course:** [https://www.codecademy.com/learn/learn-python-3](https://www.codecademy.com/learn/learn-python-3)\\n    *   **FreeCodeCamp\\'s Python Curriculum:** [https://www.freecodecamp.org/learn/scientific-computing-with-python/](https://www.freecodecamp.org/learn/scientific-computing-with-python/)\\n*   **Large Language Models (LLMs):**  Understand the basics of how LLMs work.  You don\\'t need to be an expert, but knowing the concepts of prompting, tokenization, and the general architecture will be helpful.\\n    *   **Read introductory articles:** Search for \"Introduction to Large Language Models\" or \"LLM Explained\" on Google or Medium.\\n    *   **Watch introductory videos:**  Many YouTube channels offer explanations of LLMs.\\n*   **Basic NLP Concepts (Helpful but not strictly required to start):**  Familiarity with concepts like tokenization, embeddings, and text generation will be beneficial in the long run.\\n\\n**2. LangChain Official Documentation:**\\n\\n*   **Start Here:** The official LangChain documentation is the *most important* resource.  It\\'s well-structured and provides comprehensive information.\\n    *   **LangChain Python Documentation:** [https://python.langchain.com/docs/get_started/introduction](https://python.langchain.com/docs/get_started/introduction)\\n    *   **LangChain JavaScript/TypeScript Documentation:** [https://js.langchain.com/docs/get_started/introduction](https://js.langchain.com/docs/get_started/introduction)\\n*   **Key Areas to Focus On:**\\n    *   **Getting Started:**  Follow the installation instructions and run the basic examples.\\n    *   **Modules:**  Understand the core modules of LangChain:\\n        *   **Models:**  Wrappers around different LLMs (e.g., OpenAI, Cohere, Hugging Face).\\n        *   **Prompts:**  How to structure and format prompts for LLMs.\\n        *   **Chains:**  Sequences of calls to LLMs or other utilities.  This is a fundamental concept.\\n        *   **Indexes:**  How to structure documents for LLMs to use (e.g., vector databases).\\n        *   **Memory:**  How to add state to chains (e.g., for conversational applications).\\n        *   **Agents:**  Dynamically choose and use tools based on user input.\\n        *   **Callbacks:**  Tools for logging and monitoring LangChain runs.\\n    *   **Use Cases:**  Explore the different use cases to see how LangChain can be applied (e.g., question answering, chatbots, text summarization).\\n\\n**3. Hands-on Practice:**\\n\\n*   **Follow the Tutorials:** The LangChain documentation includes tutorials.  Work through them step-by-step.\\n*   **Build Small Projects:**  The best way to learn is by doing.  Start with simple projects and gradually increase the complexity.  Here are some ideas:\\n    *   **Simple Question Answering:**  Load a document and use LangChain to answer questions about it.\\n    *   **Chatbot:**  Create a basic chatbot that can respond to user input.\\n    *   **Text Summarization:**  Summarize a long article or document.\\n    *   **Document Search:**  Index a collection of documents and allow users to search them using natural language.\\n*   **Experiment:**  Don\\'t be afraid to experiment with different models, prompts, and chains.  See what works best for your use case.\\n\\n**4. Online Courses and Tutorials:**\\n\\n*   **LangChain Courses on Platforms like Coursera, Udemy, and DeepLearning.AI:** Search for \"LangChain\" on these platforms.  Look for courses that are up-to-date and have good reviews.\\n*   **YouTube Tutorials:**  Many creators are making LangChain tutorials.  Search for \"LangChain tutorial\" on YouTube.  Be sure to check the date of the videos to ensure they are current.\\n*   **Blogs and Articles:**  Read blog posts and articles about LangChain.  This can help you learn about new features and best practices.\\n\\n**5. Community and Support:**\\n\\n*   **LangChain Discord:** Join the LangChain Discord server.  This is a great place to ask questions, get help, and connect with other LangChain users.  (Link is usually found on the LangChain documentation site).\\n*   **LangChain GitHub:**  Follow the LangChain GitHub repository.  You can see the latest updates, contribute to the project, and report issues.\\n*   **Stack Overflow:**  Search for LangChain-related questions on Stack Overflow.  If you have a question, be sure to ask it there.\\n\\n**6. Advanced Topics:**\\n\\n*   **Vector Databases:**  Learn about vector databases like Chroma, Pinecone, and FAISS.  These are often used with LangChain for document retrieval.\\n*   **Agents and Tools:**  Explore the agent capabilities of LangChain.  Learn how to create custom tools and integrate them with agents.\\n*   **Evaluation:**  Learn how to evaluate the performance of your LangChain applications.\\n*   **Deployment:**  Learn how to deploy your LangChain applications to production.\\n\\n**Tips for Success:**\\n\\n*   **Start Small:** Don\\'t try to learn everything at once. Focus on the core concepts first.\\n*   **Be Patient:** Learning LangChain takes time and effort. Don\\'t get discouraged if you don\\'t understand everything right away.\\n*   **Practice Regularly:** The more you practice, the better you\\'ll become.\\n*   **Stay Up-to-Date:** LangChain is a rapidly evolving framework. Keep up with the latest changes and updates.\\n*   **Contribute:** Consider contributing to the LangChain project. This is a great way to learn and give back to the community.\\n\\nBy following these steps and dedicating time to learning, you can become proficient in LangChain and build powerful applications powered by language models. Good luck!'"
            ],
            "application/vnd.google.colaboratory.intrinsic+json": {
              "type": "string"
            }
          },
          "metadata": {},
          "execution_count": 13
        }
      ]
    },
    {
      "cell_type": "code",
      "source": [
        "result.pretty_print()"
      ],
      "metadata": {
        "id": "1KNnh8WC5E4i",
        "outputId": "cb525f57-ea83-458f-beb2-b955860a64d5",
        "colab": {
          "base_uri": "https://localhost:8080/"
        }
      },
      "execution_count": 14,
      "outputs": [
        {
          "output_type": "stream",
          "name": "stdout",
          "text": [
            "==================================\u001b[1m Ai Message \u001b[0m==================================\n",
            "\n",
            "Okay, learning LangChain can be a rewarding experience! Here's a structured approach to help you learn LangChain, along with resources:\n",
            "\n",
            "**1. Foundational Knowledge (If Needed):**\n",
            "\n",
            "*   **Python:** LangChain is a Python library, so a solid understanding of Python is essential.  If you're not comfortable with Python, start with a Python tutorial.  Good options include:\n",
            "    *   **Official Python Tutorial:** [https://docs.python.org/3/tutorial/](https://docs.python.org/3/tutorial/)\n",
            "    *   **Codecademy's Python Course:** [https://www.codecademy.com/learn/learn-python-3](https://www.codecademy.com/learn/learn-python-3)\n",
            "    *   **FreeCodeCamp's Python Curriculum:** [https://www.freecodecamp.org/learn/scientific-computing-with-python/](https://www.freecodecamp.org/learn/scientific-computing-with-python/)\n",
            "*   **Large Language Models (LLMs):**  Understand the basics of how LLMs work.  You don't need to be an expert, but knowing the concepts of prompting, tokenization, and the general architecture will be helpful.\n",
            "    *   **Read introductory articles:** Search for \"Introduction to Large Language Models\" or \"LLM Explained\" on Google or Medium.\n",
            "    *   **Watch introductory videos:**  Many YouTube channels offer explanations of LLMs.\n",
            "*   **Basic NLP Concepts (Helpful but not strictly required to start):**  Familiarity with concepts like tokenization, embeddings, and text generation will be beneficial in the long run.\n",
            "\n",
            "**2. LangChain Official Documentation:**\n",
            "\n",
            "*   **Start Here:** The official LangChain documentation is the *most important* resource.  It's well-structured and provides comprehensive information.\n",
            "    *   **LangChain Python Documentation:** [https://python.langchain.com/docs/get_started/introduction](https://python.langchain.com/docs/get_started/introduction)\n",
            "    *   **LangChain JavaScript/TypeScript Documentation:** [https://js.langchain.com/docs/get_started/introduction](https://js.langchain.com/docs/get_started/introduction)\n",
            "*   **Key Areas to Focus On:**\n",
            "    *   **Getting Started:**  Follow the installation instructions and run the basic examples.\n",
            "    *   **Modules:**  Understand the core modules of LangChain:\n",
            "        *   **Models:**  Wrappers around different LLMs (e.g., OpenAI, Cohere, Hugging Face).\n",
            "        *   **Prompts:**  How to structure and format prompts for LLMs.\n",
            "        *   **Chains:**  Sequences of calls to LLMs or other utilities.  This is a fundamental concept.\n",
            "        *   **Indexes:**  How to structure documents for LLMs to use (e.g., vector databases).\n",
            "        *   **Memory:**  How to add state to chains (e.g., for conversational applications).\n",
            "        *   **Agents:**  Dynamically choose and use tools based on user input.\n",
            "        *   **Callbacks:**  Tools for logging and monitoring LangChain runs.\n",
            "    *   **Use Cases:**  Explore the different use cases to see how LangChain can be applied (e.g., question answering, chatbots, text summarization).\n",
            "\n",
            "**3. Hands-on Practice:**\n",
            "\n",
            "*   **Follow the Tutorials:** The LangChain documentation includes tutorials.  Work through them step-by-step.\n",
            "*   **Build Small Projects:**  The best way to learn is by doing.  Start with simple projects and gradually increase the complexity.  Here are some ideas:\n",
            "    *   **Simple Question Answering:**  Load a document and use LangChain to answer questions about it.\n",
            "    *   **Chatbot:**  Create a basic chatbot that can respond to user input.\n",
            "    *   **Text Summarization:**  Summarize a long article or document.\n",
            "    *   **Document Search:**  Index a collection of documents and allow users to search them using natural language.\n",
            "*   **Experiment:**  Don't be afraid to experiment with different models, prompts, and chains.  See what works best for your use case.\n",
            "\n",
            "**4. Online Courses and Tutorials:**\n",
            "\n",
            "*   **LangChain Courses on Platforms like Coursera, Udemy, and DeepLearning.AI:** Search for \"LangChain\" on these platforms.  Look for courses that are up-to-date and have good reviews.\n",
            "*   **YouTube Tutorials:**  Many creators are making LangChain tutorials.  Search for \"LangChain tutorial\" on YouTube.  Be sure to check the date of the videos to ensure they are current.\n",
            "*   **Blogs and Articles:**  Read blog posts and articles about LangChain.  This can help you learn about new features and best practices.\n",
            "\n",
            "**5. Community and Support:**\n",
            "\n",
            "*   **LangChain Discord:** Join the LangChain Discord server.  This is a great place to ask questions, get help, and connect with other LangChain users.  (Link is usually found on the LangChain documentation site).\n",
            "*   **LangChain GitHub:**  Follow the LangChain GitHub repository.  You can see the latest updates, contribute to the project, and report issues.\n",
            "*   **Stack Overflow:**  Search for LangChain-related questions on Stack Overflow.  If you have a question, be sure to ask it there.\n",
            "\n",
            "**6. Advanced Topics:**\n",
            "\n",
            "*   **Vector Databases:**  Learn about vector databases like Chroma, Pinecone, and FAISS.  These are often used with LangChain for document retrieval.\n",
            "*   **Agents and Tools:**  Explore the agent capabilities of LangChain.  Learn how to create custom tools and integrate them with agents.\n",
            "*   **Evaluation:**  Learn how to evaluate the performance of your LangChain applications.\n",
            "*   **Deployment:**  Learn how to deploy your LangChain applications to production.\n",
            "\n",
            "**Tips for Success:**\n",
            "\n",
            "*   **Start Small:** Don't try to learn everything at once. Focus on the core concepts first.\n",
            "*   **Be Patient:** Learning LangChain takes time and effort. Don't get discouraged if you don't understand everything right away.\n",
            "*   **Practice Regularly:** The more you practice, the better you'll become.\n",
            "*   **Stay Up-to-Date:** LangChain is a rapidly evolving framework. Keep up with the latest changes and updates.\n",
            "*   **Contribute:** Consider contributing to the LangChain project. This is a great way to learn and give back to the community.\n",
            "\n",
            "By following these steps and dedicating time to learning, you can become proficient in LangChain and build powerful applications powered by language models. Good luck!\n"
          ]
        }
      ]
    },
    {
      "cell_type": "markdown",
      "source": [
        "# **Tools**"
      ],
      "metadata": {
        "id": "Zlg5cuZv6J-F"
      }
    },
    {
      "cell_type": "code",
      "source": [
        "!pip install -q langchain_community tavily-python"
      ],
      "metadata": {
        "id": "BejtrfHx6GHu",
        "outputId": "fc4213e5-28a6-4e6f-e302-96faf114f17b",
        "colab": {
          "base_uri": "https://localhost:8080/"
        }
      },
      "execution_count": 16,
      "outputs": [
        {
          "output_type": "stream",
          "name": "stdout",
          "text": [
            "\u001b[?25l   \u001b[90m━━━━━━━━━━━━━━━━━━━━━━━━━━━━━━━━━━━━━━━━\u001b[0m \u001b[32m0.0/2.5 MB\u001b[0m \u001b[31m?\u001b[0m eta \u001b[36m-:--:--\u001b[0m\r\u001b[2K   \u001b[91m━━━━━━━━━━━━━━━━━━━━━━━━━━━━━━━━━━━━━━━\u001b[0m\u001b[91m╸\u001b[0m \u001b[32m2.5/2.5 MB\u001b[0m \u001b[31m72.0 MB/s\u001b[0m eta \u001b[36m0:00:01\u001b[0m\r\u001b[2K   \u001b[90m━━━━━━━━━━━━━━━━━━━━━━━━━━━━━━━━━━━━━━━━\u001b[0m \u001b[32m2.5/2.5 MB\u001b[0m \u001b[31m37.1 MB/s\u001b[0m eta \u001b[36m0:00:00\u001b[0m\n",
            "\u001b[?25h\u001b[?25l   \u001b[90m━━━━━━━━━━━━━━━━━━━━━━━━━━━━━━━━━━━━━━━━\u001b[0m \u001b[32m0.0/43.8 kB\u001b[0m \u001b[31m?\u001b[0m eta \u001b[36m-:--:--\u001b[0m\r\u001b[2K   \u001b[90m━━━━━━━━━━━━━━━━━━━━━━━━━━━━━━━━━━━━━━━━\u001b[0m \u001b[32m43.8/43.8 kB\u001b[0m \u001b[31m2.8 MB/s\u001b[0m eta \u001b[36m0:00:00\u001b[0m\n",
            "\u001b[2K   \u001b[90m━━━━━━━━━━━━━━━━━━━━━━━━━━━━━━━━━━━━━━━━\u001b[0m \u001b[32m1.0/1.0 MB\u001b[0m \u001b[31m36.9 MB/s\u001b[0m eta \u001b[36m0:00:00\u001b[0m\n",
            "\u001b[2K   \u001b[90m━━━━━━━━━━━━━━━━━━━━━━━━━━━━━━━━━━━━━━━━\u001b[0m \u001b[32m413.0/413.0 kB\u001b[0m \u001b[31m17.1 MB/s\u001b[0m eta \u001b[36m0:00:00\u001b[0m\n",
            "\u001b[2K   \u001b[90m━━━━━━━━━━━━━━━━━━━━━━━━━━━━━━━━━━━━━━━━\u001b[0m \u001b[32m1.2/1.2 MB\u001b[0m \u001b[31m39.9 MB/s\u001b[0m eta \u001b[36m0:00:00\u001b[0m\n",
            "\u001b[2K   \u001b[90m━━━━━━━━━━━━━━━━━━━━━━━━━━━━━━━━━━━━━━━━\u001b[0m \u001b[32m50.9/50.9 kB\u001b[0m \u001b[31m3.5 MB/s\u001b[0m eta \u001b[36m0:00:00\u001b[0m\n",
            "\u001b[?25h"
          ]
        }
      ]
    },
    {
      "cell_type": "code",
      "source": [
        "TAVILY_API_KEY = userdata.get('TAVILY_API_KEY')\n",
        "os.environ[\"TAVILY_API_KEY\"]=TAVILY_API_KEY"
      ],
      "metadata": {
        "id": "9pKN18Es6m13"
      },
      "execution_count": 17,
      "outputs": []
    },
    {
      "cell_type": "code",
      "source": [
        "from langchain_community.tools import TavilySearchResults\n",
        "\n",
        "tavily = TavilySearchResults(max_results=5)\n",
        "search = tavily.invoke(\"Who won election held in Delhi in 2025 ?\")\n",
        "search"
      ],
      "metadata": {
        "id": "SrWRw4JX6zsH",
        "outputId": "aa98e982-7b50-4079-f61c-a16dc3879fb3",
        "colab": {
          "base_uri": "https://localhost:8080/"
        }
      },
      "execution_count": 18,
      "outputs": [
        {
          "output_type": "execute_result",
          "data": {
            "text/plain": [
              "[{'url': 'https://timesofindia.indiatimes.com/city/delhi/delhi-assembly-election-results-2025-complete-list-of-winners-from-aap-bjp-and-congress/articleshow/118054346.cms',\n",
              "  'content': \"Delhi Assembly Election Results 2025 Winners List: Full and final list of winners from AAP, BJP, and Congress | Delhi News - The Times of India Delhi Assembly Election Results 2025: Full and final list of winners from AAP and BJP Delhi Assembly Election Results 2025: Full and final list of winners from AAP and BJP The 2025 Delhi Assembly elections were marked by a significant triangular battle between the incumbent Aam Aadmi Party (AAP), the resurgent Bharatiya Janata Party (BJP), and the Indian National Congress, each vying for dominance in the capital’s complex political landscape. Check out the latest news about Delhi Election Results and the full and final winner list only on Times of India. Delhi election results 2025: BJP ends Kejriwal's dream run in national capital - 5 strategies that failed to work for AAP chief\"},\n",
              " {'url': 'https://frontline.thehindu.com/politics/delhi-assembly-election-results-2025-bjp-wins-aap-kejriwal-loses/article69198874.ece',\n",
              "  'content': 'Delhi Election Results 2025 EXPLAINER: BJP Wins 48 Seats, AAP’s Kejriwal Loses New Delhi Constituency, and More. The defeat of the AAP and former Chief Minister Arvind Kejriwal’s own loss in the New Delhi seat is a huge moral defeat for the party’s national convenor since he had turned the Assembly election into a referendum on his leadership. Sensing that this was its best chance to win Delhi, the BJP banked on anti-incumbency against the AAP government, and its main target was Kejriwal’s image against the backdrop of the allegations of corruption against him. [Arvind Kejriwal: People will vote for kaam ki rajneeti](https://frontline.thehindu.com/politics/arvind-kejriwal-exclusive-interview-delhi-election-2025-voting-aap-vs-bjp-vs-congress/article69131147.ece \"Updated: January 30, 2025 14:41 IST [Editor’s Note: The dogged determination of Arvind Kejriwal](https://frontline.thehindu.com/politics/editors-note-delhi-election-2025-arvind-kejriwal-aap-bjp-secularism-religion-development-governance/article69131942.ece \"Updated: January 29, 2025 19:32 IST'},\n",
              " {'url': 'https://www.bbc.com/news/articles/c203ql5l8zyo',\n",
              "  'content': 'Delhi election results 2025: Modi\\'s BJP wins big in high-stakes contest Modi\\'s BJP wins big in high-stakes Delhi election BBC News, Delhi Prime Minister Narendra Modi\\'s party will form the government in Indian capital Delhi for the first time in 27 years as it scripted an impressive election victory. In a video message on X, the AAP\\'s former Delhi chief minister Arvind Kejriwal said he and his party \"humbly accepted\" the verdict of the people and congratulated the BJP on its win. The party governed Delhi from 1998 to 2013, but was ousted over allegations of corruption that saw voters turn to AAP instead. Experts say the win in politically crucial Delhi will reinforce Modi\\'s popularity among Indian voters after his party lost its outright majority in last year\\'s general election.'},\n",
              " {'url': 'https://indianexpress.com/article/political-pulse/delhi-kejriwal-aap-analysis-9823826/',\n",
              "  'content': 'My Express .Opens in new window News Delhi Election Results 2025 LIVE Updates: Where will AAP and Kejriwal go from here? Delhi Election Results 2025 LIVE Updates: Where will AAP and Kejriwal go from here? Delhi Election Results 2025 Constituency Wise LIVE Updates: As per early trends, the BJP is leading in over 30 seats in the National Capital. AAP and BJP battle it out -- who will make it?Delhi Election Results 2025 LIVE Updates: The BJP has won the Delhi Assembly elections and will return to power in the National Capital after over 25 years. Delhi Election Result Constituency Wise LIVE: Follow Counting Updates Here Click here for Delhi election results 2025 Live Updates Delhi Election Result 2025 Live'},\n",
              " {'url': 'https://www.livemint.com/elections/assembly-elections/delhi-election-result-2025-date-key-highlights-live-updates-assembly-vote-counting-winner-kejriwal-parvesh-verma-bjp-aap-11738937392936.html',\n",
              "  'content': 'Delhi Assembly Elections Results 2025 LIVE Delhi Election Results 2025 LIVE Arvind Kejriwal Delhi Election Results Delhi Election Result 2025 Key Highlight Bypolls Result 2025 Live Rohini Election Results 2025 Live Okhla Election Results 2025 Live New Delhi Election Results 2025 Live Kalkaji Assembly Election Results 2025 Live BJP vs AAP Delhi Election Results 2025 LIVE Greater Kailash Election Results 2025 Live Milkipur Bypoll Election Results LIVE Pakistan vs New Zealand LIVE Score Kshama Sawant Happy Propose Day 2025 Valentines Day 2025 Sukesh Chandrashekar Gautam Adani’s son wedding Saikat Chakrabarti Indians deported by US Loveyapa Movie Vidaamuyarchi US Deporting Migrants Himachal Pradesh Temperature New Income Tax bill Livemint Hindi Bank Holidays in Uttar Pradesh Bank Holidays in Gujarat Bank Holidays in Delhi Bank Holidays in September Income Tax Calculator 2025 Bank Holidays in Jammu And Kashmir Jangpura Election Results 2025 Live Instant Personal Loan Check Credit Score Online Business Loan Personal Loan Interest Rate Personal Loan Eligibility Personal Loan EMI Calculator Gold Rate in Delhi Gold Rate in Bangalore Gold Rate in Chennai Gold Rate in Hyderabad Gold Rate in Mumbai Business Radio - FAB Play Assembly Election Results Credit Card Personal Loan Online Gold Rate India Bank Holidays India Best air fryer Winner & Losers List Delhi Elections'}]"
            ]
          },
          "metadata": {},
          "execution_count": 18
        }
      ]
    },
    {
      "cell_type": "code",
      "source": [],
      "metadata": {
        "id": "RFYppnXS7LWm"
      },
      "execution_count": null,
      "outputs": []
    }
  ],
  "metadata": {
    "colab": {
      "name": "Welcome To Colab",
      "provenance": []
    },
    "kernelspec": {
      "display_name": "Python 3",
      "name": "python3"
    }
  },
  "nbformat": 4,
  "nbformat_minor": 0
}