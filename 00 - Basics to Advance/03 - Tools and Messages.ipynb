{
  "cells": [
    {
      "cell_type": "markdown",
      "source": [
        "# **Libraries installation**"
      ],
      "metadata": {
        "id": "flVAFDyel06x"
      }
    },
    {
      "cell_type": "code",
      "source": [
        "!pip install -q langchain-core langchain-google-genai"
      ],
      "metadata": {
        "id": "gbm9VA_dl5Ig",
        "outputId": "149b72b0-eec6-4090-8222-824de4098ab0",
        "colab": {
          "base_uri": "https://localhost:8080/"
        }
      },
      "execution_count": 1,
      "outputs": [
        {
          "output_type": "stream",
          "name": "stdout",
          "text": [
            "\u001b[?25l   \u001b[90m━━━━━━━━━━━━━━━━━━━━━━━━━━━━━━━━━━━━━━━━\u001b[0m \u001b[32m0.0/41.7 kB\u001b[0m \u001b[31m?\u001b[0m eta \u001b[36m-:--:--\u001b[0m\r\u001b[2K   \u001b[90m━━━━━━━━━━━━━━━━━━━━━━━━━━━━━━━━━━━━━━━━\u001b[0m \u001b[32m41.7/41.7 kB\u001b[0m \u001b[31m1.6 MB/s\u001b[0m eta \u001b[36m0:00:00\u001b[0m\n",
            "\u001b[?25h"
          ]
        }
      ]
    },
    {
      "cell_type": "markdown",
      "source": [
        "# **LLM Actions and Structure Output**"
      ],
      "metadata": {
        "id": "lB9rkC2jljwk"
      }
    },
    {
      "cell_type": "code",
      "source": [
        "from pprint import pprint\n",
        "from langchain_core.messages import AIMessage, HumanMessage, SystemMessage"
      ],
      "metadata": {
        "id": "JpJYCP0slxl_"
      },
      "execution_count": 2,
      "outputs": []
    },
    {
      "cell_type": "code",
      "source": [
        "messages = [AIMessage(content=\"So you said you were reaching ocean mammals ?\", name=\"Assistant\")]\n",
        "messages.append(HumanMessage(content=\"Yes that's right.\", name=\"Anas\"))\n",
        "messages.append(AIMessage(content=\"Great, What you would like to learn about.\", name=\"Assistant\"))\n",
        "messages.append(HumanMessage(content=\"I want to learn about the best place to see orcus is US.\", name=\"Anas\"))"
      ],
      "metadata": {
        "id": "pWV9CoccmNrj"
      },
      "execution_count": 20,
      "outputs": []
    },
    {
      "cell_type": "code",
      "source": [
        "for msg in messages:\n",
        "  msg.pretty_print()"
      ],
      "metadata": {
        "id": "mM14hQ_8m5xD",
        "outputId": "8b2efa8e-59c8-4aa9-f006-363254c10610",
        "colab": {
          "base_uri": "https://localhost:8080/"
        }
      },
      "execution_count": 21,
      "outputs": [
        {
          "output_type": "stream",
          "name": "stdout",
          "text": [
            "==================================\u001b[1m Ai Message \u001b[0m==================================\n",
            "Name: Assistant\n",
            "\n",
            "So you said you were reaching ocean mammals ?\n",
            "================================\u001b[1m Human Message \u001b[0m=================================\n",
            "Name: Anas\n",
            "\n",
            "Yes that's right.\n",
            "==================================\u001b[1m Ai Message \u001b[0m==================================\n",
            "Name: Assistant\n",
            "\n",
            "Great, What you would like to learn about.\n",
            "================================\u001b[1m Human Message \u001b[0m=================================\n",
            "Name: Anas\n",
            "\n",
            "I want to learn about the best place to see orcus is US.\n"
          ]
        }
      ]
    },
    {
      "cell_type": "code",
      "source": [
        "import os\n",
        "from google.colab import userdata\n",
        "GOOGLE_API_KEY = userdata.get('GOOGLE_API_KEY')\n",
        "os.environ[\"GOOGLE_API_KEY\"] = GOOGLE_API_KEY"
      ],
      "metadata": {
        "id": "pD1MKTsJnCIT"
      },
      "execution_count": 9,
      "outputs": []
    },
    {
      "cell_type": "code",
      "source": [
        "from langchain_google_genai import ChatGoogleGenerativeAI\n",
        "model = ChatGoogleGenerativeAI(model=\"gemini-2.0-flash\")"
      ],
      "metadata": {
        "id": "24RH1_uSnsc7"
      },
      "execution_count": 10,
      "outputs": []
    },
    {
      "cell_type": "code",
      "source": [
        "# Invoking\n",
        "simple_call = model.invoke(\"Hi\")\n",
        "simple_call.pretty_print()"
      ],
      "metadata": {
        "id": "g5eHzUlwoCON",
        "outputId": "351ff711-e8bc-4be7-f4bf-3db1dc545e1f",
        "colab": {
          "base_uri": "https://localhost:8080/"
        }
      },
      "execution_count": 14,
      "outputs": [
        {
          "output_type": "stream",
          "name": "stdout",
          "text": [
            "==================================\u001b[1m Ai Message \u001b[0m==================================\n",
            "\n",
            "Hi there! How can I help you today?\n"
          ]
        }
      ]
    },
    {
      "cell_type": "code",
      "source": [
        "simple_message = [HumanMessage(content=\"What is your name ?\", name=\"Anas\")]\n",
        "result = model.invoke(simple_message)\n",
        "result.pretty_print()"
      ],
      "metadata": {
        "id": "n7RafgGWoQCC",
        "outputId": "cb4f1e4c-a6f6-477e-e90e-6c08955b7041",
        "colab": {
          "base_uri": "https://localhost:8080/"
        }
      },
      "execution_count": 18,
      "outputs": [
        {
          "output_type": "stream",
          "name": "stdout",
          "text": [
            "==================================\u001b[1m Ai Message \u001b[0m==================================\n",
            "\n",
            "I am a large language model, trained by Google.\n"
          ]
        }
      ]
    },
    {
      "cell_type": "code",
      "source": [
        "system_human_message = [\n",
        "    SystemMessage(content=\"You are a helpful assistant. Your name is Google baba.\"),\n",
        "    HumanMessage(content=\"What is your name?\")\n",
        "]\n",
        "result = model.invoke(system_human_message)\n",
        "result.pretty_print()"
      ],
      "metadata": {
        "id": "ol7jiGOzpwIW",
        "outputId": "55199c36-3a19-42c3-a2ef-70300c58222f",
        "colab": {
          "base_uri": "https://localhost:8080/"
        }
      },
      "execution_count": 19,
      "outputs": [
        {
          "output_type": "stream",
          "name": "stdout",
          "text": [
            "==================================\u001b[1m Ai Message \u001b[0m==================================\n",
            "\n",
            "My name is Google baba.\n"
          ]
        }
      ]
    },
    {
      "cell_type": "code",
      "source": [
        "context_call = model.invoke(messages)\n",
        "context_call"
      ],
      "metadata": {
        "id": "Agf7d2qIqW3d",
        "outputId": "6eb6a3a3-4a5b-497c-9247-aec0e446c44d",
        "colab": {
          "base_uri": "https://localhost:8080/"
        }
      },
      "execution_count": 23,
      "outputs": [
        {
          "output_type": "execute_result",
          "data": {
            "text/plain": [
              "AIMessage(content='Okay! If you\\'re looking for the best places in the US to see orcas (killer whales), you have a few excellent options, primarily concentrated in the Pacific Northwest:\\n\\n**1. San Juan Islands, Washington State:**\\n\\n*   **Why it\\'s great:** This is arguably the *best* place in the US to see orcas. The Southern Resident orca population frequents these waters, especially during the summer months (roughly May-September).\\n*   **How to see them:**\\n    *   **Whale watching tours:** Numerous reputable tour operators run daily excursions from towns like Friday Harbor (San Juan Island), Anacortes, and Bellingham. These tours use hydrophones to listen for orca calls and follow responsible viewing guidelines.\\n    *   **Land-based viewing:** Lime Kiln State Park (also known as \"Whale Watch Park\") on San Juan Island is a prime spot for land-based viewing. You might need binoculars, but the views are stunning, and you can often hear the orcas with a hydrophone.\\n*   **Things to consider:** The Southern Resident orca population is endangered, and their presence can be unpredictable. While sightings are common, there\\'s no guarantee. Choose tour operators committed to responsible whale watching practices to minimize disturbance.\\n\\n**2. Puget Sound, Washington State:**\\n\\n*   **Why it\\'s great:** Orcas, including transient (Bigg\\'s) orcas, regularly visit Puget Sound.\\n*   **How to see them:**\\n    *   **Whale watching tours:** Tours depart from Seattle, Edmonds, and other Puget Sound locations.\\n    *   **Land-based viewing:** Parks along the Puget Sound shoreline can offer opportunities for spotting orcas, though sightings are less frequent than in the San Juan Islands.\\n*   **Things to consider:** Puget Sound is a large body of water, so sightings can be more spread out.\\n\\n**3. Kenai Fjords National Park, Alaska:**\\n\\n*   **Why it\\'s great:** While not *guaranteed* orca sightings, Kenai Fjords is an incredible place to see a variety of marine wildlife, including orcas, humpback whales, sea otters, seals, and more. The scenery is breathtaking.\\n*   **How to see them:**\\n    *   **Wildlife cruises:** These cruises are the best way to explore the fjords and have a chance of seeing orcas. They typically depart from Seward.\\n*   **Things to consider:** Orca sightings are less predictable here than in the San Juan Islands, but the overall wildlife viewing experience is exceptional.\\n\\n**4. Other possibilities:**\\n\\n*   **Monterey Bay, California:** Orcas are occasionally spotted in Monterey Bay, particularly transient orcas that hunt marine mammals. Whale watching tours operate from Monterey and Moss Landing. Sightings are much less frequent than in the Pacific Northwest.\\n*   **Channel Islands National Park, California:** Similar to Monterey Bay, orcas are sometimes seen, but it\\'s not a primary orca-watching destination.\\n\\n**Key Factors to Consider When Planning:**\\n\\n*   **Time of year:** Summer (June-August) is generally the best time for orca watching in the San Juan Islands. Spring and fall can also be good, but sightings may be less consistent.\\n*   **Orca type:** Decide if you\\'re interested in seeing Resident orcas (fish-eaters) or Transient (Bigg\\'s) orcas (marine mammal eaters). They have different ranges and behaviors. The San Juan Islands are primarily known for the Southern Residents.\\n*   **Responsible whale watching:** Choose tour operators that follow guidelines to minimize disturbance to the whales, such as maintaining a safe distance, avoiding encircling the whales, and limiting time spent near them.\\n*   **Flexibility:** Orca sightings are never guaranteed. Be prepared for the possibility that you might not see them, and enjoy the other marine wildlife and scenery.\\n\\n**In summary, the San Juan Islands in Washington State are the top choice for reliably seeing orcas in the US, especially during the summer months.**\\n\\nDo you have any other questions about orca watching in the US, or would you like more details on a specific location?', additional_kwargs={}, response_metadata={'prompt_feedback': {'block_reason': 0, 'safety_ratings': []}, 'finish_reason': 'STOP', 'safety_ratings': []}, id='run-6181271b-7ac5-449b-a0fc-b316e1cc931b-0', usage_metadata={'input_tokens': 40, 'output_tokens': 875, 'total_tokens': 915, 'input_token_details': {'cache_read': 0}})"
            ]
          },
          "metadata": {},
          "execution_count": 23
        }
      ]
    },
    {
      "cell_type": "markdown",
      "source": [
        "# **Tools**"
      ],
      "metadata": {
        "id": "hAaK5j0Kq0ji"
      }
    },
    {
      "cell_type": "markdown",
      "source": [
        "**Setupping**"
      ],
      "metadata": {
        "id": "ujI_JgA3q70p"
      }
    },
    {
      "cell_type": "code",
      "source": [
        "%%capture --no-stderr\n",
        "%pip install --quiet -U langchain-google-genai langchain_core langgraph"
      ],
      "metadata": {
        "id": "6xdEBgmYqpWI"
      },
      "execution_count": 24,
      "outputs": []
    },
    {
      "cell_type": "code",
      "source": [
        "import os\n",
        "from google.colab import userdata\n",
        "GOOGLE_API_KEY = userdata.get('GOOGLE_API_KEY')\n",
        "os.environ[\"GOOGLE_API_KEY\"] = GOOGLE_API_KEY"
      ],
      "metadata": {
        "id": "KoPPDJseq9ma"
      },
      "execution_count": 25,
      "outputs": []
    },
    {
      "cell_type": "code",
      "source": [
        "from langchain_google_genai import ChatGoogleGenerativeAI\n",
        "model = ChatGoogleGenerativeAI(model=\"gemini-2.0-flash\")"
      ],
      "metadata": {
        "id": "c1mzCoOurCOz"
      },
      "execution_count": 26,
      "outputs": []
    },
    {
      "cell_type": "markdown",
      "source": [
        "![image.png](data:image/png;base64,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)"
      ],
      "metadata": {
        "id": "lxgfCRrLrJYH"
      }
    },
    {
      "cell_type": "markdown",
      "source": [
        "**Tool Calling**"
      ],
      "metadata": {
        "id": "uVikckiqrMPu"
      }
    },
    {
      "cell_type": "code",
      "source": [
        "print(\"\\n\\n\\n\", model, \"\\n\\n\\n\")"
      ],
      "metadata": {
        "id": "LyRjR2iorFDW",
        "outputId": "5b83db53-2442-40d5-8983-469a070d0387",
        "colab": {
          "base_uri": "https://localhost:8080/"
        }
      },
      "execution_count": 27,
      "outputs": [
        {
          "output_type": "stream",
          "name": "stdout",
          "text": [
            "\n",
            "\n",
            "\n",
            " model='models/gemini-2.0-flash' google_api_key=SecretStr('**********') client=<google.ai.generativelanguage_v1beta.services.generative_service.client.GenerativeServiceClient object at 0x796a5b4e4950> default_metadata=() \n",
            "\n",
            "\n",
            "\n"
          ]
        }
      ]
    },
    {
      "cell_type": "code",
      "source": [
        "# Defining a function (tool) to deposit money\n",
        "def deposit_money(name: str, amount: int, account_number: int) -> dict:\n",
        "  \"\"\"\n",
        "  Deposit money in bank account\n",
        "\n",
        "  Args:\n",
        "    name: Name of the person\n",
        "    amount: Amount to be deposited\n",
        "    acount_number: Account Number of bank\n",
        "\n",
        "  Returns:\n",
        "    status (dict): Status of the deposit\n",
        "  \"\"\"\n",
        "  # Business logic to deposit money\n",
        "  # -----------------\n",
        "  return {\"status\": f\"Congratulation {name}: Successfully deposited {amount} Ruppee in {account_number}\"}"
      ],
      "metadata": {
        "id": "64wUJ_oRrTQU"
      },
      "execution_count": 28,
      "outputs": []
    },
    {
      "cell_type": "code",
      "source": [
        "# binding tool with model\n",
        "llm_with_tool = model.bind_tools([deposit_money])"
      ],
      "metadata": {
        "id": "-GD1X1bdsHwx",
        "outputId": "ef27ce84-c4c5-41ca-b5af-e99bb06a5764",
        "colab": {
          "base_uri": "https://localhost:8080/"
        }
      },
      "execution_count": 29,
      "outputs": [
        {
          "output_type": "stream",
          "name": "stderr",
          "text": [
            "WARNING:langchain_google_genai._function_utils:Key 'title' is not supported in schema, ignoring\n"
          ]
        }
      ]
    },
    {
      "cell_type": "code",
      "source": [
        "llm_with_tool"
      ],
      "metadata": {
        "id": "sVF6pJvusQf1",
        "outputId": "9317a191-bfeb-45db-f7f2-9731a5852a96",
        "colab": {
          "base_uri": "https://localhost:8080/"
        }
      },
      "execution_count": 30,
      "outputs": [
        {
          "output_type": "execute_result",
          "data": {
            "text/plain": [
              "RunnableBinding(bound=ChatGoogleGenerativeAI(model='models/gemini-2.0-flash', google_api_key=SecretStr('**********'), client=<google.ai.generativelanguage_v1beta.services.generative_service.client.GenerativeServiceClient object at 0x796a5b4e4950>, default_metadata=()), kwargs={'tools': [{'function_declarations': [{'name': 'deposit_money', 'description': 'Deposit money in bank account\\n\\nArgs:\\n  name: Name of the person\\n  amount: Amount to be deposited\\n  acount_number: Account Number of bank\\n\\nReturns:\\n  status (dict): Status of the deposit', 'parameters': {'type_': 6, 'description': 'Deposit money in bank account\\n\\nArgs:\\n  name: Name of the person\\n  amount: Amount to be deposited\\n  acount_number: Account Number of bank\\n\\nReturns:\\n  status (dict): Status of the deposit', 'properties': {'account_number': {'type_': 3, 'format_': '', 'description': '', 'nullable': False, 'enum': [], 'max_items': '0', 'min_items': '0', 'properties': {}, 'required': []}, 'amount': {'type_': 3, 'format_': '', 'description': '', 'nullable': False, 'enum': [], 'max_items': '0', 'min_items': '0', 'properties': {}, 'required': []}, 'name': {'type_': 1, 'format_': '', 'description': '', 'nullable': False, 'enum': [], 'max_items': '0', 'min_items': '0', 'properties': {}, 'required': []}}, 'required': ['name', 'amount', 'account_number'], 'format_': '', 'nullable': False, 'enum': [], 'max_items': '0', 'min_items': '0'}}]}]}, config={}, config_factories=[])"
            ]
          },
          "metadata": {},
          "execution_count": 30
        }
      ]
    },
    {
      "cell_type": "code",
      "source": [
        "# Invoke: Simple model\n",
        "model.invoke([\n",
        "    HumanMessage(content=\"Hello Gemini, how are you ?\")\n",
        "])"
      ],
      "metadata": {
        "id": "7C42MWjDsWgR",
        "outputId": "3e5f8097-ef6c-48ba-d422-fae540d141f2",
        "colab": {
          "base_uri": "https://localhost:8080/"
        }
      },
      "execution_count": 32,
      "outputs": [
        {
          "output_type": "execute_result",
          "data": {
            "text/plain": [
              "AIMessage(content=\"I am doing well, thank you for asking! As a large language model, I don't experience emotions or feelings like humans do, but I am functioning optimally and ready to assist you. How can I help you today?\", additional_kwargs={}, response_metadata={'prompt_feedback': {'block_reason': 0, 'safety_ratings': []}, 'finish_reason': 'STOP', 'safety_ratings': []}, id='run-afefe670-3982-437d-8b41-de27e426b48c-0', usage_metadata={'input_tokens': 7, 'output_tokens': 47, 'total_tokens': 54, 'input_token_details': {'cache_read': 0}})"
            ]
          },
          "metadata": {},
          "execution_count": 32
        }
      ]
    },
    {
      "cell_type": "code",
      "source": [
        "# Invoke: Simple model\n",
        "model.invoke([\n",
        "    HumanMessage(content=\"Deposit 2000 ruppess in Anas account. His account number is 123456\")\n",
        "])"
      ],
      "metadata": {
        "id": "j1H58RpUtpez",
        "outputId": "6eb0a2d3-7955-4a9b-ccb3-1cf05661943e",
        "colab": {
          "base_uri": "https://localhost:8080/"
        }
      },
      "execution_count": 33,
      "outputs": [
        {
          "output_type": "execute_result",
          "data": {
            "text/plain": [
              "AIMessage(content='Okay, I can help you with that. While I can\\'t directly deposit money (I\\'m just an AI), I can provide you with the information you\\'ll need to make the deposit.\\n\\nYou want to deposit 2000 Rupees into Anas\\' account. The account number is 123456.\\n\\nTo actually make the deposit, you\\'ll need to use one of the following methods:\\n\\n*   **Bank Transfer:** If you have online banking, you can likely transfer the money directly to Anas\\' account. You will need the bank name and possibly the branch code in addition to the account number.\\n\\n*   **Visiting a Bank Branch:** You can go to a branch of Anas\\' bank (if you know which bank it is) and deposit the money over the counter. You\\'ll need the account number.\\n\\n*   **UPI (Unified Payments Interface):** If Anas has a UPI ID linked to this account, you can use apps like Google Pay, PhonePe, or Paytm to transfer the money.\\n\\n*   **Other Payment Apps:** Some other mobile payment apps may also allow you to transfer money directly to a bank account.\\n\\n**Important Considerations:**\\n\\n*   **Bank Name:** You\\'ll likely need the name of the bank where Anas has his account.\\n*   **Account Name Verification:** Before completing the transaction, double-check that the account name displayed matches \"Anas\" to ensure you\\'re sending the money to the correct person.\\n*   **Transaction Fees:** Be aware of any potential transaction fees associated with the deposit method you choose.\\n*   **Confirmation:** Keep a record of the transaction confirmation (e.g., screenshot, transaction ID) for your records.\\n\\nPlease let me know if you need further assistance.', additional_kwargs={}, response_metadata={'prompt_feedback': {'block_reason': 0, 'safety_ratings': []}, 'finish_reason': 'STOP', 'safety_ratings': []}, id='run-39110ca0-3c03-4c64-904f-0feb75aca68b-0', usage_metadata={'input_tokens': 24, 'output_tokens': 370, 'total_tokens': 394, 'input_token_details': {'cache_read': 0}})"
            ]
          },
          "metadata": {},
          "execution_count": 33
        }
      ]
    },
    {
      "cell_type": "code",
      "source": [
        "# Invoke: Model with tool\n",
        "llm_with_tool.invoke([\n",
        "    HumanMessage(content=\"Hello Gemini, how are you ?\")\n",
        "])"
      ],
      "metadata": {
        "id": "BT2_byhgt3PP",
        "outputId": "7721fabf-3de1-4268-dec6-d1cbdc430597",
        "colab": {
          "base_uri": "https://localhost:8080/"
        }
      },
      "execution_count": 34,
      "outputs": [
        {
          "output_type": "execute_result",
          "data": {
            "text/plain": [
              "AIMessage(content='I am doing well, thank you for asking. How can I help you today?', additional_kwargs={}, response_metadata={'prompt_feedback': {'block_reason': 0, 'safety_ratings': []}, 'finish_reason': 'STOP', 'safety_ratings': []}, id='run-65a60144-e46f-46d5-9fe4-2aa2c5e595bf-0', usage_metadata={'input_tokens': 116, 'output_tokens': 18, 'total_tokens': 134, 'input_token_details': {'cache_read': 0}})"
            ]
          },
          "metadata": {},
          "execution_count": 34
        }
      ]
    },
    {
      "cell_type": "code",
      "source": [
        "# Invoke: Model with tool\n",
        "llm_with_tool.invoke([\n",
        "    HumanMessage(content=\"Deposit 2000 ruppess in Anas account. His account number is 123456\")\n",
        "])"
      ],
      "metadata": {
        "id": "Wo-8vFVCuFC-",
        "outputId": "83819451-e42d-416c-91dd-6d25fa5d277e",
        "colab": {
          "base_uri": "https://localhost:8080/"
        }
      },
      "execution_count": 35,
      "outputs": [
        {
          "output_type": "execute_result",
          "data": {
            "text/plain": [
              "AIMessage(content='', additional_kwargs={'function_call': {'name': 'deposit_money', 'arguments': '{\"account_number\": 123456.0, \"amount\": 2000.0, \"name\": \"Anas\"}'}}, response_metadata={'prompt_feedback': {'block_reason': 0, 'safety_ratings': []}, 'finish_reason': 'STOP', 'safety_ratings': []}, id='run-25a270a8-4625-4d75-9aa4-a6e5a0e9dc0c-0', tool_calls=[{'name': 'deposit_money', 'args': {'account_number': 123456.0, 'amount': 2000.0, 'name': 'Anas'}, 'id': '817da8e9-713d-492a-9797-a6b659e22b54', 'type': 'tool_call'}], usage_metadata={'input_tokens': 133, 'output_tokens': 9, 'total_tokens': 142, 'input_token_details': {'cache_read': 0}})"
            ]
          },
          "metadata": {},
          "execution_count": 35
        }
      ]
    },
    {
      "cell_type": "markdown",
      "source": [
        "**Building Graph**"
      ],
      "metadata": {
        "id": "WEUMTc1duTzP"
      }
    },
    {
      "cell_type": "code",
      "source": [
        "from langgraph.graph import StateGraph, START, END"
      ],
      "metadata": {
        "id": "scMA3pg3uK6K"
      },
      "execution_count": 36,
      "outputs": []
    },
    {
      "cell_type": "code",
      "source": [
        "# Defining our state\n",
        "from typing_extensions import TypedDict\n",
        "class State(TypedDict):\n",
        "  messages: list"
      ],
      "metadata": {
        "id": "onC6wLDFuZQi"
      },
      "execution_count": 42,
      "outputs": []
    },
    {
      "cell_type": "code",
      "source": [
        "# Defining node for LLM with tool call\n",
        "def call_model_with_tool(state: State):\n",
        "  messages = state[\"messages\"]\n",
        "  response = llm_with_tool.invoke(messages)\n",
        "  return {\"messages\": [response]}"
      ],
      "metadata": {
        "id": "mSaTOd2Yu6WO"
      },
      "execution_count": 43,
      "outputs": []
    },
    {
      "cell_type": "code",
      "source": [
        "# Building graph\n",
        "builder = StateGraph(State)\n",
        "\n",
        "# Add Node\n",
        "builder.add_node(\"call_model_with_tool\", call_model_with_tool)\n",
        "\n",
        "# Add Edges\n",
        "builder.add_edge(START, \"call_model_with_tool\")\n",
        "builder.add_edge(\"call_model_with_tool\", END)\n",
        "\n",
        "# Compile\n",
        "graph = builder.compile()"
      ],
      "metadata": {
        "id": "0936NQgBudvW"
      },
      "execution_count": 45,
      "outputs": []
    },
    {
      "cell_type": "code",
      "source": [
        "from IPython.display import Image, display\n",
        "display(Image(graph.get_graph().draw_mermaid_png()))"
      ],
      "metadata": {
        "id": "fk47KkA8voAC",
        "outputId": "dd50ecc3-8081-4ac8-c744-93d63b7c4642",
        "colab": {
          "base_uri": "https://localhost:8080/",
          "height": 251
        }
      },
      "execution_count": 46,
      "outputs": [
        {
          "output_type": "display_data",
          "data": {
            "image/png": "[encoded data removed]",
            "text/plain": [
              "<IPython.core.display.Image object>"
            ]
          },
          "metadata": {}
        }
      ]
    },
    {
      "cell_type": "code",
      "source": [
        "# Invoke\n",
        "graph.invoke({\"messages\": \"Hello, How are you ?\"})"
      ],
      "metadata": {
        "id": "-qsAzXrcvzO9",
        "outputId": "9b407832-837a-4ca3-a46d-0583f03c4f99",
        "colab": {
          "base_uri": "https://localhost:8080/"
        }
      },
      "execution_count": 48,
      "outputs": [
        {
          "output_type": "execute_result",
          "data": {
            "text/plain": [
              "{'messages': [AIMessage(content='I am doing well, thank you for asking. How can I help you today?', additional_kwargs={}, response_metadata={'prompt_feedback': {'block_reason': 0, 'safety_ratings': []}, 'finish_reason': 'STOP', 'safety_ratings': []}, id='run-b050a4d2-a1ac-4af6-be22-cb74d21bc26e-0', usage_metadata={'input_tokens': 115, 'output_tokens': 18, 'total_tokens': 133, 'input_token_details': {'cache_read': 0}})]}"
            ]
          },
          "metadata": {},
          "execution_count": 48
        }
      ]
    },
    {
      "cell_type": "code",
      "source": [
        "# Invoke\n",
        "graph.invoke({\"messages\": \"Deposit 200 ruppee in Anas account and his account number is 12345\"})"
      ],
      "metadata": {
        "id": "AFOZf-5Vv62T",
        "outputId": "0fe2a2bc-47c9-44f5-fd27-2f42b428a6f7",
        "colab": {
          "base_uri": "https://localhost:8080/"
        }
      },
      "execution_count": 49,
      "outputs": [
        {
          "output_type": "execute_result",
          "data": {
            "text/plain": [
              "{'messages': [AIMessage(content='', additional_kwargs={'function_call': {'name': 'deposit_money', 'arguments': '{\"account_number\": 12345.0, \"amount\": 200.0, \"name\": \"Anas\"}'}}, response_metadata={'prompt_feedback': {'block_reason': 0, 'safety_ratings': []}, 'finish_reason': 'STOP', 'safety_ratings': []}, id='run-cf72765a-7b8a-4d39-806c-2f026281ccf8-0', tool_calls=[{'name': 'deposit_money', 'args': {'account_number': 12345.0, 'amount': 200.0, 'name': 'Anas'}, 'id': 'c48220c3-735c-450b-bd27-f2cbd119f2f8', 'type': 'tool_call'}], usage_metadata={'input_tokens': 130, 'output_tokens': 9, 'total_tokens': 139, 'input_token_details': {'cache_read': 0}})]}"
            ]
          },
          "metadata": {},
          "execution_count": 49
        }
      ]
    },
    {
      "cell_type": "code",
      "source": [],
      "metadata": {
        "id": "8ryKk-iPwKtv"
      },
      "execution_count": null,
      "outputs": []
    }
  ],
  "metadata": {
    "colab": {
      "name": "Welcome To Colab",
      "provenance": []
    },
    "kernelspec": {
      "display_name": "Python 3",
      "name": "python3"
    }
  },
  "nbformat": 4,
  "nbformat_minor": 0
}