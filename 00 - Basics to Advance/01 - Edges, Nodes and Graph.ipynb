{
  "cells": [
    {
      "cell_type": "markdown",
      "source": [
        "# **Edges and Nodes**"
      ],
      "metadata": {
        "id": "OatQ0iRG7Vp7"
      }
    },
    {
      "cell_type": "code",
      "source": [
        "!pip install -q langgraph"
      ],
      "metadata": {
        "id": "CPMyJaOJ7VML"
      },
      "execution_count": 19,
      "outputs": []
    },
    {
      "cell_type": "markdown",
      "source": [
        "**State**"
      ],
      "metadata": {
        "id": "8BT3ayDN7duC"
      }
    },
    {
      "cell_type": "code",
      "source": [
        "from typing import TypedDict\n",
        "class LearningState(TypedDict):\n",
        "  prompt: str"
      ],
      "metadata": {
        "id": "c7CC3LqK7bX1"
      },
      "execution_count": 20,
      "outputs": []
    },
    {
      "cell_type": "code",
      "source": [
        "learning_state = LearningState(prompt=\"Hello from Anas Malik\")"
      ],
      "metadata": {
        "id": "25gZVLxQ7lIW"
      },
      "execution_count": 21,
      "outputs": []
    },
    {
      "cell_type": "code",
      "source": [
        "learning_state"
      ],
      "metadata": {
        "id": "LgNKynTr7sl5",
        "outputId": "f567b3f9-8b09-4207-87c7-ab9e56dc7946",
        "colab": {
          "base_uri": "https://localhost:8080/"
        }
      },
      "execution_count": 23,
      "outputs": [
        {
          "output_type": "execute_result",
          "data": {
            "text/plain": [
              "{'prompt': 'Hello from Anas Malik'}"
            ]
          },
          "metadata": {},
          "execution_count": 23
        }
      ]
    },
    {
      "cell_type": "code",
      "source": [
        "learning_state[\"prompt\"]"
      ],
      "metadata": {
        "id": "J2zhBZ8H7uJm",
        "outputId": "9dff7fa6-2990-4c7f-ea58-1e0ef74a5445",
        "colab": {
          "base_uri": "https://localhost:8080/",
          "height": 36
        }
      },
      "execution_count": 25,
      "outputs": [
        {
          "output_type": "execute_result",
          "data": {
            "text/plain": [
              "'Hello from Anas Malik'"
            ],
            "application/vnd.google.colaboratory.intrinsic+json": {
              "type": "string"
            }
          },
          "metadata": {},
          "execution_count": 25
        }
      ]
    },
    {
      "cell_type": "code",
      "source": [
        "learning_state[\"prompt\"] + \" I am happy.\""
      ],
      "metadata": {
        "id": "o1xUDQVY7w8f",
        "outputId": "07b651e6-d0c6-4132-9ee6-5a453b951479",
        "colab": {
          "base_uri": "https://localhost:8080/",
          "height": 36
        }
      },
      "execution_count": 26,
      "outputs": [
        {
          "output_type": "execute_result",
          "data": {
            "text/plain": [
              "'Hello from Anas Malik I am happy.'"
            ],
            "application/vnd.google.colaboratory.intrinsic+json": {
              "type": "string"
            }
          },
          "metadata": {},
          "execution_count": 26
        }
      ]
    },
    {
      "cell_type": "code",
      "source": [
        "print(learning_state[\"prompt\"])\n",
        "print(type(learning_state))"
      ],
      "metadata": {
        "id": "ypn3SXWR75pm",
        "outputId": "951590d5-4bc9-4080-824d-1e4b657178c6",
        "colab": {
          "base_uri": "https://localhost:8080/"
        }
      },
      "execution_count": 28,
      "outputs": [
        {
          "output_type": "stream",
          "name": "stdout",
          "text": [
            "Hello from Anas Malik\n",
            "<class 'dict'>\n"
          ]
        }
      ]
    },
    {
      "cell_type": "markdown",
      "source": [
        "**Nodes**"
      ],
      "metadata": {
        "id": "TnTJGCJx8DYi"
      }
    },
    {
      "cell_type": "code",
      "source": [
        "def node_1(state: LearningState) -> LearningState:\n",
        "  print(\"---NODE 1 STATE---\", state)\n",
        "  return {\"prompt\": state[\"prompt\"] + \" \" + \"I am\"}\n",
        "\n",
        "def node_2(state: LearningState) -> LearningState:\n",
        "  print(\"---NODE 2 STATE---\", state)\n",
        "  return {\"prompt\": state[\"prompt\"] + \" \" + \"Happy\"}\n",
        "\n",
        "def node_3(state: LearningState) -> LearningState:\n",
        "  print(\"---NODE 3 STATE---\", state)\n",
        "  return {\"prompt\": state[\"prompt\"] + \" \" + \"Absolutely.\"}"
      ],
      "metadata": {
        "id": "Ta83ogl17-1X"
      },
      "execution_count": 36,
      "outputs": []
    },
    {
      "cell_type": "markdown",
      "source": [
        "**Edges**"
      ],
      "metadata": {
        "id": "e6uu4oAX8rbU"
      }
    },
    {
      "cell_type": "code",
      "source": [
        "from langgraph.graph import StateGraph, START, END\n",
        "from langgraph.graph.state import CompiledStateGraph"
      ],
      "metadata": {
        "id": "2FaA-99H8oBC"
      },
      "execution_count": 30,
      "outputs": []
    },
    {
      "cell_type": "code",
      "source": [
        "# Build graph\n",
        "builder = StateGraph(state_schema=LearningState)\n",
        "\n",
        "# Add Nodes\n",
        "builder.add_node(\"node_1\", node_1)\n",
        "builder.add_node(\"node_2\", node_2)\n",
        "builder.add_node(\"node_3\", node_3)\n",
        "\n",
        "# Add Edges\n",
        "builder.add_edge(START, \"node_1\")\n",
        "builder.add_edge(\"node_1\", \"node_2\")\n",
        "builder.add_edge(\"node_2\", \"node_3\")\n",
        "builder.add_edge(\"node_3\", END)\n",
        "\n",
        "# Compile\n",
        "graph: CompiledStateGraph = builder.compile()"
      ],
      "metadata": {
        "id": "o1VQ3T3m85m4"
      },
      "execution_count": 37,
      "outputs": []
    },
    {
      "cell_type": "code",
      "source": [
        "# Visualize Graph\n",
        "from IPython.display import Image, display\n",
        "display(Image(graph.get_graph().draw_mermaid_png()))"
      ],
      "metadata": {
        "id": "aTzuNLvs9aTp",
        "outputId": "0d1f279e-465d-454d-f88b-5a4d500c7a54",
        "colab": {
          "base_uri": "https://localhost:8080/",
          "height": 449
        }
      },
      "execution_count": 38,
      "outputs": [
        {
          "output_type": "display_data",
          "data": {
            "image/png": "[encoded data removed]",
            "text/plain": [
              "<IPython.core.display.Image object>"
            ]
          },
          "metadata": {}
        }
      ]
    },
    {
      "cell_type": "code",
      "source": [
        "# Invoke\n",
        "graph.invoke({\"prompt\": \"Hello\"})"
      ],
      "metadata": {
        "id": "_TCGKgtw9ltD",
        "outputId": "b3a90fb0-58a9-4f39-c3e6-7b7b8c6bc328",
        "colab": {
          "base_uri": "https://localhost:8080/"
        }
      },
      "execution_count": 39,
      "outputs": [
        {
          "output_type": "stream",
          "name": "stdout",
          "text": [
            "---NODE 1 STATE--- {'prompt': 'Hello'}\n",
            "---NODE 2 STATE--- {'prompt': 'Hello I am'}\n",
            "---NODE 3 STATE--- {'prompt': 'Hello I am Happy'}\n"
          ]
        },
        {
          "output_type": "execute_result",
          "data": {
            "text/plain": [
              "{'prompt': 'Hello I am Happy Absolutely.'}"
            ]
          },
          "metadata": {},
          "execution_count": 39
        }
      ]
    },
    {
      "cell_type": "markdown",
      "source": [
        "# **LLM in Node**"
      ],
      "metadata": {
        "id": "FzEzDj5l-NXe"
      }
    },
    {
      "cell_type": "code",
      "source": [
        "%pip install -q -U langchain\n",
        "%pip install -q -U langchain-google-genai"
      ],
      "metadata": {
        "id": "f2Ac-BiU9qC_"
      },
      "execution_count": 40,
      "outputs": []
    },
    {
      "cell_type": "code",
      "source": [
        "import os\n",
        "from google.colab import userdata\n",
        "GEMINI_API_KEY = userdata.get('GEMINI_API_KEY')\n",
        "os.environ[\"GOOGLE_API_KEY\"]=GEMINI_API_KEY"
      ],
      "metadata": {
        "id": "ij2rlbon-SMf"
      },
      "execution_count": 42,
      "outputs": []
    },
    {
      "cell_type": "code",
      "source": [
        "from langchain_google_genai import ChatGoogleGenerativeAI\n",
        "\n",
        "llm = ChatGoogleGenerativeAI(model=\"gemini-2.0-flash\", temperature=0)"
      ],
      "metadata": {
        "id": "Wt_UAsTJ-aRR"
      },
      "execution_count": 43,
      "outputs": []
    },
    {
      "cell_type": "code",
      "source": [
        "# Import the AIMessage class currently will be used for typing\n",
        "from langchain_core.messages.ai import AIMessage\n",
        "\n",
        "ai_msg: AIMessage = llm.invoke(\"Hi?\")"
      ],
      "metadata": {
        "id": "yuPQ6Cwc_RcY"
      },
      "execution_count": 46,
      "outputs": []
    },
    {
      "cell_type": "code",
      "source": [
        "print(ai_msg.content)\n",
        "print(type(ai_msg.content))"
      ],
      "metadata": {
        "id": "PZysREJX_SgU",
        "outputId": "670b8846-7684-42cb-e826-69af0ffd9636",
        "colab": {
          "base_uri": "https://localhost:8080/"
        }
      },
      "execution_count": 47,
      "outputs": [
        {
          "output_type": "stream",
          "name": "stdout",
          "text": [
            "Hi there! How can I help you today?\n",
            "<class 'str'>\n"
          ]
        }
      ]
    },
    {
      "cell_type": "code",
      "source": [
        "from typing_extensions import TypedDict\n",
        "\n",
        "class FirstLLMAgentCall(TypedDict):\n",
        "  user_input: str\n",
        "  output: str"
      ],
      "metadata": {
        "id": "LC_SlPna-wKr"
      },
      "execution_count": 45,
      "outputs": []
    },
    {
      "cell_type": "code",
      "source": [
        "def node_1(state: FirstLLMAgentCall):\n",
        "  print(\"---NODE 1---\", state)\n",
        "  user_input = state[\"user_input\"]\n",
        "  ai_msg = llm.invoke(user_input)\n",
        "  return {\"output\": ai_msg.content}"
      ],
      "metadata": {
        "id": "WEZI2njH_ANY"
      },
      "execution_count": 48,
      "outputs": []
    },
    {
      "cell_type": "code",
      "source": [
        "# building graph\n",
        "builder = StateGraph(FirstLLMAgentCall)\n",
        "\n",
        "# Add Node\n",
        "builder.add_node(\"node_1\", node_1)\n",
        "\n",
        "# Add Edges\n",
        "builder.add_edge(START, \"node_1\")\n",
        "builder.add_edge(\"node_1\", END)\n",
        "\n",
        "# Compile\n",
        "graph: CompiledStateGraph = builder.compile()"
      ],
      "metadata": {
        "id": "mwuGKR37_mgr"
      },
      "execution_count": 49,
      "outputs": []
    },
    {
      "cell_type": "code",
      "source": [
        "# Visualize Graph\n",
        "from IPython.display import Image, display\n",
        "display(Image(graph.get_graph().draw_mermaid_png()))"
      ],
      "metadata": {
        "id": "Yg8EkXdnACHc",
        "outputId": "b4df20cf-09cf-4641-dee5-7ebc84265cad",
        "colab": {
          "base_uri": "https://localhost:8080/",
          "height": 251
        }
      },
      "execution_count": 50,
      "outputs": [
        {
          "output_type": "display_data",
          "data": {
            "image/png": "[encoded data removed]",
            "text/plain": [
              "<IPython.core.display.Image object>"
            ]
          },
          "metadata": {}
        }
      ]
    },
    {
      "cell_type": "code",
      "source": [
        "# Invoke\n",
        "graph.invoke({\"user_input\": \"Hello\"})"
      ],
      "metadata": {
        "id": "8wyhj3wyAM4U",
        "outputId": "b3beb054-3b3f-45eb-a1ba-964be2a95046",
        "colab": {
          "base_uri": "https://localhost:8080/"
        }
      },
      "execution_count": 52,
      "outputs": [
        {
          "output_type": "stream",
          "name": "stdout",
          "text": [
            "---NODE 1--- {'user_input': 'Hello'}\n"
          ]
        },
        {
          "output_type": "execute_result",
          "data": {
            "text/plain": [
              "{'user_input': 'Hello', 'output': 'Hello! How can I help you today?'}"
            ]
          },
          "metadata": {},
          "execution_count": 52
        }
      ]
    },
    {
      "cell_type": "code",
      "source": [
        "# Invoke\n",
        "graph.invoke({\"user_input\": \"Motivate me to learn LangGraph\"})"
      ],
      "metadata": {
        "id": "zvHmDqG5AYWt",
        "outputId": "1c982fbc-8951-46e2-b441-1d9e2248e111",
        "colab": {
          "base_uri": "https://localhost:8080/"
        }
      },
      "execution_count": 54,
      "outputs": [
        {
          "output_type": "stream",
          "name": "stdout",
          "text": [
            "---NODE 1--- {'user_input': 'Motivate me to learn LangGraph'}\n"
          ]
        },
        {
          "output_type": "execute_result",
          "data": {
            "text/plain": [
              "{'user_input': 'Motivate me to learn LangGraph',\n",
              " 'output': \"Okay, let's get you excited about learning LangGraph! Here's a breakdown of why LangGraph is worth your time, focusing on the problems it solves and the benefits it offers:\\n\\n**The Core Problem: Building Complex, Reliable, and Scalable LLM Applications**\\n\\nThink about the limitations of basic LLM chains:\\n\\n*   **Linearity:**  They're often just a sequence of steps.  What if you need branching logic, loops, or error handling?\\n*   **Limited State Management:**  Passing information between steps can become cumbersome, especially with complex dependencies.\\n*   **Debugging and Monitoring:**  Understanding *why* your LLM application is failing can be a nightmare.  It's hard to trace the flow of information and identify bottlenecks.\\n*   **Scalability:**  Simple chains might work for small tasks, but they often struggle to handle high volumes of requests or complex workflows.\\n*   **Agent Orchestration:** Building agents that can reason, plan, and execute complex tasks requires more than just a simple chain. You need a way to manage their state, goals, and interactions with tools.\\n\\n**LangGraph is the Solution: A Powerful Framework for Building LLM Graphs**\\n\\nLangGraph addresses these problems by providing a way to represent your LLM application as a **graph**.  Think of it like a flowchart for your LLM logic.  This unlocks a whole new level of power and flexibility:\\n\\n*   **Graph-Based Architecture:**\\n    *   **Nodes:** Represent individual steps in your workflow (e.g., calling an LLM, retrieving data, running a function).\\n    *   **Edges:** Define the connections between nodes, specifying the flow of information and control.\\n    *   **State:**  A central store for managing data that persists throughout the execution of the graph.\\n\\n*   **Key Benefits of Using LangGraph:**\\n\\n    *   **Complex Logic:**  Easily implement branching, loops, conditional execution, and other advanced control flow patterns.  No more struggling with nested `if` statements and convoluted chains.\\n    *   **State Management:**  The graph's state allows you to track the progress of your application, store intermediate results, and make decisions based on the current context.  This is crucial for building conversational agents and other stateful applications.\\n    *   **Improved Debugging and Monitoring:**  The graph structure makes it easier to visualize the flow of execution, identify bottlenecks, and understand why your application is behaving in a certain way.  You can trace the path of data through the graph and inspect the state at each step.\\n    *   **Enhanced Scalability:**  The modular nature of graphs makes it easier to scale your LLM applications.  You can break down complex tasks into smaller, independent nodes that can be executed in parallel.\\n    *   **Agent Orchestration:** LangGraph is particularly well-suited for building agents. You can use it to define the agent's planning process, tool selection logic, and interaction with the environment.\\n    *   **Modularity and Reusability:**  Nodes and edges can be easily reused across different graphs, promoting code reuse and reducing development time.\\n    *   **Clearer Code:**  Graph-based code is often more readable and maintainable than complex chains, especially for intricate workflows.\\n    *   **Experimentation:**  LangGraph makes it easier to experiment with different architectures and algorithms.  You can quickly modify the graph structure to test new ideas and optimize your application's performance.\\n\\n**Why You Should Be Excited to Learn LangGraph:**\\n\\n*   **Future-Proof Your Skills:**  As LLM applications become more sophisticated, graph-based architectures will become increasingly important.  Learning LangGraph now will give you a competitive edge in the field.\\n*   **Build More Powerful Applications:**  Unlock the ability to create LLM applications that were previously impossible or impractical to build with simple chains.\\n*   **Solve Real-World Problems:**  Tackle complex tasks like:\\n    *   **Building sophisticated conversational agents:**  Handle complex dialogues, manage user context, and integrate with external tools.\\n    *   **Automating complex workflows:**  Orchestrate multiple LLM calls, data retrieval steps, and function executions to automate tasks like document processing, data analysis, and report generation.\\n    *   **Creating personalized experiences:**  Tailor LLM responses based on user preferences, historical data, and real-time context.\\n    *   **Developing autonomous agents:**  Build agents that can plan, reason, and execute complex tasks in dynamic environments.\\n*   **Join a Growing Community:**  The LangChain ecosystem is vibrant and active.  You'll find plenty of resources, support, and inspiration from other developers.\\n\\n**Practical Motivation:**\\n\\n*   **Start Small:** Don't try to learn everything at once. Begin with a simple example, like a basic question-answering system with a loop for clarification.\\n*   **Find a Project:**  Think about a problem you're interested in solving with LLMs.  This will give you a concrete goal to work towards and keep you motivated.\\n*   **Follow Tutorials and Examples:**  LangChain provides excellent documentation and examples.  Start by working through these and then adapt them to your own projects.\\n*   **Contribute to the Community:**  Share your knowledge, ask questions, and contribute to open-source projects.  This is a great way to learn and connect with other developers.\\n\\n**In short, LangGraph is a game-changer for building complex, reliable, and scalable LLM applications.  It's a powerful tool that will empower you to create innovative solutions and stay ahead of the curve in the rapidly evolving field of AI.**\\n\\nSo, dive in, experiment, and start building! You'll be amazed at what you can achieve with LangGraph. Good luck!\"}"
            ]
          },
          "metadata": {},
          "execution_count": 54
        }
      ]
    },
    {
      "cell_type": "code",
      "source": [
        "result = graph.invoke({\"user_input\": \"Motivate me to learn LangGraph\"})"
      ],
      "metadata": {
        "id": "dtxueXDNAehv",
        "outputId": "eeaa5c36-1162-44af-c6e3-798b3755e65e",
        "colab": {
          "base_uri": "https://localhost:8080/"
        }
      },
      "execution_count": 55,
      "outputs": [
        {
          "output_type": "stream",
          "name": "stdout",
          "text": [
            "---NODE 1--- {'user_input': 'Motivate me to learn LangGraph'}\n"
          ]
        }
      ]
    },
    {
      "cell_type": "code",
      "source": [
        "# just another helpter function\n",
        "import textwrap\n",
        "from IPython.display import display, Markdown\n",
        "\n",
        "def to_markdown(text)-> Markdown:\n",
        "    text : str = text.replace(\"•\", \"  *\")\n",
        "    return Markdown(textwrap.indent(text, \"> \", predicate=lambda _: True))"
      ],
      "metadata": {
        "id": "rRstvU7rA5Jp"
      },
      "execution_count": 56,
      "outputs": []
    },
    {
      "cell_type": "code",
      "source": [
        "print(\"PROMPT: \", result['user_input'])\n",
        "to_markdown(result['output'])"
      ],
      "metadata": {
        "id": "F5TJ1DNcA7PI",
        "outputId": "1a9f2445-eb49-4eaf-9e2b-5ed560519d68",
        "colab": {
          "base_uri": "https://localhost:8080/",
          "height": 1000
        }
      },
      "execution_count": 58,
      "outputs": [
        {
          "output_type": "stream",
          "name": "stdout",
          "text": [
            "PROMPT:  Motivate me to learn LangGraph\n"
          ]
        },
        {
          "output_type": "execute_result",
          "data": {
            "text/plain": [
              "<IPython.core.display.Markdown object>"
            ],
            "text/markdown": "> Okay, let's get you excited about learning LangGraph! Here's a breakdown of why LangGraph is worth your time, focusing on the problems it solves and the benefits it offers:\n> \n> **The Core Problem: Building Complex, Reliable, and Scalable LLM Applications**\n> \n> Think about the limitations of basic LLM chains:\n> \n> *   **Linearity:**  They're often just a sequence of steps.  What if you need branching logic, loops, or error handling?\n> *   **Limited State Management:**  Passing information between steps can become cumbersome, especially with complex dependencies.\n> *   **Debugging and Monitoring:**  Understanding *why* your LLM application is failing can be a nightmare.  It's hard to trace the flow of information and identify bottlenecks.\n> *   **Scalability:**  Simple chains might work for small tasks, but they often struggle to handle high volumes of requests or complex workflows.\n> *   **Agent Orchestration:** Building agents that can reason, plan, and execute complex tasks requires more than just a simple chain. You need a way to manage their state, goals, and interactions with tools.\n> \n> **LangGraph is the Solution: A Powerful Framework for Building LLM Graphs**\n> \n> LangGraph addresses these problems by providing a way to represent your LLM application as a **graph**.  Think of it like a flowchart for your LLM logic.  This unlocks a whole new level of power and flexibility:\n> \n> *   **Graph-Based Architecture:**\n>     *   **Nodes:** Represent individual steps in your workflow (e.g., calling an LLM, retrieving data, running a function).\n>     *   **Edges:** Define the connections between nodes, specifying the flow of information and control.\n>     *   **State:**  A central store for managing data that persists throughout the execution of the graph.\n> \n> *   **Key Benefits of Using LangGraph:**\n> \n>     *   **Complex Logic:**  Easily implement branching, loops, conditional execution, and other advanced control flow patterns.  No more struggling with nested `if` statements and convoluted chains.\n>     *   **State Management:**  The graph's state allows you to track the progress of your application, store intermediate results, and make decisions based on the current context.  This is crucial for building conversational agents and other stateful applications.\n>     *   **Improved Debugging and Monitoring:**  The graph structure makes it easier to visualize the flow of execution, identify bottlenecks, and understand why your application is behaving in a certain way.  You can trace the path of data through the graph and inspect the state at each step.\n>     *   **Enhanced Scalability:**  The modular nature of graphs makes it easier to scale your LLM applications.  You can break down complex tasks into smaller, independent nodes that can be executed in parallel.\n>     *   **Agent Orchestration:** LangGraph is particularly well-suited for building agents. You can use it to define the agent's planning process, tool selection logic, and interaction with the environment.\n>     *   **Modularity and Reusability:**  Nodes and edges can be easily reused across different graphs, promoting code reuse and reducing development time.\n>     *   **Clearer Code:**  Graph-based code is often more readable and maintainable than complex chains, especially for intricate workflows.\n>     *   **Experimentation:**  LangGraph makes it easier to experiment with different architectures and algorithms.  You can quickly modify the graph structure to test new ideas and optimize your application's performance.\n> \n> **Why You Should Be Excited to Learn LangGraph:**\n> \n> *   **Future-Proof Your Skills:**  As LLM applications become more sophisticated, graph-based architectures will become increasingly important.  Learning LangGraph now will give you a competitive edge in the field.\n> *   **Build More Powerful Applications:**  Unlock the ability to create LLM applications that were previously impossible or impractical to build with simple chains.\n> *   **Solve Real-World Problems:**  Tackle complex tasks like:\n>     *   **Building sophisticated conversational agents:**  Handle complex dialogues, manage user context, and integrate with external tools.\n>     *   **Automating complex workflows:**  Orchestrate multiple LLM calls, data retrieval steps, and function executions to automate tasks like document processing, data analysis, and report generation.\n>     *   **Creating personalized experiences:**  Tailor LLM responses based on user preferences, historical data, and real-time context.\n>     *   **Developing autonomous agents:**  Build agents that can plan, reason, and execute complex tasks in dynamic environments.\n> *   **Join a Growing Community:**  The LangChain ecosystem is vibrant and active.  You'll find plenty of resources, support, and inspiration from other developers.\n> \n> **Practical Motivation:**\n> \n> *   **Start Small:** Don't try to learn everything at once. Begin with a simple example, like a basic question-answering system with a loop for clarification.\n> *   **Find a Project:**  Think about a problem you're interested in solving with LLMs.  This will give you a concrete goal to work towards and keep you motivated.\n> *   **Follow Tutorials and Examples:**  LangChain provides excellent documentation and examples.  Start by working through these and then adapt them to your own projects.\n> *   **Contribute to the Community:**  Share your knowledge, ask questions, and contribute to open-source projects.  This is a great way to learn and connect with other developers.\n> \n> **In short, LangGraph is a game-changer for building complex, reliable, and scalable LLM applications.  It's a powerful tool that will empower you to create innovative solutions and stay ahead of the curve in the rapidly evolving field of AI.**\n> \n> So, dive in, experiment, and start building! You'll be amazed at what you can achieve with LangGraph. Good luck!"
          },
          "metadata": {},
          "execution_count": 58
        }
      ]
    },
    {
      "cell_type": "code",
      "source": [],
      "metadata": {
        "id": "bD5fjPb3A9-O"
      },
      "execution_count": null,
      "outputs": []
    }
  ],
  "metadata": {
    "colab": {
      "name": "Welcome To Colab",
      "provenance": []
    },
    "kernelspec": {
      "display_name": "Python 3",
      "name": "python3"
    }
  },
  "nbformat": 4,
  "nbformat_minor": 0
}