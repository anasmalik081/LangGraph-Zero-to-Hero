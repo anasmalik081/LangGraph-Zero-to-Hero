{
  "cells": [
    {
      "cell_type": "markdown",
      "source": [
        "# **Chatbot with message summarization & external DB**"
      ],
      "metadata": {
        "id": "Y2x1bqXVY2q_"
      }
    },
    {
      "cell_type": "markdown",
      "source": [
        "**Review**\n",
        "\n",
        "We've covered how to customize graph state schema and reducer.\n",
        "\n",
        "We've also shown a number of tricks for trimming or filtering messages in graph state.\n",
        "\n",
        "We've used these concepts in a Chatbot with memory that produces a running summary of the conversation.\n",
        "\n",
        "**Goals**\n",
        "\n",
        "But, what if we want our Chatbot to have memory that persists indefinitely?\n",
        "\n",
        "Now, we'll introduce some more advanced checkpointers that support external databases.\n",
        "\n",
        "Here, we'll show how to use Sqlite as a checkpointer, but other checkpointers, such as Postgres are available!"
      ],
      "metadata": {
        "id": "eTh77Cz1Y-OG"
      }
    },
    {
      "cell_type": "code",
      "source": [
        "%%capture --no-stderr\n",
        "%pip install --quiet -U langgraph-checkpoint-sqlite langchain_core langgraph langchain_google_genai"
      ],
      "metadata": {
        "id": "Jft0OpKzY7_p"
      },
      "execution_count": 1,
      "outputs": []
    },
    {
      "cell_type": "code",
      "source": [
        "import os\n",
        "from google.colab import userdata\n",
        "GOOGLE_API_KEY=userdata.get('GOOGLE_API_KEY')\n",
        "os.environ[\"GOOGLE_API_KEY\"]=GOOGLE_API_KEY"
      ],
      "metadata": {
        "id": "HwlqJ-zyZOC0"
      },
      "execution_count": 2,
      "outputs": []
    },
    {
      "cell_type": "markdown",
      "source": [
        "## **SQLite**"
      ],
      "metadata": {
        "id": "I8IFiuWLZbJ9"
      }
    },
    {
      "cell_type": "markdown",
      "source": [
        "A good starting point here is the SqliteSaver checkpointer.\n",
        "\n",
        "Sqlite is a small, fast, highly popular SQL database.\n",
        "\n",
        "If we supply **\":memory:\"** it creates an in-memory Sqlite database."
      ],
      "metadata": {
        "id": "N-HAM3ftZfH3"
      }
    },
    {
      "cell_type": "code",
      "source": [
        "import sqlite3\n",
        "# In memory\n",
        "conn = sqlite3.connect(\":memory:\", check_same_thread = False)"
      ],
      "metadata": {
        "id": "hpVSEanYZXHk"
      },
      "execution_count": 3,
      "outputs": []
    },
    {
      "cell_type": "markdown",
      "source": [
        "But, if we supply a db path, then it will create a database for us!"
      ],
      "metadata": {
        "id": "XxalGP-WZpLX"
      }
    },
    {
      "cell_type": "code",
      "source": [
        "# pull file if it doesn't exist and connect to local db\n",
        "!mkdir -p state_db && [ ! -f state_db/example.db ] && wget -P state_db https://github.com/langchain-ai/langchain-academy/raw/main/module-2/state_db/example.db\n",
        "\n",
        "db_path = \"state_db/example.db\"\n",
        "conn = sqlite3.connect(db_path, check_same_thread=False)"
      ],
      "metadata": {
        "id": "w3izKeMaZnLM",
        "outputId": "2c238e7c-8570-498d-9bee-38f47cce1eff",
        "colab": {
          "base_uri": "https://localhost:8080/"
        }
      },
      "execution_count": 4,
      "outputs": [
        {
          "output_type": "stream",
          "name": "stdout",
          "text": [
            "--2025-02-20 08:08:37--  https://github.com/langchain-ai/langchain-academy/raw/main/module-2/state_db/example.db\n",
            "Resolving github.com (github.com)... 140.82.114.4\n",
            "Connecting to github.com (github.com)|140.82.114.4|:443... connected.\n",
            "HTTP request sent, awaiting response... 302 Found\n",
            "Location: https://raw.githubusercontent.com/langchain-ai/langchain-academy/main/module-2/state_db/example.db [following]\n",
            "--2025-02-20 08:08:37--  https://raw.githubusercontent.com/langchain-ai/langchain-academy/main/module-2/state_db/example.db\n",
            "Resolving raw.githubusercontent.com (raw.githubusercontent.com)... 185.199.110.133, 185.199.111.133, 185.199.108.133, ...\n",
            "Connecting to raw.githubusercontent.com (raw.githubusercontent.com)|185.199.110.133|:443... connected.\n",
            "HTTP request sent, awaiting response... 200 OK\n",
            "Length: 110592 (108K) [application/octet-stream]\n",
            "Saving to: ‘state_db/example.db’\n",
            "\n",
            "example.db          100%[===================>] 108.00K  --.-KB/s    in 0.02s   \n",
            "\n",
            "2025-02-20 08:08:38 (4.46 MB/s) - ‘state_db/example.db’ saved [110592/110592]\n",
            "\n"
          ]
        }
      ]
    },
    {
      "cell_type": "code",
      "source": [
        "# Here is our checkpointer\n",
        "from langgraph.checkpoint.sqlite import SqliteSaver\n",
        "memory = SqliteSaver(conn)"
      ],
      "metadata": {
        "id": "uLCtLGpAZs1X"
      },
      "execution_count": 5,
      "outputs": []
    },
    {
      "cell_type": "markdown",
      "source": [
        "## **Chatbot**"
      ],
      "metadata": {
        "id": "NDBMFqqHZ6gQ"
      }
    },
    {
      "cell_type": "code",
      "source": [
        "from langgraph.graph import START, END, StateGraph\n",
        "from langgraph.graph import MessagesState\n",
        "from langchain_core.messages import SystemMessage, HumanMessage, RemoveMessage"
      ],
      "metadata": {
        "id": "_uJPOfdEZ2pm"
      },
      "execution_count": 11,
      "outputs": []
    },
    {
      "cell_type": "code",
      "source": [
        "from langchain_google_genai import ChatGoogleGenerativeAI\n",
        "# Loading Model\n",
        "model = ChatGoogleGenerativeAI(model=\"gemini-2.0-flash\")"
      ],
      "metadata": {
        "id": "DDrhxaqdaM5D"
      },
      "execution_count": 8,
      "outputs": []
    },
    {
      "cell_type": "code",
      "source": [
        "# Defining state\n",
        "class State(MessagesState):\n",
        "  summary: str"
      ],
      "metadata": {
        "id": "QP9yFu3uaDOK"
      },
      "execution_count": 7,
      "outputs": []
    },
    {
      "cell_type": "code",
      "source": [
        "# call model node\n",
        "def call_model(state: MessagesState) -> State:\n",
        "  # Get the summary\n",
        "  summary = state.get(\"summary\", \"\")\n",
        "  if summary:\n",
        "    # Add summary to system message\n",
        "    sys_message = f\"Summary of conversation earlier: {summary}\"\n",
        "    messages = [SystemMessage(content=sys_message) + HumanMessage(content=state[\"messages\"])]\n",
        "  else:\n",
        "    messages = state[\"messages\"]\n",
        "  response = model.invoke(messages)\n",
        "  return {\"messages\": response}\n",
        "\n",
        "# summarize conversation node\n",
        "def summarize_conversation(state: MessagesState) -> State:\n",
        "  # Get the summary\n",
        "  summary = state.get(\"summary\", \"\")\n",
        "  if summary:\n",
        "    summary_message = (\n",
        "        f\"This is summary of the conversation to date: {summary}\\n\\n\"\n",
        "        \"Extend the summary by taking into account the new messages above:\"\n",
        "    )\n",
        "  else:\n",
        "    summary_message = \"Create the summary of the conversation above:\"\n",
        "\n",
        "  # Add prompt to history\n",
        "  messages = state[\"messages\"] + [HumanMessage(content=summary_message)]\n",
        "  response = model.invoke(messages)\n",
        "\n",
        "  # Delete messages except 2 most recent\n",
        "  deleted_messages = [RemoveMessage(msg.id) for msg in state[\"messages\"][:-2]]\n",
        "  return {\"summary\": response.content, \"messages\": deleted_messages}"
      ],
      "metadata": {
        "id": "eNWxaaRCaJE7"
      },
      "execution_count": 12,
      "outputs": []
    },
    {
      "cell_type": "code",
      "source": [
        "from typing import Literal\n",
        "# Determine whether to end or summarize the conversation\n",
        "def should_continue(state: State) -> Literal[\"summarize_conversation\", END]:\n",
        "  \"\"\"Returns the next node to execute\"\"\"\n",
        "  messages = state[\"messages\"]\n",
        "  # If there are more than six messages, then we summarize the conversation\n",
        "  if len(messages) > 6:\n",
        "      return \"summarize_conversation\"\n",
        "  return END"
      ],
      "metadata": {
        "id": "9y9gR192cTO5"
      },
      "execution_count": 13,
      "outputs": []
    },
    {
      "cell_type": "markdown",
      "source": [
        "Now, we just re-compile with our sqlite checkpointer."
      ],
      "metadata": {
        "id": "0NHQ1wqrc487"
      }
    },
    {
      "cell_type": "code",
      "source": [
        "# Workflow\n",
        "workflow = StateGraph(MessagesState)\n",
        "\n",
        "# Add Node\n",
        "workflow.add_node(\"call_model\", call_model)\n",
        "workflow.add_node(\"summarize_conversation\", summarize_conversation)\n",
        "\n",
        "# Add Edge\n",
        "workflow.add_edge(START, \"call_model\")\n",
        "workflow.add_conditional_edges(\"call_model\", should_continue)\n",
        "workflow.add_edge(\"summarize_conversation\", END)\n",
        "\n",
        "# Compile\n",
        "graph = workflow.compile(checkpointer=memory)"
      ],
      "metadata": {
        "id": "__jdDZXqaqZ9"
      },
      "execution_count": 14,
      "outputs": []
    },
    {
      "cell_type": "code",
      "source": [
        "# Visualize\n",
        "from IPython.display import Image, display\n",
        "display(Image(graph.get_graph().draw_mermaid_png()))"
      ],
      "metadata": {
        "id": "XLvBRg6HdhoV",
        "outputId": "9d98540f-175e-45e8-e7ed-2d500608bdfc",
        "colab": {
          "base_uri": "https://localhost:8080/",
          "height": 350
        }
      },
      "execution_count": 15,
      "outputs": [
        {
          "output_type": "display_data",
          "data": {
            "image/png": "[encoded data removed]",
            "text/plain": [
              "<IPython.core.display.Image object>"
            ]
          },
          "metadata": {}
        }
      ]
    },
    {
      "cell_type": "markdown",
      "source": [
        "Now, we can invoke the graph several times."
      ],
      "metadata": {
        "id": "4pJp9Ot7dtVE"
      }
    },
    {
      "cell_type": "code",
      "source": [
        "# Create a thread\n",
        "config = {\"configurable\": {\"thread_id\": \"1\"}}"
      ],
      "metadata": {
        "id": "4McjfF8hdpmC"
      },
      "execution_count": 16,
      "outputs": []
    },
    {
      "cell_type": "code",
      "source": [
        "# By default our DB have conversation for thread 1\n",
        "graph.get_state(config)"
      ],
      "metadata": {
        "id": "fi7HchDadwmX",
        "outputId": "b9b8dd14-0055-486a-92a1-35fd8cccf335",
        "colab": {
          "base_uri": "https://localhost:8080/"
        }
      },
      "execution_count": 20,
      "outputs": [
        {
          "output_type": "execute_result",
          "data": {
            "text/plain": [
              "StateSnapshot(values={'messages': [HumanMessage(content=\"hi! I'm Lance\", additional_kwargs={}, response_metadata={}, id='086e80ce-8bd0-4dee-b13c-f47160d6755f'), AIMessage(content=\"Hello Lance! You've already introduced yourself, but it's nice to greet you again. Is there something specific you'd like to talk about? Perhaps you'd like to continue our conversation about the 49ers, or is there another topic you're interested in discussing?\", additional_kwargs={}, response_metadata={'id': 'msg_01AkDF6AH7LMp2YDDD9jQkEC', 'model': 'claude-3-5-sonnet-20240620', 'stop_reason': 'end_turn', 'stop_sequence': None, 'usage': {'input_tokens': 197, 'output_tokens': 58}}, id='run-7f8af5e1-5248-4ccd-ab46-87580422f0d6-0', usage_metadata={'input_tokens': 197, 'output_tokens': 58, 'total_tokens': 255}), HumanMessage(content=\"what's my name?\", additional_kwargs={}, response_metadata={}, id='e33f42ee-cdb0-45ec-b100-54dcd4c82e71'), AIMessage(content=\"Your name is Lance. You've introduced yourself twice during our conversation.\", additional_kwargs={}, response_metadata={'id': 'msg_01LVJSCjRjmRd3QA2UMP6SXg', 'model': 'claude-3-5-sonnet-20240620', 'stop_reason': 'end_turn', 'stop_sequence': None, 'usage': {'input_tokens': 193, 'output_tokens': 17}}, id='run-4152603e-5c5f-4a26-be8c-2b2bab373e75-0', usage_metadata={'input_tokens': 193, 'output_tokens': 17, 'total_tokens': 210}), HumanMessage(content='i like the 49ers!', additional_kwargs={}, response_metadata={}, id='85513182-bfb9-445b-b6ff-a6553bf63767'), AIMessage(content=\"Yes, you've mentioned that you like the San Francisco 49ers! They're a popular NFL team with a rich history. Since you're a fan, is there anything specific about the 49ers you'd like to discuss? We could talk about:\\n\\n1. Their current roster and key players\\n2. The team's history and past achievements\\n3. Memorable games or seasons\\n4. Their prospects for the upcoming season\\n5. The team's rivalries\\n6. Their home stadium, Levi's Stadium\\n\\nWhat aspect of the 49ers interests you most?\", additional_kwargs={}, response_metadata={'id': 'msg_018FVfpp9brQykX53VK88tv5', 'model': 'claude-3-5-sonnet-20240620', 'stop_reason': 'end_turn', 'stop_sequence': None, 'usage': {'input_tokens': 220, 'output_tokens': 123}}, id='run-68b784a6-c518-4904-a208-6214b7223414-0', usage_metadata={'input_tokens': 220, 'output_tokens': 123, 'total_tokens': 343})]}, next=(), config={'configurable': {'thread_id': '1', 'checkpoint_ns': '', 'checkpoint_id': '1ef64b23-31cd-655a-8011-d28d83f59223'}}, metadata={'source': 'loop', 'writes': {'conversation': {'messages': AIMessage(content=\"Yes, you've mentioned that you like the San Francisco 49ers! They're a popular NFL team with a rich history. Since you're a fan, is there anything specific about the 49ers you'd like to discuss? We could talk about:\\n\\n1. Their current roster and key players\\n2. The team's history and past achievements\\n3. Memorable games or seasons\\n4. Their prospects for the upcoming season\\n5. The team's rivalries\\n6. Their home stadium, Levi's Stadium\\n\\nWhat aspect of the 49ers interests you most?\", additional_kwargs={}, response_metadata={'id': 'msg_018FVfpp9brQykX53VK88tv5', 'model': 'claude-3-5-sonnet-20240620', 'stop_reason': 'end_turn', 'stop_sequence': None, 'usage': {'input_tokens': 220, 'output_tokens': 123}}, id='run-68b784a6-c518-4904-a208-6214b7223414-0', usage_metadata={'input_tokens': 220, 'output_tokens': 123, 'total_tokens': 343})}}, 'step': 17}, created_at='2024-08-27T20:23:19.625843+00:00', parent_config={'configurable': {'thread_id': '1', 'checkpoint_ns': '', 'checkpoint_id': '1ef64b23-1a48-6402-8010-79e09364e17f'}}, tasks=())"
            ]
          },
          "metadata": {},
          "execution_count": 20
        }
      ]
    },
    {
      "cell_type": "code",
      "source": [
        "# Create another thread\n",
        "config = {\"configurable\": {\"thread_id\": \"2\"}}"
      ],
      "metadata": {
        "id": "pRL-Y2Wid0Sk"
      },
      "execution_count": 21,
      "outputs": []
    },
    {
      "cell_type": "code",
      "source": [
        "graph.get_state(config)"
      ],
      "metadata": {
        "id": "rQa69iLSeAJJ",
        "outputId": "73e4ab2e-0581-4c8a-d6e5-a205c3200f1b",
        "colab": {
          "base_uri": "https://localhost:8080/"
        }
      },
      "execution_count": 22,
      "outputs": [
        {
          "output_type": "execute_result",
          "data": {
            "text/plain": [
              "StateSnapshot(values={}, next=(), config={'configurable': {'thread_id': '2'}}, metadata=None, created_at=None, parent_config=None, tasks=())"
            ]
          },
          "metadata": {},
          "execution_count": 22
        }
      ]
    },
    {
      "cell_type": "code",
      "source": [
        "# Start conversation\n",
        "input_message = HumanMessage(content=\"hi! I'm Lance\")\n",
        "output = graph.invoke({\"messages\": [input_message]}, config)\n",
        "for m in output['messages'][-1:]:\n",
        "    m.pretty_print()\n",
        "\n",
        "input_message = HumanMessage(content=\"what's my name?\")\n",
        "output = graph.invoke({\"messages\": [input_message]}, config)\n",
        "for m in output['messages'][-1:]:\n",
        "    m.pretty_print()\n",
        "\n",
        "input_message = HumanMessage(content=\"i like the 49ers!\")\n",
        "output = graph.invoke({\"messages\": [input_message]}, config)\n",
        "for m in output['messages'][-1:]:\n",
        "    m.pretty_print()"
      ],
      "metadata": {
        "id": "fuykDkmGeBxH",
        "outputId": "b7f0e616-d647-4c7b-b31d-058a3fdffbea",
        "colab": {
          "base_uri": "https://localhost:8080/"
        }
      },
      "execution_count": 23,
      "outputs": [
        {
          "output_type": "stream",
          "name": "stdout",
          "text": [
            "==================================\u001b[1m Ai Message \u001b[0m==================================\n",
            "\n",
            "Hi Lance! It's nice to meet you. How can I help you today?\n",
            "==================================\u001b[1m Ai Message \u001b[0m==================================\n",
            "\n",
            "Your name is Lance. You just told me! 😊\n",
            "==================================\u001b[1m Ai Message \u001b[0m==================================\n",
            "\n",
            "That's awesome! They're a great team. What's your favorite thing about the 49ers? Are you excited for the upcoming season?\n"
          ]
        }
      ]
    },
    {
      "cell_type": "code",
      "source": [
        "graph.get_state(config)"
      ],
      "metadata": {
        "id": "1iCeq25seHAH",
        "outputId": "4843e579-b7c1-42d9-b876-672c81796d56",
        "colab": {
          "base_uri": "https://localhost:8080/"
        }
      },
      "execution_count": 24,
      "outputs": [
        {
          "output_type": "execute_result",
          "data": {
            "text/plain": [
              "StateSnapshot(values={'messages': [HumanMessage(content=\"hi! I'm Lance\", additional_kwargs={}, response_metadata={}, id='31312bbe-fcf1-433f-9b3c-2b595b03af67'), AIMessage(content=\"Hi Lance! It's nice to meet you. How can I help you today?\", additional_kwargs={}, response_metadata={'prompt_feedback': {'block_reason': 0, 'safety_ratings': []}, 'finish_reason': 'STOP', 'safety_ratings': []}, id='run-d76b1059-bd4f-440d-bb3f-88222c231937-0', usage_metadata={'input_tokens': 6, 'output_tokens': 19, 'total_tokens': 25, 'input_token_details': {'cache_read': 0}}), HumanMessage(content=\"what's my name?\", additional_kwargs={}, response_metadata={}, id='808d0827-ac86-4fb4-8ced-4c3cad797987'), AIMessage(content='Your name is Lance. You just told me! 😊', additional_kwargs={}, response_metadata={'prompt_feedback': {'block_reason': 0, 'safety_ratings': []}, 'finish_reason': 'STOP', 'safety_ratings': []}, id='run-819c0299-3820-47a3-aece-fe5783620d0e-0', usage_metadata={'input_tokens': 30, 'output_tokens': 12, 'total_tokens': 42, 'input_token_details': {'cache_read': 0}}), HumanMessage(content='i like the 49ers!', additional_kwargs={}, response_metadata={}, id='e5d3cb52-2c25-460a-976a-71b4859ab597'), AIMessage(content=\"That's awesome! They're a great team. What's your favorite thing about the 49ers? Are you excited for the upcoming season?\", additional_kwargs={}, response_metadata={'prompt_feedback': {'block_reason': 0, 'safety_ratings': []}, 'finish_reason': 'STOP', 'safety_ratings': []}, id='run-c38204ad-00e2-4bb3-9fef-4b2a3a4b1538-0', usage_metadata={'input_tokens': 49, 'output_tokens': 34, 'total_tokens': 83, 'input_token_details': {'cache_read': 0}})]}, next=(), config={'configurable': {'thread_id': '2', 'checkpoint_ns': '', 'checkpoint_id': '1efef649-503c-652e-8007-a299dcae8cd4'}}, metadata={'source': 'loop', 'writes': {'call_model': {'messages': AIMessage(content=\"That's awesome! They're a great team. What's your favorite thing about the 49ers? Are you excited for the upcoming season?\", additional_kwargs={}, response_metadata={'prompt_feedback': {'block_reason': 0, 'safety_ratings': []}, 'finish_reason': 'STOP', 'safety_ratings': []}, id='run-c38204ad-00e2-4bb3-9fef-4b2a3a4b1538-0', usage_metadata={'input_tokens': 49, 'output_tokens': 34, 'total_tokens': 83, 'input_token_details': {'cache_read': 0}})}}, 'thread_id': '2', 'step': 7, 'parents': {}}, created_at='2025-02-20T08:27:54.759470+00:00', parent_config={'configurable': {'thread_id': '2', 'checkpoint_ns': '', 'checkpoint_id': '1efef649-4ba6-6086-8006-f961112345ec'}}, tasks=())"
            ]
          },
          "metadata": {},
          "execution_count": 24
        }
      ]
    },
    {
      "cell_type": "markdown",
      "source": [
        "## **Persisting State**"
      ],
      "metadata": {
        "id": "1Eg5z_7zeRMs"
      }
    },
    {
      "cell_type": "markdown",
      "source": [
        "Using database like Sqlite means state is persisted!\n",
        "\n",
        "For example, we can re-start the notebook kernel and see that we can still load from Sqlite DB on disk."
      ],
      "metadata": {
        "id": "thEBeggGeU7a"
      }
    },
    {
      "cell_type": "code",
      "source": [
        "# Create a thread\n",
        "config = {\"configurable\": {\"thread_id\": \"2\"}}\n",
        "graph.get_state(config)"
      ],
      "metadata": {
        "id": "N9uzbidOeMVv",
        "outputId": "df473893-1401-4c1f-8923-6ca8ac424ff2",
        "colab": {
          "base_uri": "https://localhost:8080/"
        }
      },
      "execution_count": 25,
      "outputs": [
        {
          "output_type": "execute_result",
          "data": {
            "text/plain": [
              "StateSnapshot(values={'messages': [HumanMessage(content=\"hi! I'm Lance\", additional_kwargs={}, response_metadata={}, id='31312bbe-fcf1-433f-9b3c-2b595b03af67'), AIMessage(content=\"Hi Lance! It's nice to meet you. How can I help you today?\", additional_kwargs={}, response_metadata={'prompt_feedback': {'block_reason': 0, 'safety_ratings': []}, 'finish_reason': 'STOP', 'safety_ratings': []}, id='run-d76b1059-bd4f-440d-bb3f-88222c231937-0', usage_metadata={'input_tokens': 6, 'output_tokens': 19, 'total_tokens': 25, 'input_token_details': {'cache_read': 0}}), HumanMessage(content=\"what's my name?\", additional_kwargs={}, response_metadata={}, id='808d0827-ac86-4fb4-8ced-4c3cad797987'), AIMessage(content='Your name is Lance. You just told me! 😊', additional_kwargs={}, response_metadata={'prompt_feedback': {'block_reason': 0, 'safety_ratings': []}, 'finish_reason': 'STOP', 'safety_ratings': []}, id='run-819c0299-3820-47a3-aece-fe5783620d0e-0', usage_metadata={'input_tokens': 30, 'output_tokens': 12, 'total_tokens': 42, 'input_token_details': {'cache_read': 0}}), HumanMessage(content='i like the 49ers!', additional_kwargs={}, response_metadata={}, id='e5d3cb52-2c25-460a-976a-71b4859ab597'), AIMessage(content=\"That's awesome! They're a great team. What's your favorite thing about the 49ers? Are you excited for the upcoming season?\", additional_kwargs={}, response_metadata={'prompt_feedback': {'block_reason': 0, 'safety_ratings': []}, 'finish_reason': 'STOP', 'safety_ratings': []}, id='run-c38204ad-00e2-4bb3-9fef-4b2a3a4b1538-0', usage_metadata={'input_tokens': 49, 'output_tokens': 34, 'total_tokens': 83, 'input_token_details': {'cache_read': 0}})]}, next=(), config={'configurable': {'thread_id': '2', 'checkpoint_ns': '', 'checkpoint_id': '1efef649-503c-652e-8007-a299dcae8cd4'}}, metadata={'source': 'loop', 'writes': {'call_model': {'messages': AIMessage(content=\"That's awesome! They're a great team. What's your favorite thing about the 49ers? Are you excited for the upcoming season?\", additional_kwargs={}, response_metadata={'prompt_feedback': {'block_reason': 0, 'safety_ratings': []}, 'finish_reason': 'STOP', 'safety_ratings': []}, id='run-c38204ad-00e2-4bb3-9fef-4b2a3a4b1538-0', usage_metadata={'input_tokens': 49, 'output_tokens': 34, 'total_tokens': 83, 'input_token_details': {'cache_read': 0}})}}, 'thread_id': '2', 'step': 7, 'parents': {}}, created_at='2025-02-20T08:27:54.759470+00:00', parent_config={'configurable': {'thread_id': '2', 'checkpoint_ns': '', 'checkpoint_id': '1efef649-4ba6-6086-8006-f961112345ec'}}, tasks=())"
            ]
          },
          "metadata": {},
          "execution_count": 25
        }
      ]
    },
    {
      "cell_type": "code",
      "source": [],
      "metadata": {
        "id": "nWZYqev8eZP1"
      },
      "execution_count": null,
      "outputs": []
    }
  ],
  "metadata": {
    "colab": {
      "name": "Welcome To Colab",
      "provenance": []
    },
    "kernelspec": {
      "display_name": "Python 3",
      "name": "python3"
    }
  },
  "nbformat": 4,
  "nbformat_minor": 0
}